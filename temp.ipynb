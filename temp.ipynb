{
 "cells": [
  {
   "cell_type": "code",
   "execution_count": 142,
   "metadata": {},
   "outputs": [],
   "source": [
    "import pandas as pd\n",
    "import numpy as np\n",
    "import seaborn as sns\n",
    "import matplotlib.pyplot as plt\n",
    "\n",
    "import scipy\n",
    "import scipy.stats as stats\n",
    "import sklearn.impute as simpleImputer\n",
    "from sklearn.model_selection import train_test_split\n",
    "from sklearn.neighbors import KNeighborsClassifier,KNeighborsRegressor\n",
    "from sklearn.preprocessing import MinMaxScaler,StandardScaler,RobustScaler,PolynomialFeatures,QuantileTransformer\n",
    "from sklearn.metrics import mean_squared_error, r2_score, explained_variance_score\n",
    "from sklearn.linear_model import LinearRegression, LassoLars, TweedieRegressor\n",
    "import plotly.express as px\n",
    "\n",
    "import acquire\n",
    "import acq\n",
    "import wrangle_zillow\n",
    "import wrangle_mall\n",
    "import explore_zillow\n",
    "import env"
   ]
  },
  {
   "cell_type": "markdown",
   "metadata": {},
   "source": [
    "# Acquire data from the customers table in the mall_customers database"
   ]
  },
  {
   "cell_type": "code",
   "execution_count": 143,
   "metadata": {},
   "outputs": [],
   "source": [
    "df = acq.get_mallcustomer_data()\n"
   ]
  },
  {
   "cell_type": "code",
   "execution_count": 144,
   "metadata": {},
   "outputs": [],
   "source": [
    "num_missing = df.isnull().sum(axis=1)\n",
    "prnt_miss = num_missing / df.shape[1] * 100\n",
    "rows_missing = pd.DataFrame({'num_cols_missing': num_missing, 'percent_cols_missing': prnt_miss})\\\n",
    ".reset_index().groupby(['num_cols_missing', 'percent_cols_missing']).count().reset_index()"
   ]
  },
  {
   "cell_type": "code",
   "execution_count": 145,
   "metadata": {},
   "outputs": [
    {
     "data": {
      "text/plain": [
       "'customer_id'"
      ]
     },
     "execution_count": 145,
     "metadata": {},
     "output_type": "execute_result"
    }
   ],
   "source": [
    "rows_missing.columns[-1]"
   ]
  },
  {
   "cell_type": "code",
   "execution_count": 146,
   "metadata": {},
   "outputs": [
    {
     "name": "stdout",
     "output_type": "stream",
     "text": [
      "<class 'pandas.core.frame.DataFrame'>\n",
      "Int64Index: 200 entries, 1 to 200\n",
      "Data columns (total 4 columns):\n",
      " #   Column          Non-Null Count  Dtype \n",
      "---  ------          --------------  ----- \n",
      " 0   gender          200 non-null    object\n",
      " 1   age             200 non-null    int64 \n",
      " 2   annual_income   200 non-null    int64 \n",
      " 3   spending_score  200 non-null    int64 \n",
      "dtypes: int64(3), object(1)\n",
      "memory usage: 7.8+ KB\n",
      "None\n"
     ]
    }
   ],
   "source": [
    "print(df.info())"
   ]
  },
  {
   "cell_type": "markdown",
   "metadata": {},
   "source": [
    "# Summarize the data (include distributions and descriptive statistics)."
   ]
  },
  {
   "cell_type": "code",
   "execution_count": 147,
   "metadata": {},
   "outputs": [
    {
     "name": "stdout",
     "output_type": "stream",
     "text": [
      "<class 'pandas.core.frame.DataFrame'>\n",
      "Int64Index: 200 entries, 1 to 200\n",
      "Data columns (total 4 columns):\n",
      " #   Column          Non-Null Count  Dtype \n",
      "---  ------          --------------  ----- \n",
      " 0   gender          200 non-null    object\n",
      " 1   age             200 non-null    int64 \n",
      " 2   annual_income   200 non-null    int64 \n",
      " 3   spending_score  200 non-null    int64 \n",
      "dtypes: int64(3), object(1)\n",
      "memory usage: 7.8+ KB\n",
      "\n",
      "\tnulls by column\n",
      " gender            0\n",
      "age               0\n",
      "annual_income     0\n",
      "spending_score    0\n",
      "dtype: int64\n"
     ]
    },
    {
     "data": {
      "text/html": [
       "<div>\n",
       "<style scoped>\n",
       "    .dataframe tbody tr th:only-of-type {\n",
       "        vertical-align: middle;\n",
       "    }\n",
       "\n",
       "    .dataframe tbody tr th {\n",
       "        vertical-align: top;\n",
       "    }\n",
       "\n",
       "    .dataframe thead th {\n",
       "        text-align: right;\n",
       "    }\n",
       "</style>\n",
       "<table border=\"1\" class=\"dataframe\">\n",
       "  <thead>\n",
       "    <tr style=\"text-align: right;\">\n",
       "      <th></th>\n",
       "      <th>age</th>\n",
       "      <th>annual_income</th>\n",
       "      <th>spending_score</th>\n",
       "    </tr>\n",
       "  </thead>\n",
       "  <tbody>\n",
       "    <tr>\n",
       "      <th>count</th>\n",
       "      <td>200.000000</td>\n",
       "      <td>200.000000</td>\n",
       "      <td>200.000000</td>\n",
       "    </tr>\n",
       "    <tr>\n",
       "      <th>mean</th>\n",
       "      <td>38.850000</td>\n",
       "      <td>60.560000</td>\n",
       "      <td>50.200000</td>\n",
       "    </tr>\n",
       "    <tr>\n",
       "      <th>std</th>\n",
       "      <td>13.969007</td>\n",
       "      <td>26.264721</td>\n",
       "      <td>25.823522</td>\n",
       "    </tr>\n",
       "    <tr>\n",
       "      <th>min</th>\n",
       "      <td>18.000000</td>\n",
       "      <td>15.000000</td>\n",
       "      <td>1.000000</td>\n",
       "    </tr>\n",
       "    <tr>\n",
       "      <th>25%</th>\n",
       "      <td>28.750000</td>\n",
       "      <td>41.500000</td>\n",
       "      <td>34.750000</td>\n",
       "    </tr>\n",
       "    <tr>\n",
       "      <th>50%</th>\n",
       "      <td>36.000000</td>\n",
       "      <td>61.500000</td>\n",
       "      <td>50.000000</td>\n",
       "    </tr>\n",
       "    <tr>\n",
       "      <th>75%</th>\n",
       "      <td>49.000000</td>\n",
       "      <td>78.000000</td>\n",
       "      <td>73.000000</td>\n",
       "    </tr>\n",
       "    <tr>\n",
       "      <th>max</th>\n",
       "      <td>70.000000</td>\n",
       "      <td>137.000000</td>\n",
       "      <td>99.000000</td>\n",
       "    </tr>\n",
       "  </tbody>\n",
       "</table>\n",
       "</div>"
      ],
      "text/plain": [
       "              age  annual_income  spending_score\n",
       "count  200.000000     200.000000      200.000000\n",
       "mean    38.850000      60.560000       50.200000\n",
       "std     13.969007      26.264721       25.823522\n",
       "min     18.000000      15.000000        1.000000\n",
       "25%     28.750000      41.500000       34.750000\n",
       "50%     36.000000      61.500000       50.000000\n",
       "75%     49.000000      78.000000       73.000000\n",
       "max     70.000000     137.000000       99.000000"
      ]
     },
     "execution_count": 147,
     "metadata": {},
     "output_type": "execute_result"
    },
    {
     "data": {
      "image/png": "[encoded data removed]",
      "text/plain": [
       "<Figure size 1800x360 with 4 Axes>"
      ]
     },
     "metadata": {
      "needs_background": "light"
     },
     "output_type": "display_data"
    }
   ],
   "source": [
    "df.info()\n",
    "#df.value_counts().to_frame()\n",
    "plt.figure(figsize=(25, 5))\n",
    "for i, col in enumerate(df.columns.tolist()): # List of columns\n",
    "    plot_number = i + 1 # i starts at 0, but plot nos should start at 1\n",
    "    plt.subplot(1,len(df.columns.tolist()), plot_number) # Create subplot.\n",
    "    plt.title(f\"histogram of {col}\") # Title with column name.\n",
    "    plt.xlabel(col)\n",
    "    plt.ylabel(\"count\")\n",
    "    df[col].hist(bins=10) # Display histogram for column.\n",
    "    plt.grid(False) # Hide gridlines.\n",
    "\n",
    "print(\"\\n\\tnulls by column\\n\", df.isna().sum())\n",
    "df.describe()\n"
   ]
  },
  {
   "cell_type": "code",
   "execution_count": 148,
   "metadata": {},
   "outputs": [
    {
     "data": {
      "text/plain": [
       "(0.0, '%')"
      ]
     },
     "execution_count": 148,
     "metadata": {},
     "output_type": "execute_result"
    }
   ],
   "source": [
    "num_missing = df.isna().sum().sum()\n",
    "prnt_miss = num_missing / (df.shape[1]*df.shape[0]) * 100\n",
    "prnt_miss, \"%\""
   ]
  },
  {
   "cell_type": "markdown",
   "metadata": {},
   "source": [
    "# Detect outliers using IQR"
   ]
  },
  {
   "cell_type": "code",
   "execution_count": 149,
   "metadata": {},
   "outputs": [],
   "source": [
    "def get_outliers(df, k):\n",
    "   '''\n",
    "    Given a series and a cutoff value, k (tukey value), returns the upper outliers for the series.\n",
    "    The values returned will be either 0 (if the point is not an outlier), or a\n",
    "    number that indicates how far away from the upper bound (q3 + (k*iqr)) the observation is.\n",
    "   '''\n",
    "   for col in df.describe().columns:\n",
    "      if not col.endswith('_outlier'):\n",
    "         q1, q3 = df[col].quantile([.25, .75])\n",
    "         iqr = q3 - q1\n",
    "         upper_bound = q3 + k * iqr\n",
    "         lower_bound = q1 - k * iqr\n",
    "         #print(col)\n",
    "         df[f\"{col}_outlier\"] = np.where((df[col] - upper_bound) > 0,(df[col] - upper_bound),\n",
    "                                       np.where((df[col] - lower_bound)<0,(df[col] - lower_bound),0))\n",
    "\n",
    "   outlier_cols = [col for col in df if col.endswith('_outlier')]\n",
    "   for col in outlier_cols:\n",
    "      print('~~~\\n' + col)\n",
    "      data = df[col][df[col] > 0]\n",
    "      print(data.describe())\n",
    "   return df,outlier_cols"
   ]
  },
  {
   "cell_type": "code",
   "execution_count": 150,
   "metadata": {},
   "outputs": [
    {
     "name": "stdout",
     "output_type": "stream",
     "text": [
      "~~~\n",
      "age_outlier\n",
      "count    0.0\n",
      "mean     NaN\n",
      "std      NaN\n",
      "min      NaN\n",
      "25%      NaN\n",
      "50%      NaN\n",
      "75%      NaN\n",
      "max      NaN\n",
      "Name: age_outlier, dtype: float64\n",
      "~~~\n",
      "annual_income_outlier\n",
      "count    2.00\n",
      "mean     4.25\n",
      "std      0.00\n",
      "min      4.25\n",
      "25%      4.25\n",
      "50%      4.25\n",
      "75%      4.25\n",
      "max      4.25\n",
      "Name: annual_income_outlier, dtype: float64\n",
      "~~~\n",
      "spending_score_outlier\n",
      "count    0.0\n",
      "mean     NaN\n",
      "std      NaN\n",
      "min      NaN\n",
      "25%      NaN\n",
      "50%      NaN\n",
      "75%      NaN\n",
      "max      NaN\n",
      "Name: spending_score_outlier, dtype: float64\n"
     ]
    },
    {
     "data": {
      "text/html": [
       "<div>\n",
       "<style scoped>\n",
       "    .dataframe tbody tr th:only-of-type {\n",
       "        vertical-align: middle;\n",
       "    }\n",
       "\n",
       "    .dataframe tbody tr th {\n",
       "        vertical-align: top;\n",
       "    }\n",
       "\n",
       "    .dataframe thead th {\n",
       "        text-align: right;\n",
       "    }\n",
       "</style>\n",
       "<table border=\"1\" class=\"dataframe\">\n",
       "  <thead>\n",
       "    <tr style=\"text-align: right;\">\n",
       "      <th></th>\n",
       "      <th>gender</th>\n",
       "      <th>age</th>\n",
       "      <th>annual_income</th>\n",
       "      <th>spending_score</th>\n",
       "      <th>age_outlier</th>\n",
       "      <th>annual_income_outlier</th>\n",
       "      <th>spending_score_outlier</th>\n",
       "    </tr>\n",
       "    <tr>\n",
       "      <th>customer_id</th>\n",
       "      <th></th>\n",
       "      <th></th>\n",
       "      <th></th>\n",
       "      <th></th>\n",
       "      <th></th>\n",
       "      <th></th>\n",
       "      <th></th>\n",
       "    </tr>\n",
       "  </thead>\n",
       "  <tbody>\n",
       "    <tr>\n",
       "      <th>1</th>\n",
       "      <td>Male</td>\n",
       "      <td>19</td>\n",
       "      <td>15</td>\n",
       "      <td>39</td>\n",
       "      <td>0.0</td>\n",
       "      <td>0.00</td>\n",
       "      <td>0.0</td>\n",
       "    </tr>\n",
       "    <tr>\n",
       "      <th>2</th>\n",
       "      <td>Male</td>\n",
       "      <td>21</td>\n",
       "      <td>15</td>\n",
       "      <td>81</td>\n",
       "      <td>0.0</td>\n",
       "      <td>0.00</td>\n",
       "      <td>0.0</td>\n",
       "    </tr>\n",
       "    <tr>\n",
       "      <th>3</th>\n",
       "      <td>Female</td>\n",
       "      <td>20</td>\n",
       "      <td>16</td>\n",
       "      <td>6</td>\n",
       "      <td>0.0</td>\n",
       "      <td>0.00</td>\n",
       "      <td>0.0</td>\n",
       "    </tr>\n",
       "    <tr>\n",
       "      <th>4</th>\n",
       "      <td>Female</td>\n",
       "      <td>23</td>\n",
       "      <td>16</td>\n",
       "      <td>77</td>\n",
       "      <td>0.0</td>\n",
       "      <td>0.00</td>\n",
       "      <td>0.0</td>\n",
       "    </tr>\n",
       "    <tr>\n",
       "      <th>5</th>\n",
       "      <td>Female</td>\n",
       "      <td>31</td>\n",
       "      <td>17</td>\n",
       "      <td>40</td>\n",
       "      <td>0.0</td>\n",
       "      <td>0.00</td>\n",
       "      <td>0.0</td>\n",
       "    </tr>\n",
       "    <tr>\n",
       "      <th>...</th>\n",
       "      <td>...</td>\n",
       "      <td>...</td>\n",
       "      <td>...</td>\n",
       "      <td>...</td>\n",
       "      <td>...</td>\n",
       "      <td>...</td>\n",
       "      <td>...</td>\n",
       "    </tr>\n",
       "    <tr>\n",
       "      <th>196</th>\n",
       "      <td>Female</td>\n",
       "      <td>35</td>\n",
       "      <td>120</td>\n",
       "      <td>79</td>\n",
       "      <td>0.0</td>\n",
       "      <td>0.00</td>\n",
       "      <td>0.0</td>\n",
       "    </tr>\n",
       "    <tr>\n",
       "      <th>197</th>\n",
       "      <td>Female</td>\n",
       "      <td>45</td>\n",
       "      <td>126</td>\n",
       "      <td>28</td>\n",
       "      <td>0.0</td>\n",
       "      <td>0.00</td>\n",
       "      <td>0.0</td>\n",
       "    </tr>\n",
       "    <tr>\n",
       "      <th>198</th>\n",
       "      <td>Male</td>\n",
       "      <td>32</td>\n",
       "      <td>126</td>\n",
       "      <td>74</td>\n",
       "      <td>0.0</td>\n",
       "      <td>0.00</td>\n",
       "      <td>0.0</td>\n",
       "    </tr>\n",
       "    <tr>\n",
       "      <th>199</th>\n",
       "      <td>Male</td>\n",
       "      <td>32</td>\n",
       "      <td>137</td>\n",
       "      <td>18</td>\n",
       "      <td>0.0</td>\n",
       "      <td>4.25</td>\n",
       "      <td>0.0</td>\n",
       "    </tr>\n",
       "    <tr>\n",
       "      <th>200</th>\n",
       "      <td>Male</td>\n",
       "      <td>30</td>\n",
       "      <td>137</td>\n",
       "      <td>83</td>\n",
       "      <td>0.0</td>\n",
       "      <td>4.25</td>\n",
       "      <td>0.0</td>\n",
       "    </tr>\n",
       "  </tbody>\n",
       "</table>\n",
       "<p>200 rows × 7 columns</p>\n",
       "</div>"
      ],
      "text/plain": [
       "             gender  age  annual_income  spending_score  age_outlier  \\\n",
       "customer_id                                                            \n",
       "1              Male   19             15              39          0.0   \n",
       "2              Male   21             15              81          0.0   \n",
       "3            Female   20             16               6          0.0   \n",
       "4            Female   23             16              77          0.0   \n",
       "5            Female   31             17              40          0.0   \n",
       "...             ...  ...            ...             ...          ...   \n",
       "196          Female   35            120              79          0.0   \n",
       "197          Female   45            126              28          0.0   \n",
       "198            Male   32            126              74          0.0   \n",
       "199            Male   32            137              18          0.0   \n",
       "200            Male   30            137              83          0.0   \n",
       "\n",
       "             annual_income_outlier  spending_score_outlier  \n",
       "customer_id                                                 \n",
       "1                             0.00                     0.0  \n",
       "2                             0.00                     0.0  \n",
       "3                             0.00                     0.0  \n",
       "4                             0.00                     0.0  \n",
       "5                             0.00                     0.0  \n",
       "...                            ...                     ...  \n",
       "196                           0.00                     0.0  \n",
       "197                           0.00                     0.0  \n",
       "198                           0.00                     0.0  \n",
       "199                           4.25                     0.0  \n",
       "200                           4.25                     0.0  \n",
       "\n",
       "[200 rows x 7 columns]"
      ]
     },
     "execution_count": 150,
     "metadata": {},
     "output_type": "execute_result"
    }
   ],
   "source": [
    "df_temp,_ = get_outliers(df,1.5)\n",
    "\n",
    "df_temp"
   ]
  },
  {
   "cell_type": "markdown",
   "metadata": {},
   "source": [
    "# Encode categorical columns using a one hot encoder (pd.get_dummies)."
   ]
  },
  {
   "cell_type": "code",
   "execution_count": 151,
   "metadata": {},
   "outputs": [
    {
     "data": {
      "text/html": [
       "<div>\n",
       "<style scoped>\n",
       "    .dataframe tbody tr th:only-of-type {\n",
       "        vertical-align: middle;\n",
       "    }\n",
       "\n",
       "    .dataframe tbody tr th {\n",
       "        vertical-align: top;\n",
       "    }\n",
       "\n",
       "    .dataframe thead th {\n",
       "        text-align: right;\n",
       "    }\n",
       "</style>\n",
       "<table border=\"1\" class=\"dataframe\">\n",
       "  <thead>\n",
       "    <tr style=\"text-align: right;\">\n",
       "      <th></th>\n",
       "      <th>age</th>\n",
       "      <th>annual_income</th>\n",
       "      <th>spending_score</th>\n",
       "      <th>age_outlier</th>\n",
       "      <th>annual_income_outlier</th>\n",
       "      <th>spending_score_outlier</th>\n",
       "      <th>Male</th>\n",
       "    </tr>\n",
       "    <tr>\n",
       "      <th>customer_id</th>\n",
       "      <th></th>\n",
       "      <th></th>\n",
       "      <th></th>\n",
       "      <th></th>\n",
       "      <th></th>\n",
       "      <th></th>\n",
       "      <th></th>\n",
       "    </tr>\n",
       "  </thead>\n",
       "  <tbody>\n",
       "    <tr>\n",
       "      <th>1</th>\n",
       "      <td>19</td>\n",
       "      <td>15</td>\n",
       "      <td>39</td>\n",
       "      <td>0.0</td>\n",
       "      <td>0.00</td>\n",
       "      <td>0.0</td>\n",
       "      <td>1</td>\n",
       "    </tr>\n",
       "    <tr>\n",
       "      <th>2</th>\n",
       "      <td>21</td>\n",
       "      <td>15</td>\n",
       "      <td>81</td>\n",
       "      <td>0.0</td>\n",
       "      <td>0.00</td>\n",
       "      <td>0.0</td>\n",
       "      <td>1</td>\n",
       "    </tr>\n",
       "    <tr>\n",
       "      <th>3</th>\n",
       "      <td>20</td>\n",
       "      <td>16</td>\n",
       "      <td>6</td>\n",
       "      <td>0.0</td>\n",
       "      <td>0.00</td>\n",
       "      <td>0.0</td>\n",
       "      <td>0</td>\n",
       "    </tr>\n",
       "    <tr>\n",
       "      <th>4</th>\n",
       "      <td>23</td>\n",
       "      <td>16</td>\n",
       "      <td>77</td>\n",
       "      <td>0.0</td>\n",
       "      <td>0.00</td>\n",
       "      <td>0.0</td>\n",
       "      <td>0</td>\n",
       "    </tr>\n",
       "    <tr>\n",
       "      <th>5</th>\n",
       "      <td>31</td>\n",
       "      <td>17</td>\n",
       "      <td>40</td>\n",
       "      <td>0.0</td>\n",
       "      <td>0.00</td>\n",
       "      <td>0.0</td>\n",
       "      <td>0</td>\n",
       "    </tr>\n",
       "    <tr>\n",
       "      <th>...</th>\n",
       "      <td>...</td>\n",
       "      <td>...</td>\n",
       "      <td>...</td>\n",
       "      <td>...</td>\n",
       "      <td>...</td>\n",
       "      <td>...</td>\n",
       "      <td>...</td>\n",
       "    </tr>\n",
       "    <tr>\n",
       "      <th>196</th>\n",
       "      <td>35</td>\n",
       "      <td>120</td>\n",
       "      <td>79</td>\n",
       "      <td>0.0</td>\n",
       "      <td>0.00</td>\n",
       "      <td>0.0</td>\n",
       "      <td>0</td>\n",
       "    </tr>\n",
       "    <tr>\n",
       "      <th>197</th>\n",
       "      <td>45</td>\n",
       "      <td>126</td>\n",
       "      <td>28</td>\n",
       "      <td>0.0</td>\n",
       "      <td>0.00</td>\n",
       "      <td>0.0</td>\n",
       "      <td>0</td>\n",
       "    </tr>\n",
       "    <tr>\n",
       "      <th>198</th>\n",
       "      <td>32</td>\n",
       "      <td>126</td>\n",
       "      <td>74</td>\n",
       "      <td>0.0</td>\n",
       "      <td>0.00</td>\n",
       "      <td>0.0</td>\n",
       "      <td>1</td>\n",
       "    </tr>\n",
       "    <tr>\n",
       "      <th>199</th>\n",
       "      <td>32</td>\n",
       "      <td>137</td>\n",
       "      <td>18</td>\n",
       "      <td>0.0</td>\n",
       "      <td>4.25</td>\n",
       "      <td>0.0</td>\n",
       "      <td>1</td>\n",
       "    </tr>\n",
       "    <tr>\n",
       "      <th>200</th>\n",
       "      <td>30</td>\n",
       "      <td>137</td>\n",
       "      <td>83</td>\n",
       "      <td>0.0</td>\n",
       "      <td>4.25</td>\n",
       "      <td>0.0</td>\n",
       "      <td>1</td>\n",
       "    </tr>\n",
       "  </tbody>\n",
       "</table>\n",
       "<p>200 rows × 7 columns</p>\n",
       "</div>"
      ],
      "text/plain": [
       "             age  annual_income  spending_score  age_outlier  \\\n",
       "customer_id                                                    \n",
       "1             19             15              39          0.0   \n",
       "2             21             15              81          0.0   \n",
       "3             20             16               6          0.0   \n",
       "4             23             16              77          0.0   \n",
       "5             31             17              40          0.0   \n",
       "...          ...            ...             ...          ...   \n",
       "196           35            120              79          0.0   \n",
       "197           45            126              28          0.0   \n",
       "198           32            126              74          0.0   \n",
       "199           32            137              18          0.0   \n",
       "200           30            137              83          0.0   \n",
       "\n",
       "             annual_income_outlier  spending_score_outlier  Male  \n",
       "customer_id                                                       \n",
       "1                             0.00                     0.0     1  \n",
       "2                             0.00                     0.0     1  \n",
       "3                             0.00                     0.0     0  \n",
       "4                             0.00                     0.0     0  \n",
       "5                             0.00                     0.0     0  \n",
       "...                            ...                     ...   ...  \n",
       "196                           0.00                     0.0     0  \n",
       "197                           0.00                     0.0     0  \n",
       "198                           0.00                     0.0     1  \n",
       "199                           4.25                     0.0     1  \n",
       "200                           4.25                     0.0     1  \n",
       "\n",
       "[200 rows x 7 columns]"
      ]
     },
     "execution_count": 151,
     "metadata": {},
     "output_type": "execute_result"
    }
   ],
   "source": [
    "for col in df.select_dtypes(include=['object']).columns:\n",
    "    df = pd.concat([df,pd.get_dummies(df[col],drop_first=True)],axis=1)\n",
    "    df.drop(columns=col,inplace=True)\n",
    "df"
   ]
  },
  {
   "cell_type": "markdown",
   "metadata": {},
   "source": [
    "# Split data into train, validate, and test."
   ]
  },
  {
   "cell_type": "code",
   "execution_count": 152,
   "metadata": {},
   "outputs": [
    {
     "name": "stdout",
     "output_type": "stream",
     "text": [
      "train -> (120, 7)\n",
      "validate -> (40, 7)\n",
      "test -> (40, 7)\n"
     ]
    }
   ],
   "source": [
    "# Create train_validate and test datasets\n",
    "train_validate, test = train_test_split(df, test_size=0.2, random_state=123)\n",
    "# Create train and validate datsets\n",
    "train, validate = train_test_split(train_validate, test_size=0.25, random_state=123)\n",
    "\n",
    "print(f\"train -> {train.shape}\")\n",
    "print(f\"validate -> {validate.shape}\")\n",
    "print(f\"test -> {test.shape}\")\n",
    "\n",
    "target = \"spending_score\"\n",
    "\n",
    "# split train into X (dataframe, drop target) & y (series, keep target only)\n",
    "X_train = train.drop(columns=[target])\n",
    "y_train = train[target]\n",
    "\n",
    "# split validate into X (dataframe, drop target) & y (series, keep target only)\n",
    "X_validate = validate.drop(columns=[target])\n",
    "y_validate = validate[target]\n",
    "\n",
    "# split test into X (dataframe, drop target) & y (series, keep target only)\n",
    "X_test = test.drop(columns=[target])\n",
    "y_test = test[target]\n",
    "\n"
   ]
  },
  {
   "cell_type": "markdown",
   "metadata": {},
   "source": [
    "# Handles missing values."
   ]
  },
  {
   "cell_type": "code",
   "execution_count": 153,
   "metadata": {},
   "outputs": [],
   "source": [
    "def handle_missing_values(df, prop_required_column = .5, prop_required_row = .75):\n",
    "    threshold = int(round(prop_required_column*len(df.index),0))\n",
    "    df.dropna(axis=1, thresh=threshold, inplace=True)\n",
    "    threshold = int(round(prop_required_row*len(df.columns),0))\n",
    "    df.dropna(axis=0, thresh=threshold, inplace=True)\n",
    "    return df\n",
    "\n",
    "def data_prep(df, cols_to_remove=[], prop_required_column=.5, prop_required_row=.75):\n",
    "    df = df.drop(columns=cols_to_remove)\n",
    "    df = handle_missing_values(df, prop_required_column, prop_required_row)\n",
    "    return df"
   ]
  },
  {
   "cell_type": "code",
   "execution_count": 154,
   "metadata": {},
   "outputs": [
    {
     "data": {
      "text/html": [
       "<div>\n",
       "<style scoped>\n",
       "    .dataframe tbody tr th:only-of-type {\n",
       "        vertical-align: middle;\n",
       "    }\n",
       "\n",
       "    .dataframe tbody tr th {\n",
       "        vertical-align: top;\n",
       "    }\n",
       "\n",
       "    .dataframe thead th {\n",
       "        text-align: right;\n",
       "    }\n",
       "</style>\n",
       "<table border=\"1\" class=\"dataframe\">\n",
       "  <thead>\n",
       "    <tr style=\"text-align: right;\">\n",
       "      <th></th>\n",
       "      <th>age</th>\n",
       "      <th>annual_income</th>\n",
       "      <th>spending_score</th>\n",
       "      <th>age_outlier</th>\n",
       "      <th>annual_income_outlier</th>\n",
       "      <th>spending_score_outlier</th>\n",
       "      <th>Male</th>\n",
       "    </tr>\n",
       "    <tr>\n",
       "      <th>customer_id</th>\n",
       "      <th></th>\n",
       "      <th></th>\n",
       "      <th></th>\n",
       "      <th></th>\n",
       "      <th></th>\n",
       "      <th></th>\n",
       "      <th></th>\n",
       "    </tr>\n",
       "  </thead>\n",
       "  <tbody>\n",
       "    <tr>\n",
       "      <th>1</th>\n",
       "      <td>19</td>\n",
       "      <td>15</td>\n",
       "      <td>39</td>\n",
       "      <td>0.0</td>\n",
       "      <td>0.00</td>\n",
       "      <td>0.0</td>\n",
       "      <td>1</td>\n",
       "    </tr>\n",
       "    <tr>\n",
       "      <th>2</th>\n",
       "      <td>21</td>\n",
       "      <td>15</td>\n",
       "      <td>81</td>\n",
       "      <td>0.0</td>\n",
       "      <td>0.00</td>\n",
       "      <td>0.0</td>\n",
       "      <td>1</td>\n",
       "    </tr>\n",
       "    <tr>\n",
       "      <th>3</th>\n",
       "      <td>20</td>\n",
       "      <td>16</td>\n",
       "      <td>6</td>\n",
       "      <td>0.0</td>\n",
       "      <td>0.00</td>\n",
       "      <td>0.0</td>\n",
       "      <td>0</td>\n",
       "    </tr>\n",
       "    <tr>\n",
       "      <th>4</th>\n",
       "      <td>23</td>\n",
       "      <td>16</td>\n",
       "      <td>77</td>\n",
       "      <td>0.0</td>\n",
       "      <td>0.00</td>\n",
       "      <td>0.0</td>\n",
       "      <td>0</td>\n",
       "    </tr>\n",
       "    <tr>\n",
       "      <th>5</th>\n",
       "      <td>31</td>\n",
       "      <td>17</td>\n",
       "      <td>40</td>\n",
       "      <td>0.0</td>\n",
       "      <td>0.00</td>\n",
       "      <td>0.0</td>\n",
       "      <td>0</td>\n",
       "    </tr>\n",
       "    <tr>\n",
       "      <th>...</th>\n",
       "      <td>...</td>\n",
       "      <td>...</td>\n",
       "      <td>...</td>\n",
       "      <td>...</td>\n",
       "      <td>...</td>\n",
       "      <td>...</td>\n",
       "      <td>...</td>\n",
       "    </tr>\n",
       "    <tr>\n",
       "      <th>196</th>\n",
       "      <td>35</td>\n",
       "      <td>120</td>\n",
       "      <td>79</td>\n",
       "      <td>0.0</td>\n",
       "      <td>0.00</td>\n",
       "      <td>0.0</td>\n",
       "      <td>0</td>\n",
       "    </tr>\n",
       "    <tr>\n",
       "      <th>197</th>\n",
       "      <td>45</td>\n",
       "      <td>126</td>\n",
       "      <td>28</td>\n",
       "      <td>0.0</td>\n",
       "      <td>0.00</td>\n",
       "      <td>0.0</td>\n",
       "      <td>0</td>\n",
       "    </tr>\n",
       "    <tr>\n",
       "      <th>198</th>\n",
       "      <td>32</td>\n",
       "      <td>126</td>\n",
       "      <td>74</td>\n",
       "      <td>0.0</td>\n",
       "      <td>0.00</td>\n",
       "      <td>0.0</td>\n",
       "      <td>1</td>\n",
       "    </tr>\n",
       "    <tr>\n",
       "      <th>199</th>\n",
       "      <td>32</td>\n",
       "      <td>137</td>\n",
       "      <td>18</td>\n",
       "      <td>0.0</td>\n",
       "      <td>4.25</td>\n",
       "      <td>0.0</td>\n",
       "      <td>1</td>\n",
       "    </tr>\n",
       "    <tr>\n",
       "      <th>200</th>\n",
       "      <td>30</td>\n",
       "      <td>137</td>\n",
       "      <td>83</td>\n",
       "      <td>0.0</td>\n",
       "      <td>4.25</td>\n",
       "      <td>0.0</td>\n",
       "      <td>1</td>\n",
       "    </tr>\n",
       "  </tbody>\n",
       "</table>\n",
       "<p>200 rows × 7 columns</p>\n",
       "</div>"
      ],
      "text/plain": [
       "             age  annual_income  spending_score  age_outlier  \\\n",
       "customer_id                                                    \n",
       "1             19             15              39          0.0   \n",
       "2             21             15              81          0.0   \n",
       "3             20             16               6          0.0   \n",
       "4             23             16              77          0.0   \n",
       "5             31             17              40          0.0   \n",
       "...          ...            ...             ...          ...   \n",
       "196           35            120              79          0.0   \n",
       "197           45            126              28          0.0   \n",
       "198           32            126              74          0.0   \n",
       "199           32            137              18          0.0   \n",
       "200           30            137              83          0.0   \n",
       "\n",
       "             annual_income_outlier  spending_score_outlier  Male  \n",
       "customer_id                                                       \n",
       "1                             0.00                     0.0     1  \n",
       "2                             0.00                     0.0     1  \n",
       "3                             0.00                     0.0     0  \n",
       "4                             0.00                     0.0     0  \n",
       "5                             0.00                     0.0     0  \n",
       "...                            ...                     ...   ...  \n",
       "196                           0.00                     0.0     0  \n",
       "197                           0.00                     0.0     0  \n",
       "198                           0.00                     0.0     1  \n",
       "199                           4.25                     0.0     1  \n",
       "200                           4.25                     0.0     1  \n",
       "\n",
       "[200 rows x 7 columns]"
      ]
     },
     "execution_count": 154,
     "metadata": {},
     "output_type": "execute_result"
    }
   ],
   "source": [
    "data_prep(df)"
   ]
  },
  {
   "cell_type": "code",
   "execution_count": 155,
   "metadata": {},
   "outputs": [
    {
     "data": {
      "text/html": [
       "<div>\n",
       "<style scoped>\n",
       "    .dataframe tbody tr th:only-of-type {\n",
       "        vertical-align: middle;\n",
       "    }\n",
       "\n",
       "    .dataframe tbody tr th {\n",
       "        vertical-align: top;\n",
       "    }\n",
       "\n",
       "    .dataframe thead th {\n",
       "        text-align: right;\n",
       "    }\n",
       "</style>\n",
       "<table border=\"1\" class=\"dataframe\">\n",
       "  <thead>\n",
       "    <tr style=\"text-align: right;\">\n",
       "      <th></th>\n",
       "      <th>age</th>\n",
       "      <th>annual_income</th>\n",
       "      <th>spending_score</th>\n",
       "      <th>age_outlier</th>\n",
       "      <th>annual_income_outlier</th>\n",
       "      <th>spending_score_outlier</th>\n",
       "      <th>Male</th>\n",
       "    </tr>\n",
       "    <tr>\n",
       "      <th>customer_id</th>\n",
       "      <th></th>\n",
       "      <th></th>\n",
       "      <th></th>\n",
       "      <th></th>\n",
       "      <th></th>\n",
       "      <th></th>\n",
       "      <th></th>\n",
       "    </tr>\n",
       "  </thead>\n",
       "  <tbody>\n",
       "    <tr>\n",
       "      <th>64</th>\n",
       "      <td>54</td>\n",
       "      <td>47</td>\n",
       "      <td>59</td>\n",
       "      <td>0.0</td>\n",
       "      <td>0.0</td>\n",
       "      <td>0.0</td>\n",
       "      <td>0</td>\n",
       "    </tr>\n",
       "  </tbody>\n",
       "</table>\n",
       "</div>"
      ],
      "text/plain": [
       "             age  annual_income  spending_score  age_outlier  \\\n",
       "customer_id                                                    \n",
       "64            54             47              59          0.0   \n",
       "\n",
       "             annual_income_outlier  spending_score_outlier  Male  \n",
       "customer_id                                                       \n",
       "64                             0.0                     0.0     0  "
      ]
     },
     "execution_count": 155,
     "metadata": {},
     "output_type": "execute_result"
    }
   ],
   "source": [
    "train.head(1)"
   ]
  },
  {
   "cell_type": "code",
   "execution_count": null,
   "metadata": {},
   "outputs": [],
   "source": []
  },
  {
   "cell_type": "code",
   "execution_count": 156,
   "metadata": {},
   "outputs": [
    {
     "name": "stdout",
     "output_type": "stream",
     "text": [
      "DataFrame head: \n",
      "\n",
      "             gender  age  annual_income  spending_score\n",
      "customer_id                                            \n",
      "1              Male   19             15              39\n",
      "2              Male   21             15              81\n",
      "3            Female   20             16               6\n",
      "4            Female   23             16              77\n",
      "5            Female   31             17              40\n",
      "----------\n",
      "DataFrame info: \n",
      "\n",
      "<class 'pandas.core.frame.DataFrame'>\n",
      "Int64Index: 200 entries, 1 to 200\n",
      "Data columns (total 4 columns):\n",
      " #   Column          Non-Null Count  Dtype \n",
      "---  ------          --------------  ----- \n",
      " 0   gender          200 non-null    object\n",
      " 1   age             200 non-null    int64 \n",
      " 2   annual_income   200 non-null    int64 \n",
      " 3   spending_score  200 non-null    int64 \n",
      "dtypes: int64(3), object(1)\n",
      "memory usage: 7.8+ KB\n",
      "None\n",
      "----------\n",
      "Dataframe Description: \n",
      "\n",
      "              age  annual_income  spending_score\n",
      "count  200.000000     200.000000      200.000000\n",
      "mean    38.850000      60.560000       50.200000\n",
      "std     13.969007      26.264721       25.823522\n",
      "min     18.000000      15.000000        1.000000\n",
      "25%     28.750000      41.500000       34.750000\n",
      "50%     36.000000      61.500000       50.000000\n",
      "75%     49.000000      78.000000       73.000000\n",
      "max     70.000000     137.000000       99.000000\n",
      "----------\n",
      "Null value assessments: \n",
      "\n",
      "nulls by column:                  num_rows_missing  percent_rows_missing\n",
      "gender                         0                   0.0\n",
      "age                            0                   0.0\n",
      "annual_income                  0                   0.0\n",
      "spending_score                 0                   0.0\n",
      "--\n",
      "nulls by row:     num_cols_missing  percent_cols_missing  count\n",
      "0                 0                   0.0    200\n",
      "--------\n",
      "value_counts: \n",
      "\n",
      "Column Name:  gender\n",
      "Female    112\n",
      "Male       88\n",
      "Name: gender, dtype: int64\n",
      "--\n",
      "Column Name:  age\n",
      "(17.947, 23.2]    31\n",
      "(23.2, 28.4]      19\n",
      "(28.4, 33.6]      34\n",
      "(33.6, 38.8]      29\n",
      "(38.8, 44.0]      18\n",
      "(44.0, 49.2]      24\n",
      "(49.2, 54.4]      15\n",
      "(54.4, 59.6]      10\n",
      "(59.6, 64.8]       6\n",
      "(64.8, 70.0]      14\n",
      "Name: age, dtype: int64\n",
      "--\n",
      "Column Name:  annual_income\n",
      "(14.877, 27.2]    24\n",
      "(27.2, 39.4]      22\n",
      "(39.4, 51.6]      28\n",
      "(51.6, 63.8]      38\n",
      "(63.8, 76.0]      32\n",
      "(76.0, 88.2]      34\n",
      "(88.2, 100.4]      8\n",
      "(100.4, 112.6]     6\n",
      "(112.6, 124.8]     4\n",
      "(124.8, 137.0]     4\n",
      "Name: annual_income, dtype: int64\n",
      "--\n",
      "Column Name:  spending_score\n",
      "(0.901, 10.8]    16\n",
      "(10.8, 20.6]     20\n",
      "(20.6, 30.4]     10\n",
      "(30.4, 40.2]     17\n",
      "(40.2, 50.0]     40\n",
      "(50.0, 59.8]     32\n",
      "(59.8, 69.6]     11\n",
      "(69.6, 79.4]     24\n",
      "(79.4, 89.2]     14\n",
      "(89.2, 99.0]     16\n",
      "Name: spending_score, dtype: int64\n",
      "--\n",
      "---------\n",
      "Report Finished\n",
      "~~~\n",
      "age_outlier\n",
      "count    0.0\n",
      "mean     NaN\n",
      "std      NaN\n",
      "min      NaN\n",
      "25%      NaN\n",
      "50%      NaN\n",
      "75%      NaN\n",
      "max      NaN\n",
      "Name: age_outlier, dtype: float64\n",
      "~~~\n",
      "annual_income_outlier\n",
      "count    2.00\n",
      "mean     4.25\n",
      "std      0.00\n",
      "min      4.25\n",
      "25%      4.25\n",
      "50%      4.25\n",
      "75%      4.25\n",
      "max      4.25\n",
      "Name: annual_income_outlier, dtype: float64\n",
      "~~~\n",
      "spending_score_outlier\n",
      "count    0.0\n",
      "mean     NaN\n",
      "std      NaN\n",
      "min      NaN\n",
      "25%      NaN\n",
      "50%      NaN\n",
      "75%      NaN\n",
      "max      NaN\n",
      "Name: spending_score_outlier, dtype: float64\n",
      "train -> (120, 4)\n",
      "validate -> (40, 4)\n",
      "test -> (40, 4)\n"
     ]
    },
    {
     "data": {
      "image/png": "[encoded data removed]",
      "text/plain": [
       "<Figure size 1800x360 with 4 Axes>"
      ]
     },
     "metadata": {
      "needs_background": "light"
     },
     "output_type": "display_data"
    }
   ],
   "source": [
    "df, mod_df, df_outlier, cols_missing, rows_missing, outlier_cols,X_train, y_train, \\\n",
    "                X_validate, y_validate,  X_test, y_test, train, validate, \\\n",
    "                test,X_train_scaled, X_validate_scaled, X_test_scale = wrangle_mall.wrangle_mall()"
   ]
  },
  {
   "cell_type": "markdown",
   "metadata": {},
   "source": [
    "# Scaling"
   ]
  },
  {
   "cell_type": "code",
   "execution_count": 157,
   "metadata": {},
   "outputs": [],
   "source": [
    "#scale_cols = train.drop(columns=target).select_dtypes([\"int64\"]).columns.tolist()\n",
    "scale_cols = [\"age\",\"annual_income\"]\n",
    "\n",
    "\n",
    "scaler = MinMaxScaler(copy=True).fit(X_train[scale_cols])\n",
    "\n",
    "# scale X_train, X_validate, X_test using the mins and maxes stored in the scaler derived from X_train.\n",
    "#\n",
    "X_train_scaled_array = scaler.transform(X_train[scale_cols])\n",
    "X_validate_scaled_array = scaler.transform(X_validate[scale_cols])\n",
    "X_test_scaled_array = scaler.transform(X_test[scale_cols])\n",
    "\n",
    "# convert arrays to dataframes\n",
    "X_train_scaled = pd.DataFrame(X_train_scaled_array, columns=scale_cols).set_index([X_train.index.values])\n",
    "\n",
    "X_validate_scaled = pd.DataFrame(X_validate_scaled_array, columns=scale_cols).set_index([X_validate.index.values])\n",
    "\n",
    "X_test_scaled = pd.DataFrame(X_test_scaled_array, columns=scale_cols).set_index([X_test.index.values])"
   ]
  },
  {
   "cell_type": "markdown",
   "metadata": {},
   "source": [
    "# Explore"
   ]
  },
  {
   "cell_type": "code",
   "execution_count": 158,
   "metadata": {},
   "outputs": [
    {
     "data": {
      "text/html": [
       "<div>\n",
       "<style scoped>\n",
       "    .dataframe tbody tr th:only-of-type {\n",
       "        vertical-align: middle;\n",
       "    }\n",
       "\n",
       "    .dataframe tbody tr th {\n",
       "        vertical-align: top;\n",
       "    }\n",
       "\n",
       "    .dataframe thead th {\n",
       "        text-align: right;\n",
       "    }\n",
       "</style>\n",
       "<table border=\"1\" class=\"dataframe\">\n",
       "  <thead>\n",
       "    <tr style=\"text-align: right;\">\n",
       "      <th></th>\n",
       "      <th>age</th>\n",
       "      <th>annual_income</th>\n",
       "      <th>spending_score</th>\n",
       "      <th>Male</th>\n",
       "    </tr>\n",
       "    <tr>\n",
       "      <th>customer_id</th>\n",
       "      <th></th>\n",
       "      <th></th>\n",
       "      <th></th>\n",
       "      <th></th>\n",
       "    </tr>\n",
       "  </thead>\n",
       "  <tbody>\n",
       "    <tr>\n",
       "      <th>64</th>\n",
       "      <td>54</td>\n",
       "      <td>47</td>\n",
       "      <td>59</td>\n",
       "      <td>0</td>\n",
       "    </tr>\n",
       "    <tr>\n",
       "      <th>49</th>\n",
       "      <td>29</td>\n",
       "      <td>40</td>\n",
       "      <td>42</td>\n",
       "      <td>0</td>\n",
       "    </tr>\n",
       "    <tr>\n",
       "      <th>25</th>\n",
       "      <td>54</td>\n",
       "      <td>28</td>\n",
       "      <td>14</td>\n",
       "      <td>0</td>\n",
       "    </tr>\n",
       "    <tr>\n",
       "      <th>137</th>\n",
       "      <td>44</td>\n",
       "      <td>73</td>\n",
       "      <td>7</td>\n",
       "      <td>0</td>\n",
       "    </tr>\n",
       "    <tr>\n",
       "      <th>177</th>\n",
       "      <td>58</td>\n",
       "      <td>88</td>\n",
       "      <td>15</td>\n",
       "      <td>1</td>\n",
       "    </tr>\n",
       "    <tr>\n",
       "      <th>...</th>\n",
       "      <td>...</td>\n",
       "      <td>...</td>\n",
       "      <td>...</td>\n",
       "      <td>...</td>\n",
       "    </tr>\n",
       "    <tr>\n",
       "      <th>176</th>\n",
       "      <td>30</td>\n",
       "      <td>88</td>\n",
       "      <td>86</td>\n",
       "      <td>0</td>\n",
       "    </tr>\n",
       "    <tr>\n",
       "      <th>102</th>\n",
       "      <td>49</td>\n",
       "      <td>62</td>\n",
       "      <td>48</td>\n",
       "      <td>0</td>\n",
       "    </tr>\n",
       "    <tr>\n",
       "      <th>149</th>\n",
       "      <td>34</td>\n",
       "      <td>78</td>\n",
       "      <td>22</td>\n",
       "      <td>0</td>\n",
       "    </tr>\n",
       "    <tr>\n",
       "      <th>100</th>\n",
       "      <td>20</td>\n",
       "      <td>61</td>\n",
       "      <td>49</td>\n",
       "      <td>1</td>\n",
       "    </tr>\n",
       "    <tr>\n",
       "      <th>23</th>\n",
       "      <td>46</td>\n",
       "      <td>25</td>\n",
       "      <td>5</td>\n",
       "      <td>0</td>\n",
       "    </tr>\n",
       "  </tbody>\n",
       "</table>\n",
       "<p>120 rows × 4 columns</p>\n",
       "</div>"
      ],
      "text/plain": [
       "             age  annual_income  spending_score  Male\n",
       "customer_id                                          \n",
       "64            54             47              59     0\n",
       "49            29             40              42     0\n",
       "25            54             28              14     0\n",
       "137           44             73               7     0\n",
       "177           58             88              15     1\n",
       "...          ...            ...             ...   ...\n",
       "176           30             88              86     0\n",
       "102           49             62              48     0\n",
       "149           34             78              22     0\n",
       "100           20             61              49     1\n",
       "23            46             25               5     0\n",
       "\n",
       "[120 rows x 4 columns]"
      ]
     },
     "execution_count": 158,
     "metadata": {},
     "output_type": "execute_result"
    }
   ],
   "source": [
    "train"
   ]
  },
  {
   "cell_type": "code",
   "execution_count": 159,
   "metadata": {},
   "outputs": [
    {
     "data": {
      "image/png": "[encoded data removed]",
      "text/plain": [
       "<Figure size 720x432 with 1 Axes>"
      ]
     },
     "metadata": {
      "needs_background": "light"
     },
     "output_type": "display_data"
    },
    {
     "name": "stdout",
     "output_type": "stream",
     "text": [
      "r = 0.05416502323241103\n",
      "\n",
      " We fail to reject the null hypothesis ( That the distributions underlying the samples of age and annual_income are unrelated ) p=0.55682\n"
     ]
    },
    {
     "data": {
      "image/png": "[encoded data removed]",
      "text/plain": [
       "<Figure size 720x432 with 1 Axes>"
      ]
     },
     "metadata": {
      "needs_background": "light"
     },
     "output_type": "display_data"
    },
    {
     "name": "stdout",
     "output_type": "stream",
     "text": [
      "r = -0.3675786602565466\n",
      "\n",
      " We reject the null Hypothesis ( T̶h̶a̶t̶ ̶t̶h̶e̶ ̶d̶i̶s̶t̶r̶i̶b̶u̶t̶i̶o̶n̶s̶ ̶u̶n̶d̶e̶r̶l̶y̶i̶n̶g̶ ̶t̶h̶e̶ ̶s̶a̶m̶p̶l̶e̶s̶ ̶o̶f̶ ̶a̶g̶e̶ ̶a̶n̶d̶ ̶s̶p̶e̶n̶d̶i̶n̶g̶_̶s̶c̶o̶r̶e̶ ̶a̶r̶e̶ ̶u̶n̶r̶e̶l̶a̶t̶e̶d̶ ) p=0.00004\n"
     ]
    },
    {
     "data": {
      "image/png": "[encoded data removed]",
      "text/plain": [
       "<Figure size 720x432 with 1 Axes>"
      ]
     },
     "metadata": {
      "needs_background": "light"
     },
     "output_type": "display_data"
    },
    {
     "name": "stdout",
     "output_type": "stream",
     "text": [
      "r = 0.01098748360049271\n",
      "\n",
      " We fail to reject the null hypothesis ( That the distributions underlying the samples of annual_income and spending_score are unrelated ) p=0.90519\n"
     ]
    }
   ],
   "source": [
    "num_vars = [\"age\",\"annual_income\",\"spending_score\"]\n",
    "\n",
    "for num2 in num_vars:\n",
    "    for num1 in num_vars:\n",
    "        if not num_vars.index(num1) >= num_vars.index(num2):\n",
    "\n",
    "            H0 = f\"That the distributions underlying the samples of {num1} and {num2} are unrelated\"\n",
    "            Ha = f\"That the distributions underlying the samples of {num2} and {num2} are related\"\n",
    "            alpha = .05\n",
    "            r, p = stats.spearmanr(train[num1],train[num2])\n",
    "            plt.figure(figsize=(10,6))\n",
    "            plt.scatter( train[num1], train[num2])\n",
    "            m, b = np.polyfit(train[num1], train[num2], deg=1)\n",
    "            plt.plot(train[num1], b + m * train[num1], color=\"k\", lw=2.5,label=f\"regression line - f(x)={round(m,5)}x+{round(b,0)}\")\n",
    "            plt.xlabel(num1)\n",
    "            plt.ylabel(num2)\n",
    "            plt.title(f'Is the correlation value indicative? (r={round(r,1)})', size=16)\n",
    "            plt.legend()\n",
    "            plt.show()\n",
    "            print('r =', r)\n",
    "            if p > alpha:\n",
    "                print(\"\\n We fail to reject the null hypothesis (\",(H0) , \")\",'p=%.5f' % (p))\n",
    "            else:\n",
    "                print(\"\\n We reject the null Hypothesis (\", '\\u0336'.join(H0) + '\\u0336' ,\")\", 'p=%.5f' % (p))"
   ]
  },
  {
   "cell_type": "markdown",
   "metadata": {},
   "source": [
    "does gender matter to spending score?"
   ]
  },
  {
   "cell_type": "code",
   "execution_count": 160,
   "metadata": {},
   "outputs": [
    {
     "name": "stdout",
     "output_type": "stream",
     "text": [
      "-----------------------------\n",
      "we can accept that there are equal variance in these two groups with 0.74 certainty Flag=T stat=0.10929, p=0.74155\n",
      "\n",
      " We fail to reject the null hypothesis ( spending_score of Male1 has identical average values to spending_score of other Male0 ) t=0.24251, p=0.80881\n"
     ]
    },
    {
     "data": {
      "image/png": "[encoded data removed]",
      "text/plain": [
       "<Figure size 864x432 with 1 Axes>"
      ]
     },
     "metadata": {
      "needs_background": "light"
     },
     "output_type": "display_data"
    }
   ],
   "source": [
    "\n",
    "cat = \"Male\"\n",
    "num = \"spending_score\"\n",
    "\n",
    "alpha = .05\n",
    "for cat_1 in train[cat].unique():\n",
    "    for cat_2 in train[cat].unique():\n",
    "        if not train[cat].unique().tolist().index(cat_2) >= train[cat].unique().tolist().index(cat_1):\n",
    "            H0 = f\"{num} of {cat}{cat_1} has identical average values to {num} of other {cat}{cat_2}\"\n",
    "            Ha = f\"{num} of {cat} is not equal to {num} of other {cat}\"\n",
    "            print(\"-----------------------------\")\n",
    "            #compare variances to know how to run the test\n",
    "            stat,pval = stats.levene(train[train[cat] == cat_1][num],train[train[cat] == cat_2][num])\n",
    "            stat,pval\n",
    "            if pval > 0.05:\n",
    "                equal_var_flag = True\n",
    "                print(f\"we can accept that there are equal variance in these two groups with {round(pval,2)} certainty Flag=T\",'stat=%.5f, p=%.5f' % (stat,pval))\n",
    "            else:\n",
    "                equal_var_flag = False\n",
    "                print(f\"we can reject that there are equal variance in these two groups with {round((1-pval),2)} certainty Flag=F\",'stat=%.5f, p=%.5f' % (stat,pval))\n",
    "            t, p = stats.ttest_ind( train[train[cat] == cat_1][num], train[train[cat] == cat_2][num], equal_var = equal_var_flag )\n",
    "            if p > alpha:\n",
    "                print(\"\\n We fail to reject the null hypothesis (\",(H0) , \")\",'t=%.5f, p=%.5f' % (t,p))\n",
    "            else:\n",
    "                print(\"\\n We reject the null Hypothesis (\", '\\u0336'.join(H0) + '\\u0336' ,\")\",'t=%.5f, p=%.5f' % (t,p))\n",
    "plt.figure(figsize=(12,6))\n",
    "plt.title(f\"Is the density of {num} different for {cat}\")\n",
    "plt.ylabel(f\"Density of {num}\")\n",
    "plt.yticks([],[])\n",
    "colorlist=['c', 'm', 'y', 'k']\n",
    "linestyle_list = ['solid', 'dotted','dashed','dashdot']\n",
    "for i in enumerate(train[cat].unique()):\n",
    "    sns.kdeplot(train[train[cat] == i[1]][num],\n",
    "                label=f\"{i[1]}\",\n",
    "                color=colorlist[i[0]])\n",
    "    plt.axvline(train[train[cat] == i[1]][num].mean(),\n",
    "                color=colorlist[i[0]],\n",
    "                ls=linestyle_list[i[0]],\n",
    "                label=f\"mean for {i[1]}\")\n",
    "plt.xlabel(f\"{cat}\")\n",
    "plt.legend()\n",
    "plt.show()"
   ]
  },
  {
   "cell_type": "markdown",
   "metadata": {},
   "source": [
    "gender does not affect spending score with a pval of 80%"
   ]
  },
  {
   "cell_type": "code",
   "execution_count": 161,
   "metadata": {},
   "outputs": [
    {
     "data": {
      "text/plain": [
       "count    120.000000\n",
       "mean      60.166667\n",
       "std       25.937330\n",
       "min       15.000000\n",
       "25%       40.000000\n",
       "50%       61.500000\n",
       "75%       77.000000\n",
       "max      137.000000\n",
       "Name: annual_income, dtype: float64"
      ]
     },
     "execution_count": 161,
     "metadata": {},
     "output_type": "execute_result"
    }
   ],
   "source": [
    "train.annual_income.describe()"
   ]
  },
  {
   "cell_type": "code",
   "execution_count": 162,
   "metadata": {},
   "outputs": [
    {
     "data": {
      "text/plain": [
       "count    120.000000\n",
       "mean      38.900000\n",
       "std       14.637008\n",
       "min       18.000000\n",
       "25%       27.000000\n",
       "50%       36.500000\n",
       "75%       49.000000\n",
       "max       70.000000\n",
       "Name: age, dtype: float64"
      ]
     },
     "execution_count": 162,
     "metadata": {},
     "output_type": "execute_result"
    }
   ],
   "source": [
    "train.age.describe()"
   ]
  },
  {
   "cell_type": "code",
   "execution_count": 163,
   "metadata": {},
   "outputs": [
    {
     "data": {
      "text/html": [
       "<div>\n",
       "<style scoped>\n",
       "    .dataframe tbody tr th:only-of-type {\n",
       "        vertical-align: middle;\n",
       "    }\n",
       "\n",
       "    .dataframe tbody tr th {\n",
       "        vertical-align: top;\n",
       "    }\n",
       "\n",
       "    .dataframe thead th {\n",
       "        text-align: right;\n",
       "    }\n",
       "</style>\n",
       "<table border=\"1\" class=\"dataframe\">\n",
       "  <thead>\n",
       "    <tr style=\"text-align: right;\">\n",
       "      <th></th>\n",
       "      <th>age</th>\n",
       "      <th>annual_income</th>\n",
       "      <th>spending_score</th>\n",
       "      <th>Male</th>\n",
       "      <th>age_binned</th>\n",
       "      <th>income_binned</th>\n",
       "    </tr>\n",
       "    <tr>\n",
       "      <th>customer_id</th>\n",
       "      <th></th>\n",
       "      <th></th>\n",
       "      <th></th>\n",
       "      <th></th>\n",
       "      <th></th>\n",
       "      <th></th>\n",
       "    </tr>\n",
       "  </thead>\n",
       "  <tbody>\n",
       "    <tr>\n",
       "      <th>64</th>\n",
       "      <td>54</td>\n",
       "      <td>47</td>\n",
       "      <td>59</td>\n",
       "      <td>0</td>\n",
       "      <td>&gt;40</td>\n",
       "      <td>40-66</td>\n",
       "    </tr>\n",
       "    <tr>\n",
       "      <th>49</th>\n",
       "      <td>29</td>\n",
       "      <td>40</td>\n",
       "      <td>42</td>\n",
       "      <td>0</td>\n",
       "      <td>&lt;33</td>\n",
       "      <td>&lt;40</td>\n",
       "    </tr>\n",
       "    <tr>\n",
       "      <th>25</th>\n",
       "      <td>54</td>\n",
       "      <td>28</td>\n",
       "      <td>14</td>\n",
       "      <td>0</td>\n",
       "      <td>&gt;40</td>\n",
       "      <td>&lt;40</td>\n",
       "    </tr>\n",
       "    <tr>\n",
       "      <th>137</th>\n",
       "      <td>44</td>\n",
       "      <td>73</td>\n",
       "      <td>7</td>\n",
       "      <td>0</td>\n",
       "      <td>&gt;40</td>\n",
       "      <td>&gt;66</td>\n",
       "    </tr>\n",
       "    <tr>\n",
       "      <th>177</th>\n",
       "      <td>58</td>\n",
       "      <td>88</td>\n",
       "      <td>15</td>\n",
       "      <td>1</td>\n",
       "      <td>&gt;40</td>\n",
       "      <td>&gt;66</td>\n",
       "    </tr>\n",
       "    <tr>\n",
       "      <th>...</th>\n",
       "      <td>...</td>\n",
       "      <td>...</td>\n",
       "      <td>...</td>\n",
       "      <td>...</td>\n",
       "      <td>...</td>\n",
       "      <td>...</td>\n",
       "    </tr>\n",
       "    <tr>\n",
       "      <th>176</th>\n",
       "      <td>30</td>\n",
       "      <td>88</td>\n",
       "      <td>86</td>\n",
       "      <td>0</td>\n",
       "      <td>&lt;33</td>\n",
       "      <td>&gt;66</td>\n",
       "    </tr>\n",
       "    <tr>\n",
       "      <th>102</th>\n",
       "      <td>49</td>\n",
       "      <td>62</td>\n",
       "      <td>48</td>\n",
       "      <td>0</td>\n",
       "      <td>&gt;40</td>\n",
       "      <td>40-66</td>\n",
       "    </tr>\n",
       "    <tr>\n",
       "      <th>149</th>\n",
       "      <td>34</td>\n",
       "      <td>78</td>\n",
       "      <td>22</td>\n",
       "      <td>0</td>\n",
       "      <td>33-40</td>\n",
       "      <td>&gt;66</td>\n",
       "    </tr>\n",
       "    <tr>\n",
       "      <th>100</th>\n",
       "      <td>20</td>\n",
       "      <td>61</td>\n",
       "      <td>49</td>\n",
       "      <td>1</td>\n",
       "      <td>&lt;33</td>\n",
       "      <td>40-66</td>\n",
       "    </tr>\n",
       "    <tr>\n",
       "      <th>23</th>\n",
       "      <td>46</td>\n",
       "      <td>25</td>\n",
       "      <td>5</td>\n",
       "      <td>0</td>\n",
       "      <td>&gt;40</td>\n",
       "      <td>&lt;40</td>\n",
       "    </tr>\n",
       "  </tbody>\n",
       "</table>\n",
       "<p>120 rows × 6 columns</p>\n",
       "</div>"
      ],
      "text/plain": [
       "             age  annual_income  spending_score  Male age_binned income_binned\n",
       "customer_id                                                                   \n",
       "64            54             47              59     0        >40         40-66\n",
       "49            29             40              42     0        <33           <40\n",
       "25            54             28              14     0        >40           <40\n",
       "137           44             73               7     0        >40           >66\n",
       "177           58             88              15     1        >40           >66\n",
       "...          ...            ...             ...   ...        ...           ...\n",
       "176           30             88              86     0        <33           >66\n",
       "102           49             62              48     0        >40         40-66\n",
       "149           34             78              22     0      33-40           >66\n",
       "100           20             61              49     1        <33         40-66\n",
       "23            46             25               5     0        >40           <40\n",
       "\n",
       "[120 rows x 6 columns]"
      ]
     },
     "execution_count": 163,
     "metadata": {},
     "output_type": "execute_result"
    }
   ],
   "source": [
    "train[\"age_binned\"] = pd.cut(train.age,[0,33,40,80],labels=[\"<33\",\"33-40\",\">40\"])\n",
    "train[\"income_binned\"] = pd.cut(train.annual_income,[0,40,66,140],labels=[\"<40\",\"40-66\",\">66\"])\n",
    "train"
   ]
  },
  {
   "cell_type": "code",
   "execution_count": 170,
   "metadata": {},
   "outputs": [
    {
     "data": {
      "application/vnd.plotly.v1+json": {
       "config": {
        "plotlyServerURL": "https://plot.ly"
       },
       "data": [
        {
         "hovertemplate": "age_binned=>40<br>annual_income=%{x}<br>spending_score=%{y}<extra></extra>",
         "legendgroup": ">40",
         "marker": {
          "color": "#636efa",
          "symbol": "circle"
         },
         "mode": "markers",
         "name": ">40",
         "orientation": "v",
         "showlegend": true,
         "type": "scatter",
         "x": [
          47,
          28,
          73,
          88,
          54,
          77,
          54,
          19,
          61,
          44,
          39,
          63,
          71,
          120,
          49,
          65,
          63,
          63,
          46,
          39,
          85,
          38,
          78,
          58,
          78,
          67,
          126,
          101,
          43,
          63,
          59,
          20,
          33,
          57,
          60,
          48,
          46,
          60,
          54,
          79,
          103,
          71,
          48,
          44,
          62,
          49,
          48,
          62,
          25
         ],
         "xaxis": "x",
         "y": [
          59,
          14,
          7,
          15,
          47,
          36,
          53,
          14,
          42,
          46,
          28,
          48,
          9,
          16,
          42,
          43,
          46,
          52,
          46,
          36,
          26,
          35,
          17,
          46,
          16,
          43,
          28,
          24,
          45,
          50,
          55,
          15,
          14,
          58,
          49,
          50,
          56,
          47,
          44,
          35,
          17,
          35,
          51,
          50,
          59,
          55,
          48,
          48,
          5
         ],
         "yaxis": "y"
        },
        {
         "hovertemplate": "age_binned=<33<br>annual_income=%{x}<br>spending_score=%{y}<extra></extra>",
         "legendgroup": "<33",
         "marker": {
          "color": "#EF553B",
          "symbol": "circle"
         },
         "mode": "markers",
         "name": "<33",
         "orientation": "v",
         "showlegend": true,
         "type": "scatter",
         "x": [
          40,
          65,
          87,
          33,
          37,
          62,
          15,
          21,
          73,
          60,
          63,
          78,
          126,
          97,
          101,
          39,
          29,
          73,
          24,
          54,
          74,
          72,
          19,
          70,
          54,
          103,
          38,
          57,
          62,
          79,
          48,
          60,
          76,
          33,
          18,
          70,
          28,
          77,
          15,
          39,
          137,
          40,
          40,
          16,
          65,
          17,
          73,
          81,
          86,
          46,
          78,
          87,
          88,
          61
         ],
         "xaxis": "x",
         "y": [
          42,
          50,
          75,
          81,
          75,
          55,
          39,
          66,
          5,
          50,
          54,
          89,
          74,
          86,
          68,
          65,
          87,
          88,
          73,
          57,
          10,
          34,
          72,
          77,
          54,
          69,
          92,
          55,
          42,
          83,
          59,
          42,
          40,
          92,
          94,
          29,
          82,
          74,
          81,
          61,
          83,
          47,
          42,
          77,
          48,
          76,
          73,
          93,
          95,
          51,
          73,
          63,
          86,
          49
         ],
         "yaxis": "y"
        },
        {
         "hovertemplate": "age_binned=33-40<br>annual_income=%{x}<br>spending_score=%{y}<extra></extra>",
         "legendgroup": "33-40",
         "marker": {
          "color": "#00cc96",
          "symbol": "circle"
         },
         "mode": "markers",
         "name": "33-40",
         "orientation": "v",
         "showlegend": true,
         "type": "scatter",
         "x": [
          69,
          18,
          71,
          87,
          113,
          21,
          78,
          103,
          29,
          71,
          54,
          64,
          69,
          85,
          78,
          20,
          78
         ],
         "xaxis": "x",
         "y": [
          91,
          6,
          75,
          27,
          91,
          35,
          88,
          23,
          31,
          75,
          48,
          42,
          58,
          75,
          1,
          13,
          22
         ],
         "yaxis": "y"
        }
       ],
       "layout": {
        "legend": {
         "title": {
          "text": "age_binned"
         },
         "tracegroupgap": 0
        },
        "margin": {
         "t": 60
        },
        "template": {
         "data": {
          "bar": [
           {
            "error_x": {
             "color": "#2a3f5f"
            },
            "error_y": {
             "color": "#2a3f5f"
            },
            "marker": {
             "line": {
              "color": "#E5ECF6",
              "width": 0.5
             },
             "pattern": {
              "fillmode": "overlay",
              "size": 10,
              "solidity": 0.2
             }
            },
            "type": "bar"
           }
          ],
          "barpolar": [
           {
            "marker": {
             "line": {
              "color": "#E5ECF6",
              "width": 0.5
             },
             "pattern": {
              "fillmode": "overlay",
              "size": 10,
              "solidity": 0.2
             }
            },
            "type": "barpolar"
           }
          ],
          "carpet": [
           {
            "aaxis": {
             "endlinecolor": "#2a3f5f",
             "gridcolor": "white",
             "linecolor": "white",
             "minorgridcolor": "white",
             "startlinecolor": "#2a3f5f"
            },
            "baxis": {
             "endlinecolor": "#2a3f5f",
             "gridcolor": "white",
             "linecolor": "white",
             "minorgridcolor": "white",
             "startlinecolor": "#2a3f5f"
            },
            "type": "carpet"
           }
          ],
          "choropleth": [
           {
            "colorbar": {
             "outlinewidth": 0,
             "ticks": ""
            },
            "type": "choropleth"
           }
          ],
          "contour": [
           {
            "colorbar": {
             "outlinewidth": 0,
             "ticks": ""
            },
            "colorscale": [
             [
              0,
              "#0d0887"
             ],
             [
              0.1111111111111111,
              "#46039f"
             ],
             [
              0.2222222222222222,
              "#7201a8"
             ],
             [
              0.3333333333333333,
              "#9c179e"
             ],
             [
              0.4444444444444444,
              "#bd3786"
             ],
             [
              0.5555555555555556,
              "#d8576b"
             ],
             [
              0.6666666666666666,
              "#ed7953"
             ],
             [
              0.7777777777777778,
              "#fb9f3a"
             ],
             [
              0.8888888888888888,
              "#fdca26"
             ],
             [
              1,
              "#f0f921"
             ]
            ],
            "type": "contour"
           }
          ],
          "contourcarpet": [
           {
            "colorbar": {
             "outlinewidth": 0,
             "ticks": ""
            },
            "type": "contourcarpet"
           }
          ],
          "heatmap": [
           {
            "colorbar": {
             "outlinewidth": 0,
             "ticks": ""
            },
            "colorscale": [
             [
              0,
              "#0d0887"
             ],
             [
              0.1111111111111111,
              "#46039f"
             ],
             [
              0.2222222222222222,
              "#7201a8"
             ],
             [
              0.3333333333333333,
              "#9c179e"
             ],
             [
              0.4444444444444444,
              "#bd3786"
             ],
             [
              0.5555555555555556,
              "#d8576b"
             ],
             [
              0.6666666666666666,
              "#ed7953"
             ],
             [
              0.7777777777777778,
              "#fb9f3a"
             ],
             [
              0.8888888888888888,
              "#fdca26"
             ],
             [
              1,
              "#f0f921"
             ]
            ],
            "type": "heatmap"
           }
          ],
          "heatmapgl": [
           {
            "colorbar": {
             "outlinewidth": 0,
             "ticks": ""
            },
            "colorscale": [
             [
              0,
              "#0d0887"
             ],
             [
              0.1111111111111111,
              "#46039f"
             ],
             [
              0.2222222222222222,
              "#7201a8"
             ],
             [
              0.3333333333333333,
              "#9c179e"
             ],
             [
              0.4444444444444444,
              "#bd3786"
             ],
             [
              0.5555555555555556,
              "#d8576b"
             ],
             [
              0.6666666666666666,
              "#ed7953"
             ],
             [
              0.7777777777777778,
              "#fb9f3a"
             ],
             [
              0.8888888888888888,
              "#fdca26"
             ],
             [
              1,
              "#f0f921"
             ]
            ],
            "type": "heatmapgl"
           }
          ],
          "histogram": [
           {
            "marker": {
             "pattern": {
              "fillmode": "overlay",
              "size": 10,
              "solidity": 0.2
             }
            },
            "type": "histogram"
           }
          ],
          "histogram2d": [
           {
            "colorbar": {
             "outlinewidth": 0,
             "ticks": ""
            },
            "colorscale": [
             [
              0,
              "#0d0887"
             ],
             [
              0.1111111111111111,
              "#46039f"
             ],
             [
              0.2222222222222222,
              "#7201a8"
             ],
             [
              0.3333333333333333,
              "#9c179e"
             ],
             [
              0.4444444444444444,
              "#bd3786"
             ],
             [
              0.5555555555555556,
              "#d8576b"
             ],
             [
              0.6666666666666666,
              "#ed7953"
             ],
             [
              0.7777777777777778,
              "#fb9f3a"
             ],
             [
              0.8888888888888888,
              "#fdca26"
             ],
             [
              1,
              "#f0f921"
             ]
            ],
            "type": "histogram2d"
           }
          ],
          "histogram2dcontour": [
           {
            "colorbar": {
             "outlinewidth": 0,
             "ticks": ""
            },
            "colorscale": [
             [
              0,
              "#0d0887"
             ],
             [
              0.1111111111111111,
              "#46039f"
             ],
             [
              0.2222222222222222,
              "#7201a8"
             ],
             [
              0.3333333333333333,
              "#9c179e"
             ],
             [
              0.4444444444444444,
              "#bd3786"
             ],
             [
              0.5555555555555556,
              "#d8576b"
             ],
             [
              0.6666666666666666,
              "#ed7953"
             ],
             [
              0.7777777777777778,
              "#fb9f3a"
             ],
             [
              0.8888888888888888,
              "#fdca26"
             ],
             [
              1,
              "#f0f921"
             ]
            ],
            "type": "histogram2dcontour"
           }
          ],
          "mesh3d": [
           {
            "colorbar": {
             "outlinewidth": 0,
             "ticks": ""
            },
            "type": "mesh3d"
           }
          ],
          "parcoords": [
           {
            "line": {
             "colorbar": {
              "outlinewidth": 0,
              "ticks": ""
             }
            },
            "type": "parcoords"
           }
          ],
          "pie": [
           {
            "automargin": true,
            "type": "pie"
           }
          ],
          "scatter": [
           {
            "marker": {
             "colorbar": {
              "outlinewidth": 0,
              "ticks": ""
             }
            },
            "type": "scatter"
           }
          ],
          "scatter3d": [
           {
            "line": {
             "colorbar": {
              "outlinewidth": 0,
              "ticks": ""
             }
            },
            "marker": {
             "colorbar": {
              "outlinewidth": 0,
              "ticks": ""
             }
            },
            "type": "scatter3d"
           }
          ],
          "scattercarpet": [
           {
            "marker": {
             "colorbar": {
              "outlinewidth": 0,
              "ticks": ""
             }
            },
            "type": "scattercarpet"
           }
          ],
          "scattergeo": [
           {
            "marker": {
             "colorbar": {
              "outlinewidth": 0,
              "ticks": ""
             }
            },
            "type": "scattergeo"
           }
          ],
          "scattergl": [
           {
            "marker": {
             "colorbar": {
              "outlinewidth": 0,
              "ticks": ""
             }
            },
            "type": "scattergl"
           }
          ],
          "scattermapbox": [
           {
            "marker": {
             "colorbar": {
              "outlinewidth": 0,
              "ticks": ""
             }
            },
            "type": "scattermapbox"
           }
          ],
          "scatterpolar": [
           {
            "marker": {
             "colorbar": {
              "outlinewidth": 0,
              "ticks": ""
             }
            },
            "type": "scatterpolar"
           }
          ],
          "scatterpolargl": [
           {
            "marker": {
             "colorbar": {
              "outlinewidth": 0,
              "ticks": ""
             }
            },
            "type": "scatterpolargl"
           }
          ],
          "scatterternary": [
           {
            "marker": {
             "colorbar": {
              "outlinewidth": 0,
              "ticks": ""
             }
            },
            "type": "scatterternary"
           }
          ],
          "surface": [
           {
            "colorbar": {
             "outlinewidth": 0,
             "ticks": ""
            },
            "colorscale": [
             [
              0,
              "#0d0887"
             ],
             [
              0.1111111111111111,
              "#46039f"
             ],
             [
              0.2222222222222222,
              "#7201a8"
             ],
             [
              0.3333333333333333,
              "#9c179e"
             ],
             [
              0.4444444444444444,
              "#bd3786"
             ],
             [
              0.5555555555555556,
              "#d8576b"
             ],
             [
              0.6666666666666666,
              "#ed7953"
             ],
             [
              0.7777777777777778,
              "#fb9f3a"
             ],
             [
              0.8888888888888888,
              "#fdca26"
             ],
             [
              1,
              "#f0f921"
             ]
            ],
            "type": "surface"
           }
          ],
          "table": [
           {
            "cells": {
             "fill": {
              "color": "#EBF0F8"
             },
             "line": {
              "color": "white"
             }
            },
            "header": {
             "fill": {
              "color": "#C8D4E3"
             },
             "line": {
              "color": "white"
             }
            },
            "type": "table"
           }
          ]
         },
         "layout": {
          "annotationdefaults": {
           "arrowcolor": "#2a3f5f",
           "arrowhead": 0,
           "arrowwidth": 1
          },
          "autotypenumbers": "strict",
          "coloraxis": {
           "colorbar": {
            "outlinewidth": 0,
            "ticks": ""
           }
          },
          "colorscale": {
           "diverging": [
            [
             0,
             "#8e0152"
            ],
            [
             0.1,
             "#c51b7d"
            ],
            [
             0.2,
             "#de77ae"
            ],
            [
             0.3,
             "#f1b6da"
            ],
            [
             0.4,
             "#fde0ef"
            ],
            [
             0.5,
             "#f7f7f7"
            ],
            [
             0.6,
             "#e6f5d0"
            ],
            [
             0.7,
             "#b8e186"
            ],
            [
             0.8,
             "#7fbc41"
            ],
            [
             0.9,
             "#4d9221"
            ],
            [
             1,
             "#276419"
            ]
           ],
           "sequential": [
            [
             0,
             "#0d0887"
            ],
            [
             0.1111111111111111,
             "#46039f"
            ],
            [
             0.2222222222222222,
             "#7201a8"
            ],
            [
             0.3333333333333333,
             "#9c179e"
            ],
            [
             0.4444444444444444,
             "#bd3786"
            ],
            [
             0.5555555555555556,
             "#d8576b"
            ],
            [
             0.6666666666666666,
             "#ed7953"
            ],
            [
             0.7777777777777778,
             "#fb9f3a"
            ],
            [
             0.8888888888888888,
             "#fdca26"
            ],
            [
             1,
             "#f0f921"
            ]
           ],
           "sequentialminus": [
            [
             0,
             "#0d0887"
            ],
            [
             0.1111111111111111,
             "#46039f"
            ],
            [
             0.2222222222222222,
             "#7201a8"
            ],
            [
             0.3333333333333333,
             "#9c179e"
            ],
            [
             0.4444444444444444,
             "#bd3786"
            ],
            [
             0.5555555555555556,
             "#d8576b"
            ],
            [
             0.6666666666666666,
             "#ed7953"
            ],
            [
             0.7777777777777778,
             "#fb9f3a"
            ],
            [
             0.8888888888888888,
             "#fdca26"
            ],
            [
             1,
             "#f0f921"
            ]
           ]
          },
          "colorway": [
           "#636efa",
           "#EF553B",
           "#00cc96",
           "#ab63fa",
           "#FFA15A",
           "#19d3f3",
           "#FF6692",
           "#B6E880",
           "#FF97FF",
           "#FECB52"
          ],
          "font": {
           "color": "#2a3f5f"
          },
          "geo": {
           "bgcolor": "white",
           "lakecolor": "white",
           "landcolor": "#E5ECF6",
           "showlakes": true,
           "showland": true,
           "subunitcolor": "white"
          },
          "hoverlabel": {
           "align": "left"
          },
          "hovermode": "closest",
          "mapbox": {
           "style": "light"
          },
          "paper_bgcolor": "white",
          "plot_bgcolor": "#E5ECF6",
          "polar": {
           "angularaxis": {
            "gridcolor": "white",
            "linecolor": "white",
            "ticks": ""
           },
           "bgcolor": "#E5ECF6",
           "radialaxis": {
            "gridcolor": "white",
            "linecolor": "white",
            "ticks": ""
           }
          },
          "scene": {
           "xaxis": {
            "backgroundcolor": "#E5ECF6",
            "gridcolor": "white",
            "gridwidth": 2,
            "linecolor": "white",
            "showbackground": true,
            "ticks": "",
            "zerolinecolor": "white"
           },
           "yaxis": {
            "backgroundcolor": "#E5ECF6",
            "gridcolor": "white",
            "gridwidth": 2,
            "linecolor": "white",
            "showbackground": true,
            "ticks": "",
            "zerolinecolor": "white"
           },
           "zaxis": {
            "backgroundcolor": "#E5ECF6",
            "gridcolor": "white",
            "gridwidth": 2,
            "linecolor": "white",
            "showbackground": true,
            "ticks": "",
            "zerolinecolor": "white"
           }
          },
          "shapedefaults": {
           "line": {
            "color": "#2a3f5f"
           }
          },
          "ternary": {
           "aaxis": {
            "gridcolor": "white",
            "linecolor": "white",
            "ticks": ""
           },
           "baxis": {
            "gridcolor": "white",
            "linecolor": "white",
            "ticks": ""
           },
           "bgcolor": "#E5ECF6",
           "caxis": {
            "gridcolor": "white",
            "linecolor": "white",
            "ticks": ""
           }
          },
          "title": {
           "x": 0.05
          },
          "xaxis": {
           "automargin": true,
           "gridcolor": "white",
           "linecolor": "white",
           "ticks": "",
           "title": {
            "standoff": 15
           },
           "zerolinecolor": "white",
           "zerolinewidth": 2
          },
          "yaxis": {
           "automargin": true,
           "gridcolor": "white",
           "linecolor": "white",
           "ticks": "",
           "title": {
            "standoff": 15
           },
           "zerolinecolor": "white",
           "zerolinewidth": 2
          }
         }
        },
        "xaxis": {
         "anchor": "y",
         "domain": [
          0,
          1
         ],
         "title": {
          "text": "annual_income"
         }
        },
        "yaxis": {
         "anchor": "x",
         "domain": [
          0,
          1
         ],
         "title": {
          "text": "spending_score"
         }
        }
       }
      }
     },
     "metadata": {},
     "output_type": "display_data"
    }
   ],
   "source": [
    "fig = px.scatter(train, x=\"annual_income\", y=\"spending_score\",color=\"age_binned\")\n",
    "fig.show()"
   ]
  },
  {
   "cell_type": "code",
   "execution_count": 165,
   "metadata": {},
   "outputs": [
    {
     "name": "stdout",
     "output_type": "stream",
     "text": [
      "-----------------------------\n",
      "we can accept that there are equal variance in these two groups with 0.08 certainty Flag=T stat=3.02979, p=0.08479\n",
      "\n",
      " We reject the null Hypothesis ( s̶p̶e̶n̶d̶i̶n̶g̶_̶s̶c̶o̶r̶e̶ ̶o̶f̶ ̶a̶g̶e̶_̶b̶i̶n̶n̶e̶d̶<̶3̶3̶ ̶h̶a̶s̶ ̶i̶d̶e̶n̶t̶i̶c̶a̶l̶ ̶a̶v̶e̶r̶a̶g̶e̶ ̶v̶a̶l̶u̶e̶s̶ ̶t̶o̶ ̶s̶p̶e̶n̶d̶i̶n̶g̶_̶s̶c̶o̶r̶e̶ ̶o̶f̶ ̶o̶t̶h̶e̶r̶ ̶a̶g̶e̶_̶b̶i̶n̶n̶e̶d̶>̶4̶0̶ ) t=7.35815, p=0.00000\n",
      "-----------------------------\n",
      "we can reject that there are equal variance in these two groups with 1.0 certainty Flag=F stat=14.35975, p=0.00034\n",
      "\n",
      " We fail to reject the null hypothesis ( spending_score of age_binned33-40 has identical average values to spending_score of other age_binned>40 ) t=1.28359, p=0.21463\n",
      "-----------------------------\n",
      "we can reject that there are equal variance in these two groups with 0.98 certainty Flag=F stat=5.81218, p=0.01858\n",
      "\n",
      " We reject the null Hypothesis ( s̶p̶e̶n̶d̶i̶n̶g̶_̶s̶c̶o̶r̶e̶ ̶o̶f̶ ̶a̶g̶e̶_̶b̶i̶n̶n̶e̶d̶3̶3̶-̶4̶0̶ ̶h̶a̶s̶ ̶i̶d̶e̶n̶t̶i̶c̶a̶l̶ ̶a̶v̶e̶r̶a̶g̶e̶ ̶v̶a̶l̶u̶e̶s̶ ̶t̶o̶ ̶s̶p̶e̶n̶d̶i̶n̶g̶_̶s̶c̶o̶r̶e̶ ̶o̶f̶ ̶o̶t̶h̶e̶r̶ ̶a̶g̶e̶_̶b̶i̶n̶n̶e̶d̶<̶3̶3̶ ) t=-2.17067, p=0.04161\n"
     ]
    },
    {
     "data": {
      "image/png": "[encoded data removed]",
      "text/plain": [
       "<Figure size 864x432 with 1 Axes>"
      ]
     },
     "metadata": {
      "needs_background": "light"
     },
     "output_type": "display_data"
    }
   ],
   "source": [
    "\n",
    "cat = \"age_binned\"\n",
    "num = \"spending_score\"\n",
    "\n",
    "alpha = .05\n",
    "for cat_1 in train[cat].unique():\n",
    "    for cat_2 in train[cat].unique():\n",
    "        if not train[cat].unique().tolist().index(cat_2) >= train[cat].unique().tolist().index(cat_1):\n",
    "            H0 = f\"{num} of {cat}{cat_1} has identical average values to {num} of other {cat}{cat_2}\"\n",
    "            Ha = f\"{num} of {cat} is not equal to {num} of other {cat}\"\n",
    "            print(\"-----------------------------\")\n",
    "            #compare variances to know how to run the test\n",
    "            stat,pval = stats.levene(train[train[cat] == cat_1][num],train[train[cat] == cat_2][num])\n",
    "            stat,pval\n",
    "            if pval > 0.05:\n",
    "                equal_var_flag = True\n",
    "                print(f\"we can accept that there are equal variance in these two groups with {round(pval,2)} certainty Flag=T\",'stat=%.5f, p=%.5f' % (stat,pval))\n",
    "            else:\n",
    "                equal_var_flag = False\n",
    "                print(f\"we can reject that there are equal variance in these two groups with {round((1-pval),2)} certainty Flag=F\",'stat=%.5f, p=%.5f' % (stat,pval))\n",
    "            t, p = stats.ttest_ind( train[train[cat] == cat_1][num], train[train[cat] == cat_2][num], equal_var = equal_var_flag )\n",
    "            if p > alpha:\n",
    "                print(\"\\n We fail to reject the null hypothesis (\",(H0) , \")\",'t=%.5f, p=%.5f' % (t,p))\n",
    "            else:\n",
    "                print(\"\\n We reject the null Hypothesis (\", '\\u0336'.join(H0) + '\\u0336' ,\")\",'t=%.5f, p=%.5f' % (t,p))\n",
    "plt.figure(figsize=(12,6))\n",
    "plt.title(f\"Is the density of {num} different for {cat}\")\n",
    "plt.ylabel(f\"Density of {num}\")\n",
    "plt.yticks([],[])\n",
    "colorlist=['c', 'm', 'y', 'k']\n",
    "linestyle_list = ['solid', 'dotted','dashed','dashdot']\n",
    "for i in enumerate(train[cat].unique()):\n",
    "    sns.kdeplot(train[train[cat] == i[1]][num],\n",
    "                label=f\"{i[1]}\",\n",
    "                color=colorlist[i[0]])\n",
    "    plt.axvline(train[train[cat] == i[1]][num].mean(),\n",
    "                color=colorlist[i[0]],\n",
    "                ls=linestyle_list[i[0]],\n",
    "                label=f\"mean for {i[1]}\")\n",
    "plt.xlabel(f\"{num}\")\n",
    "plt.legend()\n",
    "plt.show()"
   ]
  },
  {
   "cell_type": "code",
   "execution_count": 166,
   "metadata": {},
   "outputs": [
    {
     "name": "stdout",
     "output_type": "stream",
     "text": [
      "-----------------------------\n",
      "we can reject that there are equal variance in these two groups with 1.0 certainty Flag=F stat=107.93346, p=0.00000\n",
      "\n",
      " We fail to reject the null hypothesis ( spending_score of income_binned<40 has identical average values to spending_score of other income_binned40-66 ) t=0.28378, p=0.77844\n",
      "-----------------------------\n",
      "we can reject that there are equal variance in these two groups with 1.0 certainty Flag=F stat=139.95195, p=0.00000\n",
      "\n",
      " We fail to reject the null hypothesis ( spending_score of income_binned>66 has identical average values to spending_score of other income_binned40-66 ) t=0.36119, p=0.71951\n",
      "-----------------------------\n",
      "we can accept that there are equal variance in these two groups with 0.45 certainty Flag=T stat=0.58664, p=0.44609\n",
      "\n",
      " We fail to reject the null hypothesis ( spending_score of income_binned>66 has identical average values to spending_score of other income_binned<40 ) t=0.01942, p=0.98455\n"
     ]
    },
    {
     "data": {
      "image/png": "[encoded data removed]",
      "text/plain": [
       "<Figure size 864x432 with 1 Axes>"
      ]
     },
     "metadata": {
      "needs_background": "light"
     },
     "output_type": "display_data"
    }
   ],
   "source": [
    "\n",
    "cat = \"income_binned\"\n",
    "num = \"spending_score\"\n",
    "\n",
    "alpha = .05\n",
    "for cat_1 in train[cat].unique():\n",
    "    for cat_2 in train[cat].unique():\n",
    "        if not train[cat].unique().tolist().index(cat_2) >= train[cat].unique().tolist().index(cat_1):\n",
    "            H0 = f\"{num} of {cat}{cat_1} has identical average values to {num} of other {cat}{cat_2}\"\n",
    "            Ha = f\"{num} of {cat} is not equal to {num} of other {cat}\"\n",
    "            print(\"-----------------------------\")\n",
    "            #compare variances to know how to run the test\n",
    "            stat,pval = stats.levene(train[train[cat] == cat_1][num],train[train[cat] == cat_2][num])\n",
    "            stat,pval\n",
    "            if pval > 0.05:\n",
    "                equal_var_flag = True\n",
    "                print(f\"we can accept that there are equal variance in these two groups with {round(pval,2)} certainty Flag=T\",'stat=%.5f, p=%.5f' % (stat,pval))\n",
    "            else:\n",
    "                equal_var_flag = False\n",
    "                print(f\"we can reject that there are equal variance in these two groups with {round((1-pval),2)} certainty Flag=F\",'stat=%.5f, p=%.5f' % (stat,pval))\n",
    "            t, p = stats.ttest_ind( train[train[cat] == cat_1][num], train[train[cat] == cat_2][num], equal_var = equal_var_flag )\n",
    "            if p > alpha:\n",
    "                print(\"\\n We fail to reject the null hypothesis (\",(H0) , \")\",'t=%.5f, p=%.5f' % (t,p))\n",
    "            else:\n",
    "                print(\"\\n We reject the null Hypothesis (\", '\\u0336'.join(H0) + '\\u0336' ,\")\",'t=%.5f, p=%.5f' % (t,p))\n",
    "plt.figure(figsize=(12,6))\n",
    "plt.title(f\"Is the density of {num} different for {cat}\")\n",
    "plt.ylabel(f\"Density of {num}\")\n",
    "plt.yticks([],[])\n",
    "colorlist=['c', 'm', 'y', 'k']\n",
    "linestyle_list = ['solid', 'dotted','dashed','dashdot']\n",
    "for i in enumerate(train[cat].unique()):\n",
    "    sns.kdeplot(train[train[cat] == i[1]][num],\n",
    "                label=f\"{i[1]}\",\n",
    "                color=colorlist[i[0]])\n",
    "    plt.axvline(train[train[cat] == i[1]][num].mean(),\n",
    "                color=colorlist[i[0]],\n",
    "                ls=linestyle_list[i[0]],\n",
    "                label=f\"mean for {i[1]}\")\n",
    "plt.xlabel(f\"{num}\")\n",
    "plt.legend()\n",
    "plt.show()"
   ]
  },
  {
   "cell_type": "code",
   "execution_count": 167,
   "metadata": {},
   "outputs": [
    {
     "data": {
      "text/html": [
       "<div>\n",
       "<style scoped>\n",
       "    .dataframe tbody tr th:only-of-type {\n",
       "        vertical-align: middle;\n",
       "    }\n",
       "\n",
       "    .dataframe tbody tr th {\n",
       "        vertical-align: top;\n",
       "    }\n",
       "\n",
       "    .dataframe thead tr th {\n",
       "        text-align: left;\n",
       "    }\n",
       "</style>\n",
       "<table border=\"1\" class=\"dataframe\">\n",
       "  <thead>\n",
       "    <tr>\n",
       "      <th></th>\n",
       "      <th>Male</th>\n",
       "      <th>age_binned</th>\n",
       "      <th>income_binned</th>\n",
       "      <th colspan=\"3\" halign=\"left\">spending_score</th>\n",
       "      <th>range</th>\n",
       "    </tr>\n",
       "    <tr>\n",
       "      <th></th>\n",
       "      <th></th>\n",
       "      <th></th>\n",
       "      <th></th>\n",
       "      <th>count</th>\n",
       "      <th>min</th>\n",
       "      <th>max</th>\n",
       "      <th></th>\n",
       "    </tr>\n",
       "  </thead>\n",
       "  <tbody>\n",
       "    <tr>\n",
       "      <th>0</th>\n",
       "      <td>0</td>\n",
       "      <td>&lt;33</td>\n",
       "      <td>&lt;40</td>\n",
       "      <td>12</td>\n",
       "      <td>42</td>\n",
       "      <td>94</td>\n",
       "      <td>52</td>\n",
       "    </tr>\n",
       "    <tr>\n",
       "      <th>1</th>\n",
       "      <td>0</td>\n",
       "      <td>&lt;33</td>\n",
       "      <td>40-66</td>\n",
       "      <td>9</td>\n",
       "      <td>42</td>\n",
       "      <td>57</td>\n",
       "      <td>15</td>\n",
       "    </tr>\n",
       "    <tr>\n",
       "      <th>2</th>\n",
       "      <td>0</td>\n",
       "      <td>&lt;33</td>\n",
       "      <td>&gt;66</td>\n",
       "      <td>14</td>\n",
       "      <td>29</td>\n",
       "      <td>95</td>\n",
       "      <td>66</td>\n",
       "    </tr>\n",
       "    <tr>\n",
       "      <th>3</th>\n",
       "      <td>0</td>\n",
       "      <td>33-40</td>\n",
       "      <td>&lt;40</td>\n",
       "      <td>3</td>\n",
       "      <td>6</td>\n",
       "      <td>35</td>\n",
       "      <td>29</td>\n",
       "    </tr>\n",
       "    <tr>\n",
       "      <th>4</th>\n",
       "      <td>0</td>\n",
       "      <td>33-40</td>\n",
       "      <td>40-66</td>\n",
       "      <td>1</td>\n",
       "      <td>42</td>\n",
       "      <td>42</td>\n",
       "      <td>0</td>\n",
       "    </tr>\n",
       "    <tr>\n",
       "      <th>5</th>\n",
       "      <td>0</td>\n",
       "      <td>33-40</td>\n",
       "      <td>&gt;66</td>\n",
       "      <td>6</td>\n",
       "      <td>22</td>\n",
       "      <td>91</td>\n",
       "      <td>69</td>\n",
       "    </tr>\n",
       "    <tr>\n",
       "      <th>6</th>\n",
       "      <td>0</td>\n",
       "      <td>&gt;40</td>\n",
       "      <td>&lt;40</td>\n",
       "      <td>6</td>\n",
       "      <td>5</td>\n",
       "      <td>35</td>\n",
       "      <td>30</td>\n",
       "    </tr>\n",
       "    <tr>\n",
       "      <th>7</th>\n",
       "      <td>0</td>\n",
       "      <td>&gt;40</td>\n",
       "      <td>40-66</td>\n",
       "      <td>15</td>\n",
       "      <td>42</td>\n",
       "      <td>59</td>\n",
       "      <td>17</td>\n",
       "    </tr>\n",
       "    <tr>\n",
       "      <th>8</th>\n",
       "      <td>0</td>\n",
       "      <td>&gt;40</td>\n",
       "      <td>&gt;66</td>\n",
       "      <td>8</td>\n",
       "      <td>7</td>\n",
       "      <td>43</td>\n",
       "      <td>36</td>\n",
       "    </tr>\n",
       "    <tr>\n",
       "      <th>9</th>\n",
       "      <td>1</td>\n",
       "      <td>&lt;33</td>\n",
       "      <td>&lt;40</td>\n",
       "      <td>7</td>\n",
       "      <td>39</td>\n",
       "      <td>92</td>\n",
       "      <td>53</td>\n",
       "    </tr>\n",
       "    <tr>\n",
       "      <th>10</th>\n",
       "      <td>1</td>\n",
       "      <td>&lt;33</td>\n",
       "      <td>40-66</td>\n",
       "      <td>4</td>\n",
       "      <td>49</td>\n",
       "      <td>59</td>\n",
       "      <td>10</td>\n",
       "    </tr>\n",
       "    <tr>\n",
       "      <th>11</th>\n",
       "      <td>1</td>\n",
       "      <td>&lt;33</td>\n",
       "      <td>&gt;66</td>\n",
       "      <td>8</td>\n",
       "      <td>5</td>\n",
       "      <td>83</td>\n",
       "      <td>78</td>\n",
       "    </tr>\n",
       "    <tr>\n",
       "      <th>12</th>\n",
       "      <td>1</td>\n",
       "      <td>33-40</td>\n",
       "      <td>&lt;40</td>\n",
       "      <td>1</td>\n",
       "      <td>13</td>\n",
       "      <td>13</td>\n",
       "      <td>0</td>\n",
       "    </tr>\n",
       "    <tr>\n",
       "      <th>13</th>\n",
       "      <td>1</td>\n",
       "      <td>33-40</td>\n",
       "      <td>40-66</td>\n",
       "      <td>1</td>\n",
       "      <td>48</td>\n",
       "      <td>48</td>\n",
       "      <td>0</td>\n",
       "    </tr>\n",
       "    <tr>\n",
       "      <th>14</th>\n",
       "      <td>1</td>\n",
       "      <td>33-40</td>\n",
       "      <td>&gt;66</td>\n",
       "      <td>5</td>\n",
       "      <td>1</td>\n",
       "      <td>91</td>\n",
       "      <td>90</td>\n",
       "    </tr>\n",
       "    <tr>\n",
       "      <th>15</th>\n",
       "      <td>1</td>\n",
       "      <td>&gt;40</td>\n",
       "      <td>&lt;40</td>\n",
       "      <td>2</td>\n",
       "      <td>14</td>\n",
       "      <td>36</td>\n",
       "      <td>22</td>\n",
       "    </tr>\n",
       "    <tr>\n",
       "      <th>16</th>\n",
       "      <td>1</td>\n",
       "      <td>&gt;40</td>\n",
       "      <td>40-66</td>\n",
       "      <td>12</td>\n",
       "      <td>42</td>\n",
       "      <td>59</td>\n",
       "      <td>17</td>\n",
       "    </tr>\n",
       "    <tr>\n",
       "      <th>17</th>\n",
       "      <td>1</td>\n",
       "      <td>&gt;40</td>\n",
       "      <td>&gt;66</td>\n",
       "      <td>6</td>\n",
       "      <td>9</td>\n",
       "      <td>36</td>\n",
       "      <td>27</td>\n",
       "    </tr>\n",
       "  </tbody>\n",
       "</table>\n",
       "</div>"
      ],
      "text/plain": [
       "   Male age_binned income_binned spending_score         range\n",
       "                                          count min max      \n",
       "0     0        <33           <40             12  42  94    52\n",
       "1     0        <33         40-66              9  42  57    15\n",
       "2     0        <33           >66             14  29  95    66\n",
       "3     0      33-40           <40              3   6  35    29\n",
       "4     0      33-40         40-66              1  42  42     0\n",
       "5     0      33-40           >66              6  22  91    69\n",
       "6     0        >40           <40              6   5  35    30\n",
       "7     0        >40         40-66             15  42  59    17\n",
       "8     0        >40           >66              8   7  43    36\n",
       "9     1        <33           <40              7  39  92    53\n",
       "10    1        <33         40-66              4  49  59    10\n",
       "11    1        <33           >66              8   5  83    78\n",
       "12    1      33-40           <40              1  13  13     0\n",
       "13    1      33-40         40-66              1  48  48     0\n",
       "14    1      33-40           >66              5   1  91    90\n",
       "15    1        >40           <40              2  14  36    22\n",
       "16    1        >40         40-66             12  42  59    17\n",
       "17    1        >40           >66              6   9  36    27"
      ]
     },
     "execution_count": 167,
     "metadata": {},
     "output_type": "execute_result"
    }
   ],
   "source": [
    "temp1 = train.drop(columns=[\"age\",\"annual_income\"]).groupby([\"Male\",\"age_binned\",\"income_binned\"]).agg([\"count\",\"min\",\"max\"]).reset_index()\n",
    "temp1[\"range\"] = temp1[\"spending_score\"][\"max\"] - temp1[\"spending_score\"][\"min\"]\n",
    "temp1 = temp1.dropna()\n",
    "temp1"
   ]
  },
  {
   "cell_type": "code",
   "execution_count": 171,
   "metadata": {},
   "outputs": [],
   "source": [
    "from sklearn.cluster import KMeans"
   ]
  },
  {
   "cell_type": "code",
   "execution_count": 175,
   "metadata": {},
   "outputs": [],
   "source": [
    "train_scaled = X_train_scaled.copy()\n",
    "train[\"spending_score\"]"
   ]
  },
  {
   "cell_type": "code",
   "execution_count": 176,
   "metadata": {},
   "outputs": [
    {
     "data": {
      "text/html": [
       "<div>\n",
       "<style scoped>\n",
       "    .dataframe tbody tr th:only-of-type {\n",
       "        vertical-align: middle;\n",
       "    }\n",
       "\n",
       "    .dataframe tbody tr th {\n",
       "        vertical-align: top;\n",
       "    }\n",
       "\n",
       "    .dataframe thead th {\n",
       "        text-align: right;\n",
       "    }\n",
       "</style>\n",
       "<table border=\"1\" class=\"dataframe\">\n",
       "  <thead>\n",
       "    <tr style=\"text-align: right;\">\n",
       "      <th></th>\n",
       "      <th>age</th>\n",
       "      <th>annual_income</th>\n",
       "      <th>spending_score</th>\n",
       "      <th>Male</th>\n",
       "      <th>age_binned</th>\n",
       "      <th>income_binned</th>\n",
       "    </tr>\n",
       "    <tr>\n",
       "      <th>customer_id</th>\n",
       "      <th></th>\n",
       "      <th></th>\n",
       "      <th></th>\n",
       "      <th></th>\n",
       "      <th></th>\n",
       "      <th></th>\n",
       "    </tr>\n",
       "  </thead>\n",
       "  <tbody>\n",
       "    <tr>\n",
       "      <th>64</th>\n",
       "      <td>54</td>\n",
       "      <td>47</td>\n",
       "      <td>59</td>\n",
       "      <td>0</td>\n",
       "      <td>&gt;40</td>\n",
       "      <td>40-66</td>\n",
       "    </tr>\n",
       "    <tr>\n",
       "      <th>49</th>\n",
       "      <td>29</td>\n",
       "      <td>40</td>\n",
       "      <td>42</td>\n",
       "      <td>0</td>\n",
       "      <td>&lt;33</td>\n",
       "      <td>&lt;40</td>\n",
       "    </tr>\n",
       "    <tr>\n",
       "      <th>25</th>\n",
       "      <td>54</td>\n",
       "      <td>28</td>\n",
       "      <td>14</td>\n",
       "      <td>0</td>\n",
       "      <td>&gt;40</td>\n",
       "      <td>&lt;40</td>\n",
       "    </tr>\n",
       "    <tr>\n",
       "      <th>137</th>\n",
       "      <td>44</td>\n",
       "      <td>73</td>\n",
       "      <td>7</td>\n",
       "      <td>0</td>\n",
       "      <td>&gt;40</td>\n",
       "      <td>&gt;66</td>\n",
       "    </tr>\n",
       "    <tr>\n",
       "      <th>177</th>\n",
       "      <td>58</td>\n",
       "      <td>88</td>\n",
       "      <td>15</td>\n",
       "      <td>1</td>\n",
       "      <td>&gt;40</td>\n",
       "      <td>&gt;66</td>\n",
       "    </tr>\n",
       "    <tr>\n",
       "      <th>...</th>\n",
       "      <td>...</td>\n",
       "      <td>...</td>\n",
       "      <td>...</td>\n",
       "      <td>...</td>\n",
       "      <td>...</td>\n",
       "      <td>...</td>\n",
       "    </tr>\n",
       "    <tr>\n",
       "      <th>176</th>\n",
       "      <td>30</td>\n",
       "      <td>88</td>\n",
       "      <td>86</td>\n",
       "      <td>0</td>\n",
       "      <td>&lt;33</td>\n",
       "      <td>&gt;66</td>\n",
       "    </tr>\n",
       "    <tr>\n",
       "      <th>102</th>\n",
       "      <td>49</td>\n",
       "      <td>62</td>\n",
       "      <td>48</td>\n",
       "      <td>0</td>\n",
       "      <td>&gt;40</td>\n",
       "      <td>40-66</td>\n",
       "    </tr>\n",
       "    <tr>\n",
       "      <th>149</th>\n",
       "      <td>34</td>\n",
       "      <td>78</td>\n",
       "      <td>22</td>\n",
       "      <td>0</td>\n",
       "      <td>33-40</td>\n",
       "      <td>&gt;66</td>\n",
       "    </tr>\n",
       "    <tr>\n",
       "      <th>100</th>\n",
       "      <td>20</td>\n",
       "      <td>61</td>\n",
       "      <td>49</td>\n",
       "      <td>1</td>\n",
       "      <td>&lt;33</td>\n",
       "      <td>40-66</td>\n",
       "    </tr>\n",
       "    <tr>\n",
       "      <th>23</th>\n",
       "      <td>46</td>\n",
       "      <td>25</td>\n",
       "      <td>5</td>\n",
       "      <td>0</td>\n",
       "      <td>&gt;40</td>\n",
       "      <td>&lt;40</td>\n",
       "    </tr>\n",
       "  </tbody>\n",
       "</table>\n",
       "<p>120 rows × 6 columns</p>\n",
       "</div>"
      ],
      "text/plain": [
       "             age  annual_income  spending_score  Male age_binned income_binned\n",
       "customer_id                                                                   \n",
       "64            54             47              59     0        >40         40-66\n",
       "49            29             40              42     0        <33           <40\n",
       "25            54             28              14     0        >40           <40\n",
       "137           44             73               7     0        >40           >66\n",
       "177           58             88              15     1        >40           >66\n",
       "...          ...            ...             ...   ...        ...           ...\n",
       "176           30             88              86     0        <33           >66\n",
       "102           49             62              48     0        >40         40-66\n",
       "149           34             78              22     0      33-40           >66\n",
       "100           20             61              49     1        <33         40-66\n",
       "23            46             25               5     0        >40           <40\n",
       "\n",
       "[120 rows x 6 columns]"
      ]
     },
     "execution_count": 176,
     "metadata": {},
     "output_type": "execute_result"
    }
   ],
   "source": [
    "train"
   ]
  },
  {
   "cell_type": "code",
   "execution_count": 174,
   "metadata": {},
   "outputs": [
    {
     "data": {
      "text/html": [
       "<div>\n",
       "<style scoped>\n",
       "    .dataframe tbody tr th:only-of-type {\n",
       "        vertical-align: middle;\n",
       "    }\n",
       "\n",
       "    .dataframe tbody tr th {\n",
       "        vertical-align: top;\n",
       "    }\n",
       "\n",
       "    .dataframe thead th {\n",
       "        text-align: right;\n",
       "    }\n",
       "</style>\n",
       "<table border=\"1\" class=\"dataframe\">\n",
       "  <thead>\n",
       "    <tr style=\"text-align: right;\">\n",
       "      <th></th>\n",
       "      <th>age</th>\n",
       "      <th>annual_income</th>\n",
       "    </tr>\n",
       "  </thead>\n",
       "  <tbody>\n",
       "    <tr>\n",
       "      <th>64</th>\n",
       "      <td>0.692308</td>\n",
       "      <td>0.262295</td>\n",
       "    </tr>\n",
       "    <tr>\n",
       "      <th>49</th>\n",
       "      <td>0.211538</td>\n",
       "      <td>0.204918</td>\n",
       "    </tr>\n",
       "    <tr>\n",
       "      <th>25</th>\n",
       "      <td>0.692308</td>\n",
       "      <td>0.106557</td>\n",
       "    </tr>\n",
       "    <tr>\n",
       "      <th>137</th>\n",
       "      <td>0.500000</td>\n",
       "      <td>0.475410</td>\n",
       "    </tr>\n",
       "    <tr>\n",
       "      <th>177</th>\n",
       "      <td>0.769231</td>\n",
       "      <td>0.598361</td>\n",
       "    </tr>\n",
       "    <tr>\n",
       "      <th>...</th>\n",
       "      <td>...</td>\n",
       "      <td>...</td>\n",
       "    </tr>\n",
       "    <tr>\n",
       "      <th>176</th>\n",
       "      <td>0.230769</td>\n",
       "      <td>0.598361</td>\n",
       "    </tr>\n",
       "    <tr>\n",
       "      <th>102</th>\n",
       "      <td>0.596154</td>\n",
       "      <td>0.385246</td>\n",
       "    </tr>\n",
       "    <tr>\n",
       "      <th>149</th>\n",
       "      <td>0.307692</td>\n",
       "      <td>0.516393</td>\n",
       "    </tr>\n",
       "    <tr>\n",
       "      <th>100</th>\n",
       "      <td>0.038462</td>\n",
       "      <td>0.377049</td>\n",
       "    </tr>\n",
       "    <tr>\n",
       "      <th>23</th>\n",
       "      <td>0.538462</td>\n",
       "      <td>0.081967</td>\n",
       "    </tr>\n",
       "  </tbody>\n",
       "</table>\n",
       "<p>120 rows × 2 columns</p>\n",
       "</div>"
      ],
      "text/plain": [
       "          age  annual_income\n",
       "64   0.692308       0.262295\n",
       "49   0.211538       0.204918\n",
       "25   0.692308       0.106557\n",
       "137  0.500000       0.475410\n",
       "177  0.769231       0.598361\n",
       "..        ...            ...\n",
       "176  0.230769       0.598361\n",
       "102  0.596154       0.385246\n",
       "149  0.307692       0.516393\n",
       "100  0.038462       0.377049\n",
       "23   0.538462       0.081967\n",
       "\n",
       "[120 rows x 2 columns]"
      ]
     },
     "execution_count": 174,
     "metadata": {},
     "output_type": "execute_result"
    }
   ],
   "source": [
    "kmeans = KMeans(n_clusters=5)\n",
    "kmeans.fit(X_train_scaled)\n",
    "kmeans.fit(train_scaled)\n",
    "train[\"cluster\"] = kmeans.predict(train_scaled)"
   ]
  },
  {
   "cell_type": "code",
   "execution_count": null,
   "metadata": {},
   "outputs": [],
   "source": []
  }
 ],
 "metadata": {
  "kernelspec": {
   "display_name": "Python 3.9.12 ('base')",
   "language": "python",
   "name": "python3"
  },
  "language_info": {
   "codemirror_mode": {
    "name": "ipython",
    "version": 3
   },
   "file_extension": ".py",
   "mimetype": "text/x-python",
   "name": "python",
   "nbconvert_exporter": "python",
   "pygments_lexer": "ipython3",
   "version": "3.9.12"
  },
  "orig_nbformat": 4,
  "vscode": {
   "interpreter": {
    "hash": "3067ead486e059ec00ffe7555bdb889e6e264a24dc711bf108106cc7baee8d5d"
   }
  }
 },
 "nbformat": 4,
 "nbformat_minor": 2
}

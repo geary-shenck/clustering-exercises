{
 "cells": [
  {
   "cell_type": "code",
   "execution_count": 1,
   "metadata": {},
   "outputs": [],
   "source": [
    "import pandas as pd\n",
    "import numpy as np\n",
    "import seaborn as sns\n",
    "import matplotlib.pyplot as plt\n",
    "\n",
    "import scipy\n",
    "import scipy.stats as stats\n",
    "import sklearn.impute as simpleImputer\n",
    "from sklearn.model_selection import train_test_split\n",
    "from sklearn.neighbors import KNeighborsClassifier,KNeighborsRegressor\n",
    "from sklearn.preprocessing import MinMaxScaler,StandardScaler,RobustScaler,PolynomialFeatures,QuantileTransformer\n",
    "from sklearn.metrics import mean_squared_error, r2_score, explained_variance_score\n",
    "from sklearn.linear_model import LinearRegression, LassoLars, TweedieRegressor\n",
    "import plotly.express as px\n",
    "from sklearn.cluster import KMeans\n",
    "\n",
    "import acquire\n",
    "import acq\n",
    "import wrangle_zillow\n",
    "import wrangle_mall\n",
    "import explore_zillow\n",
    "import env"
   ]
  },
  {
   "cell_type": "markdown",
   "metadata": {},
   "source": [
    "# Acquire data from the customers table in the mall_customers database"
   ]
  },
  {
   "cell_type": "code",
   "execution_count": 30,
   "metadata": {},
   "outputs": [],
   "source": [
    "df = acq.get_mallcustomer_data()\n",
    "iris_df = sns.load_dataset(\"iris\")"
   ]
  },
  {
   "cell_type": "code",
   "execution_count": 3,
   "metadata": {},
   "outputs": [],
   "source": [
    "num_missing = df.isnull().sum(axis=1)\n",
    "prnt_miss = num_missing / df.shape[1] * 100\n",
    "rows_missing = pd.DataFrame({'num_cols_missing': num_missing, 'percent_cols_missing': prnt_miss})\\\n",
    "            .reset_index().groupby(['num_cols_missing', 'percent_cols_missing']).count().reset_index()"
   ]
  },
  {
   "cell_type": "code",
   "execution_count": 4,
   "metadata": {},
   "outputs": [
    {
     "data": {
      "text/plain": [
       "'customer_id'"
      ]
     },
     "execution_count": 4,
     "metadata": {},
     "output_type": "execute_result"
    }
   ],
   "source": [
    "rows_missing.columns[-1]"
   ]
  },
  {
   "cell_type": "code",
   "execution_count": 5,
   "metadata": {},
   "outputs": [
    {
     "name": "stdout",
     "output_type": "stream",
     "text": [
      "<class 'pandas.core.frame.DataFrame'>\n",
      "Int64Index: 200 entries, 1 to 200\n",
      "Data columns (total 4 columns):\n",
      " #   Column          Non-Null Count  Dtype \n",
      "---  ------          --------------  ----- \n",
      " 0   gender          200 non-null    object\n",
      " 1   age             200 non-null    int64 \n",
      " 2   annual_income   200 non-null    int64 \n",
      " 3   spending_score  200 non-null    int64 \n",
      "dtypes: int64(3), object(1)\n",
      "memory usage: 7.8+ KB\n",
      "None\n"
     ]
    }
   ],
   "source": [
    "print(df.info())"
   ]
  },
  {
   "cell_type": "markdown",
   "metadata": {},
   "source": [
    "# Split data into train, validate, and test."
   ]
  },
  {
   "cell_type": "code",
   "execution_count": 6,
   "metadata": {},
   "outputs": [
    {
     "name": "stdout",
     "output_type": "stream",
     "text": [
      "train -> (120, 4)\n",
      "validate -> (40, 4)\n",
      "test -> (40, 4)\n"
     ]
    }
   ],
   "source": [
    "# Create train_validate and test datasets\n",
    "train_validate, test = train_test_split(df, test_size=0.2, random_state=123)\n",
    "# Create train and validate datsets\n",
    "train, validate = train_test_split(train_validate, test_size=0.25, random_state=123)\n",
    "\n",
    "print(f\"train -> {train.shape}\")\n",
    "print(f\"validate -> {validate.shape}\")\n",
    "print(f\"test -> {test.shape}\")\n",
    "\n",
    "target = \"spending_score\"\n",
    "\n",
    "# split train into X (dataframe, drop target) & y (series, keep target only)\n",
    "X_train = train.drop(columns=[target])\n",
    "y_train = train[target]\n",
    "\n",
    "# split validate into X (dataframe, drop target) & y (series, keep target only)\n",
    "X_validate = validate.drop(columns=[target])\n",
    "y_validate = validate[target]\n",
    "\n",
    "# split test into X (dataframe, drop target) & y (series, keep target only)\n",
    "X_test = test.drop(columns=[target])\n",
    "y_test = test[target]\n",
    "\n"
   ]
  },
  {
   "cell_type": "code",
   "execution_count": 36,
   "metadata": {},
   "outputs": [
    {
     "name": "stdout",
     "output_type": "stream",
     "text": [
      "train -> (90, 5)\n",
      "validate -> (30, 5)\n",
      "test -> (30, 5)\n"
     ]
    }
   ],
   "source": [
    "# Create train_validate and test datasets\n",
    "iris_train_validate, iris_test = train_test_split(iris_df, test_size=0.2, random_state=123)\n",
    "# Create train and validate datsets\n",
    "iris_train, iris_validate = train_test_split(iris_train_validate, test_size=0.25, random_state=123)\n",
    "\n",
    "print(f\"train -> {iris_train.shape}\")\n",
    "print(f\"validate -> {iris_validate.shape}\")\n",
    "print(f\"test -> {iris_test.shape}\")\n",
    "\n"
   ]
  },
  {
   "cell_type": "markdown",
   "metadata": {},
   "source": [
    "# Scaling"
   ]
  },
  {
   "cell_type": "code",
   "execution_count": null,
   "metadata": {},
   "outputs": [],
   "source": [
    "iris_X = iris_train[iris_train.drop(columns=[\"species\"]).columns.tolist()]\n",
    "\n",
    "# make, fit, apply:\n",
    "scaler_iris = MinMaxScaler()\n",
    "# train is all numerical so I can call the whole thing\n",
    "X_iris_scaled = pd.DataFrame(\n",
    "    scaler_iris.fit_transform(iris_X),\n",
    "    index = iris_X.index,\n",
    "    columns = iris_X.columns)"
   ]
  },
  {
   "cell_type": "code",
   "execution_count": 37,
   "metadata": {},
   "outputs": [
    {
     "data": {
      "text/html": [
       "<div>\n",
       "<style scoped>\n",
       "    .dataframe tbody tr th:only-of-type {\n",
       "        vertical-align: middle;\n",
       "    }\n",
       "\n",
       "    .dataframe tbody tr th {\n",
       "        vertical-align: top;\n",
       "    }\n",
       "\n",
       "    .dataframe thead th {\n",
       "        text-align: right;\n",
       "    }\n",
       "</style>\n",
       "<table border=\"1\" class=\"dataframe\">\n",
       "  <thead>\n",
       "    <tr style=\"text-align: right;\">\n",
       "      <th></th>\n",
       "      <th>sepal_length</th>\n",
       "      <th>sepal_width</th>\n",
       "      <th>petal_length</th>\n",
       "      <th>petal_width</th>\n",
       "    </tr>\n",
       "  </thead>\n",
       "  <tbody>\n",
       "    <tr>\n",
       "      <th>86</th>\n",
       "      <td>0.647059</td>\n",
       "      <td>0.55</td>\n",
       "      <td>0.649123</td>\n",
       "      <td>0.583333</td>\n",
       "    </tr>\n",
       "    <tr>\n",
       "      <th>82</th>\n",
       "      <td>0.382353</td>\n",
       "      <td>0.35</td>\n",
       "      <td>0.508772</td>\n",
       "      <td>0.458333</td>\n",
       "    </tr>\n",
       "    <tr>\n",
       "      <th>109</th>\n",
       "      <td>0.794118</td>\n",
       "      <td>0.80</td>\n",
       "      <td>0.894737</td>\n",
       "      <td>1.000000</td>\n",
       "    </tr>\n",
       "    <tr>\n",
       "      <th>147</th>\n",
       "      <td>0.588235</td>\n",
       "      <td>0.50</td>\n",
       "      <td>0.736842</td>\n",
       "      <td>0.791667</td>\n",
       "    </tr>\n",
       "    <tr>\n",
       "      <th>49</th>\n",
       "      <td>0.147059</td>\n",
       "      <td>0.65</td>\n",
       "      <td>0.070175</td>\n",
       "      <td>0.041667</td>\n",
       "    </tr>\n",
       "    <tr>\n",
       "      <th>...</th>\n",
       "      <td>...</td>\n",
       "      <td>...</td>\n",
       "      <td>...</td>\n",
       "      <td>...</td>\n",
       "    </tr>\n",
       "    <tr>\n",
       "      <th>78</th>\n",
       "      <td>0.441176</td>\n",
       "      <td>0.45</td>\n",
       "      <td>0.614035</td>\n",
       "      <td>0.583333</td>\n",
       "    </tr>\n",
       "    <tr>\n",
       "      <th>55</th>\n",
       "      <td>0.352941</td>\n",
       "      <td>0.40</td>\n",
       "      <td>0.614035</td>\n",
       "      <td>0.500000</td>\n",
       "    </tr>\n",
       "    <tr>\n",
       "      <th>125</th>\n",
       "      <td>0.794118</td>\n",
       "      <td>0.60</td>\n",
       "      <td>0.877193</td>\n",
       "      <td>0.708333</td>\n",
       "    </tr>\n",
       "    <tr>\n",
       "      <th>22</th>\n",
       "      <td>0.029412</td>\n",
       "      <td>0.80</td>\n",
       "      <td>0.000000</td>\n",
       "      <td>0.041667</td>\n",
       "    </tr>\n",
       "    <tr>\n",
       "      <th>113</th>\n",
       "      <td>0.352941</td>\n",
       "      <td>0.25</td>\n",
       "      <td>0.701754</td>\n",
       "      <td>0.791667</td>\n",
       "    </tr>\n",
       "  </tbody>\n",
       "</table>\n",
       "<p>90 rows × 4 columns</p>\n",
       "</div>"
      ],
      "text/plain": [
       "     sepal_length  sepal_width  petal_length  petal_width\n",
       "86       0.647059         0.55      0.649123     0.583333\n",
       "82       0.382353         0.35      0.508772     0.458333\n",
       "109      0.794118         0.80      0.894737     1.000000\n",
       "147      0.588235         0.50      0.736842     0.791667\n",
       "49       0.147059         0.65      0.070175     0.041667\n",
       "..            ...          ...           ...          ...\n",
       "78       0.441176         0.45      0.614035     0.583333\n",
       "55       0.352941         0.40      0.614035     0.500000\n",
       "125      0.794118         0.60      0.877193     0.708333\n",
       "22       0.029412         0.80      0.000000     0.041667\n",
       "113      0.352941         0.25      0.701754     0.791667\n",
       "\n",
       "[90 rows x 4 columns]"
      ]
     },
     "execution_count": 37,
     "metadata": {},
     "output_type": "execute_result"
    }
   ],
   "source": [
    "X_iris_scaled"
   ]
  },
  {
   "cell_type": "code",
   "execution_count": 38,
   "metadata": {},
   "outputs": [
    {
     "data": {
      "application/vnd.plotly.v1+json": {
       "config": {
        "plotlyServerURL": "https://plot.ly"
       },
       "data": [
        {
         "hovertemplate": "petal_length=%{x}<br>petal_width=%{y}<br>sepal_width=%{z}<br>sepal_length=%{marker.color}<extra></extra>",
         "legendgroup": "",
         "marker": {
          "color": [
           0.6470588235294117,
           0.38235294117647056,
           0.7941176470588234,
           0.588235294117647,
           0.1470588235294117,
           0.32352941176470584,
           0.5294117647058822,
           0.1470588235294117,
           0.41176470588235303,
           0.17647058823529393,
           0.7058823529411766,
           0.41176470588235303,
           0.5,
           0.32352941176470584,
           0.17647058823529393,
           0.2941176470588236,
           0.7941176470588234,
           0.11764705882352966,
           0.4411764705882353,
           0.6176470588235292,
           0.6764705882352939,
           0.26470588235294135,
           0.588235294117647,
           0.1470588235294117,
           0.17647058823529393,
           0.9411764705882351,
           0.08823529411764697,
           0.4411764705882353,
           0.23529411764705888,
           0.5294117647058822,
           0.1470588235294117,
           0.7058823529411766,
           0.41176470588235303,
           0.38235294117647056,
           1,
           0.3529411764705883,
           0.6470588235294117,
           0,
           0.7647058823529411,
           0.38235294117647056,
           0.17647058823529393,
           0.11764705882352966,
           0.1470588235294117,
           0.1470588235294117,
           0.5,
           0.6764705882352939,
           0.3529411764705883,
           0.8235294117647056,
           0.17647058823529393,
           0.5588235294117647,
           0.47058823529411753,
           0.08823529411764697,
           0.38235294117647056,
           0.47058823529411753,
           0.26470588235294135,
           0.5588235294117647,
           0.08823529411764697,
           0.02941176470588225,
           0.5588235294117647,
           0.5,
           0.17647058823529393,
           0.38235294117647056,
           0.05882352941176472,
           0.26470588235294135,
           0.38235294117647056,
           0.5294117647058822,
           0.6176470588235292,
           0.4411764705882353,
           0.6470588235294117,
           0.5588235294117647,
           0.20588235294117663,
           0.11764705882352966,
           0.2941176470588236,
           0.5,
           0.7352941176470589,
           0.3529411764705883,
           0.02941176470588225,
           0.1470588235294117,
           0.05882352941176472,
           0.38235294117647056,
           0.9117647058823528,
           0.2941176470588236,
           0.47058823529411753,
           0.7058823529411766,
           0.2941176470588236,
           0.4411764705882353,
           0.3529411764705883,
           0.7941176470588234,
           0.02941176470588225,
           0.3529411764705883
          ],
          "coloraxis": "coloraxis",
          "symbol": "circle"
         },
         "mode": "markers",
         "name": "",
         "scene": "scene",
         "showlegend": false,
         "type": "scatter3d",
         "x": [
          0.6491228070175439,
          0.5087719298245613,
          0.8947368421052629,
          0.7368421052631579,
          0.0701754385964912,
          0.5614035087719298,
          0.6491228070175439,
          0.05263157894736842,
          0.6666666666666666,
          0.12280701754385964,
          0.7719298245614036,
          0.719298245614035,
          0.6140350877192983,
          0.45614035087719296,
          0.3508771929824561,
          0.4736842105263158,
          0.8421052631578946,
          0.4035087719298245,
          0.719298245614035,
          0.5964912280701755,
          0.8596491228070177,
          0.6140350877192983,
          0.719298245614035,
          0.10526315789473684,
          0.0701754385964912,
          0.9999999999999999,
          0.0701754385964912,
          0.7017543859649122,
          0.08771929824561403,
          0.8771929824561403,
          0.03508771929824561,
          0.8245614035087719,
          0.5614035087719298,
          0.719298245614035,
          0.9473684210526315,
          0.4385964912280701,
          0.807017543859649,
          0.05263157894736842,
          0.8596491228070177,
          0.719298245614035,
          0.08771929824561403,
          0.08771929824561403,
          0.4385964912280701,
          0.10526315789473684,
          0.5789473684210525,
          0.6666666666666666,
          0.12280701754385964,
          0.9298245614035087,
          0.0701754385964912,
          0.6140350877192983,
          0.807017543859649,
          0.10526315789473684,
          0.719298245614035,
          0.5263157894736842,
          0.12280701754385964,
          0.807017543859649,
          0.10526315789473684,
          0.0701754385964912,
          0.7894736842105262,
          0.6666666666666666,
          0.15789473684210525,
          0.5263157894736842,
          0.10526315789473684,
          0.08771929824561403,
          0.03508771929824561,
          0.7017543859649122,
          0.6315789473684209,
          0.6140350877192983,
          0.8245614035087719,
          0.5789473684210525,
          0.08771929824561403,
          0.6140350877192983,
          0.5263157894736842,
          0.7719298245614036,
          0.6491228070175439,
          0.5614035087719298,
          0.08771929824561403,
          0.10526315789473684,
          0.05263157894736842,
          0.5438596491228069,
          0.982456140350877,
          0.49122807017543857,
          0.6491228070175439,
          0.6842105263157895,
          0.5263157894736842,
          0.6140350877192983,
          0.6140350877192983,
          0.8771929824561403,
          0,
          0.7017543859649122
         ],
         "y": [
          0.5833333333333334,
          0.4583333333333333,
          1,
          0.7916666666666667,
          0.04166666666666667,
          0.5000000000000001,
          0.6250000000000001,
          0.08333333333333333,
          0.7083333333333334,
          0.16666666666666669,
          0.8333333333333335,
          0.7083333333333334,
          0.5833333333333334,
          0.5000000000000001,
          0.4166666666666667,
          0.375,
          0.6250000000000001,
          0.375,
          0.6250000000000001,
          0.5416666666666667,
          0.9166666666666666,
          0.5833333333333334,
          0.7916666666666667,
          0.20833333333333331,
          0.08333333333333333,
          0.7916666666666667,
          0,
          0.5833333333333334,
          0.04166666666666667,
          1,
          0.04166666666666667,
          0.9166666666666666,
          0.5833333333333334,
          0.75,
          0.7916666666666667,
          0.375,
          0.9583333333333334,
          0.08333333333333333,
          0.8333333333333335,
          0.9583333333333334,
          0.08333333333333333,
          0,
          0.375,
          0.125,
          0.5000000000000001,
          0.5416666666666667,
          0.08333333333333333,
          0.7083333333333334,
          0.04166666666666667,
          0.5833333333333334,
          0.5416666666666667,
          0.04166666666666667,
          0.75,
          0.5000000000000001,
          0.125,
          0.8333333333333335,
          0.04166666666666667,
          0.04166666666666667,
          0.7083333333333334,
          0.7083333333333334,
          0.125,
          0.4583333333333333,
          0.04166666666666667,
          0.04166666666666667,
          0.04166666666666667,
          0.75,
          0.5000000000000001,
          0.6250000000000001,
          1,
          0.5000000000000001,
          0.04166666666666667,
          0.6666666666666667,
          0.5000000000000001,
          0.9166666666666666,
          0.5416666666666667,
          0.4583333333333333,
          0.04166666666666667,
          0.04166666666666667,
          0.04166666666666667,
          0.375,
          0.8333333333333335,
          0.4166666666666667,
          0.4583333333333333,
          0.5833333333333334,
          0.5000000000000001,
          0.5833333333333334,
          0.5000000000000001,
          0.7083333333333334,
          0.04166666666666667,
          0.7916666666666667
         ],
         "z": [
          0.55,
          0.3500000000000001,
          0.8,
          0.5,
          0.6499999999999999,
          0.3500000000000001,
          0.6499999999999999,
          0.75,
          0.6000000000000001,
          0.6499999999999999,
          0.55,
          0.5,
          0.10000000000000009,
          0.44999999999999996,
          0.25,
          0.19999999999999996,
          0.5,
          0.19999999999999996,
          0.3500000000000001,
          0.5,
          0.6000000000000001,
          0.5,
          0.6000000000000001,
          0.75,
          0.75,
          0.3999999999999999,
          0.5,
          0.10000000000000009,
          0.8500000000000001,
          0.6499999999999999,
          0.6000000000000001,
          0.6000000000000001,
          0.5,
          0.3500000000000001,
          0.8999999999999999,
          0.30000000000000004,
          0.55,
          0.1499999999999999,
          0.5,
          0.3999999999999999,
          0.8999999999999999,
          0.55,
          0,
          0.7,
          0.44999999999999996,
          0.3999999999999999,
          0.8999999999999999,
          0.44999999999999996,
          0.75,
          0.6000000000000001,
          0.30000000000000004,
          0.7,
          0.3500000000000001,
          0.3999999999999999,
          0.95,
          0.3999999999999999,
          0.55,
          0.6000000000000001,
          0.55,
          0.3999999999999999,
          0.8999999999999999,
          0.30000000000000004,
          0.6000000000000001,
          0.8500000000000001,
          1,
          0.25,
          0.44999999999999996,
          0.7,
          0.6499999999999999,
          0.44999999999999996,
          0.75,
          0.25,
          0.25,
          0.7,
          0.6000000000000001,
          0.5,
          0.55,
          0.5,
          0.6000000000000001,
          0.3500000000000001,
          0.5,
          0.19999999999999996,
          0.3999999999999999,
          0.55,
          0.1499999999999999,
          0.44999999999999996,
          0.3999999999999999,
          0.6000000000000001,
          0.8,
          0.25
         ]
        }
       ],
       "layout": {
        "coloraxis": {
         "colorbar": {
          "title": {
           "text": "sepal_length"
          }
         },
         "colorscale": [
          [
           0,
           "#0d0887"
          ],
          [
           0.1111111111111111,
           "#46039f"
          ],
          [
           0.2222222222222222,
           "#7201a8"
          ],
          [
           0.3333333333333333,
           "#9c179e"
          ],
          [
           0.4444444444444444,
           "#bd3786"
          ],
          [
           0.5555555555555556,
           "#d8576b"
          ],
          [
           0.6666666666666666,
           "#ed7953"
          ],
          [
           0.7777777777777778,
           "#fb9f3a"
          ],
          [
           0.8888888888888888,
           "#fdca26"
          ],
          [
           1,
           "#f0f921"
          ]
         ]
        },
        "legend": {
         "tracegroupgap": 0
        },
        "margin": {
         "t": 60
        },
        "scene": {
         "domain": {
          "x": [
           0,
           1
          ],
          "y": [
           0,
           1
          ]
         },
         "xaxis": {
          "title": {
           "text": "petal_length"
          }
         },
         "yaxis": {
          "title": {
           "text": "petal_width"
          }
         },
         "zaxis": {
          "title": {
           "text": "sepal_width"
          }
         }
        },
        "template": {
         "data": {
          "bar": [
           {
            "error_x": {
             "color": "#2a3f5f"
            },
            "error_y": {
             "color": "#2a3f5f"
            },
            "marker": {
             "line": {
              "color": "#E5ECF6",
              "width": 0.5
             },
             "pattern": {
              "fillmode": "overlay",
              "size": 10,
              "solidity": 0.2
             }
            },
            "type": "bar"
           }
          ],
          "barpolar": [
           {
            "marker": {
             "line": {
              "color": "#E5ECF6",
              "width": 0.5
             },
             "pattern": {
              "fillmode": "overlay",
              "size": 10,
              "solidity": 0.2
             }
            },
            "type": "barpolar"
           }
          ],
          "carpet": [
           {
            "aaxis": {
             "endlinecolor": "#2a3f5f",
             "gridcolor": "white",
             "linecolor": "white",
             "minorgridcolor": "white",
             "startlinecolor": "#2a3f5f"
            },
            "baxis": {
             "endlinecolor": "#2a3f5f",
             "gridcolor": "white",
             "linecolor": "white",
             "minorgridcolor": "white",
             "startlinecolor": "#2a3f5f"
            },
            "type": "carpet"
           }
          ],
          "choropleth": [
           {
            "colorbar": {
             "outlinewidth": 0,
             "ticks": ""
            },
            "type": "choropleth"
           }
          ],
          "contour": [
           {
            "colorbar": {
             "outlinewidth": 0,
             "ticks": ""
            },
            "colorscale": [
             [
              0,
              "#0d0887"
             ],
             [
              0.1111111111111111,
              "#46039f"
             ],
             [
              0.2222222222222222,
              "#7201a8"
             ],
             [
              0.3333333333333333,
              "#9c179e"
             ],
             [
              0.4444444444444444,
              "#bd3786"
             ],
             [
              0.5555555555555556,
              "#d8576b"
             ],
             [
              0.6666666666666666,
              "#ed7953"
             ],
             [
              0.7777777777777778,
              "#fb9f3a"
             ],
             [
              0.8888888888888888,
              "#fdca26"
             ],
             [
              1,
              "#f0f921"
             ]
            ],
            "type": "contour"
           }
          ],
          "contourcarpet": [
           {
            "colorbar": {
             "outlinewidth": 0,
             "ticks": ""
            },
            "type": "contourcarpet"
           }
          ],
          "heatmap": [
           {
            "colorbar": {
             "outlinewidth": 0,
             "ticks": ""
            },
            "colorscale": [
             [
              0,
              "#0d0887"
             ],
             [
              0.1111111111111111,
              "#46039f"
             ],
             [
              0.2222222222222222,
              "#7201a8"
             ],
             [
              0.3333333333333333,
              "#9c179e"
             ],
             [
              0.4444444444444444,
              "#bd3786"
             ],
             [
              0.5555555555555556,
              "#d8576b"
             ],
             [
              0.6666666666666666,
              "#ed7953"
             ],
             [
              0.7777777777777778,
              "#fb9f3a"
             ],
             [
              0.8888888888888888,
              "#fdca26"
             ],
             [
              1,
              "#f0f921"
             ]
            ],
            "type": "heatmap"
           }
          ],
          "heatmapgl": [
           {
            "colorbar": {
             "outlinewidth": 0,
             "ticks": ""
            },
            "colorscale": [
             [
              0,
              "#0d0887"
             ],
             [
              0.1111111111111111,
              "#46039f"
             ],
             [
              0.2222222222222222,
              "#7201a8"
             ],
             [
              0.3333333333333333,
              "#9c179e"
             ],
             [
              0.4444444444444444,
              "#bd3786"
             ],
             [
              0.5555555555555556,
              "#d8576b"
             ],
             [
              0.6666666666666666,
              "#ed7953"
             ],
             [
              0.7777777777777778,
              "#fb9f3a"
             ],
             [
              0.8888888888888888,
              "#fdca26"
             ],
             [
              1,
              "#f0f921"
             ]
            ],
            "type": "heatmapgl"
           }
          ],
          "histogram": [
           {
            "marker": {
             "pattern": {
              "fillmode": "overlay",
              "size": 10,
              "solidity": 0.2
             }
            },
            "type": "histogram"
           }
          ],
          "histogram2d": [
           {
            "colorbar": {
             "outlinewidth": 0,
             "ticks": ""
            },
            "colorscale": [
             [
              0,
              "#0d0887"
             ],
             [
              0.1111111111111111,
              "#46039f"
             ],
             [
              0.2222222222222222,
              "#7201a8"
             ],
             [
              0.3333333333333333,
              "#9c179e"
             ],
             [
              0.4444444444444444,
              "#bd3786"
             ],
             [
              0.5555555555555556,
              "#d8576b"
             ],
             [
              0.6666666666666666,
              "#ed7953"
             ],
             [
              0.7777777777777778,
              "#fb9f3a"
             ],
             [
              0.8888888888888888,
              "#fdca26"
             ],
             [
              1,
              "#f0f921"
             ]
            ],
            "type": "histogram2d"
           }
          ],
          "histogram2dcontour": [
           {
            "colorbar": {
             "outlinewidth": 0,
             "ticks": ""
            },
            "colorscale": [
             [
              0,
              "#0d0887"
             ],
             [
              0.1111111111111111,
              "#46039f"
             ],
             [
              0.2222222222222222,
              "#7201a8"
             ],
             [
              0.3333333333333333,
              "#9c179e"
             ],
             [
              0.4444444444444444,
              "#bd3786"
             ],
             [
              0.5555555555555556,
              "#d8576b"
             ],
             [
              0.6666666666666666,
              "#ed7953"
             ],
             [
              0.7777777777777778,
              "#fb9f3a"
             ],
             [
              0.8888888888888888,
              "#fdca26"
             ],
             [
              1,
              "#f0f921"
             ]
            ],
            "type": "histogram2dcontour"
           }
          ],
          "mesh3d": [
           {
            "colorbar": {
             "outlinewidth": 0,
             "ticks": ""
            },
            "type": "mesh3d"
           }
          ],
          "parcoords": [
           {
            "line": {
             "colorbar": {
              "outlinewidth": 0,
              "ticks": ""
             }
            },
            "type": "parcoords"
           }
          ],
          "pie": [
           {
            "automargin": true,
            "type": "pie"
           }
          ],
          "scatter": [
           {
            "marker": {
             "colorbar": {
              "outlinewidth": 0,
              "ticks": ""
             }
            },
            "type": "scatter"
           }
          ],
          "scatter3d": [
           {
            "line": {
             "colorbar": {
              "outlinewidth": 0,
              "ticks": ""
             }
            },
            "marker": {
             "colorbar": {
              "outlinewidth": 0,
              "ticks": ""
             }
            },
            "type": "scatter3d"
           }
          ],
          "scattercarpet": [
           {
            "marker": {
             "colorbar": {
              "outlinewidth": 0,
              "ticks": ""
             }
            },
            "type": "scattercarpet"
           }
          ],
          "scattergeo": [
           {
            "marker": {
             "colorbar": {
              "outlinewidth": 0,
              "ticks": ""
             }
            },
            "type": "scattergeo"
           }
          ],
          "scattergl": [
           {
            "marker": {
             "colorbar": {
              "outlinewidth": 0,
              "ticks": ""
             }
            },
            "type": "scattergl"
           }
          ],
          "scattermapbox": [
           {
            "marker": {
             "colorbar": {
              "outlinewidth": 0,
              "ticks": ""
             }
            },
            "type": "scattermapbox"
           }
          ],
          "scatterpolar": [
           {
            "marker": {
             "colorbar": {
              "outlinewidth": 0,
              "ticks": ""
             }
            },
            "type": "scatterpolar"
           }
          ],
          "scatterpolargl": [
           {
            "marker": {
             "colorbar": {
              "outlinewidth": 0,
              "ticks": ""
             }
            },
            "type": "scatterpolargl"
           }
          ],
          "scatterternary": [
           {
            "marker": {
             "colorbar": {
              "outlinewidth": 0,
              "ticks": ""
             }
            },
            "type": "scatterternary"
           }
          ],
          "surface": [
           {
            "colorbar": {
             "outlinewidth": 0,
             "ticks": ""
            },
            "colorscale": [
             [
              0,
              "#0d0887"
             ],
             [
              0.1111111111111111,
              "#46039f"
             ],
             [
              0.2222222222222222,
              "#7201a8"
             ],
             [
              0.3333333333333333,
              "#9c179e"
             ],
             [
              0.4444444444444444,
              "#bd3786"
             ],
             [
              0.5555555555555556,
              "#d8576b"
             ],
             [
              0.6666666666666666,
              "#ed7953"
             ],
             [
              0.7777777777777778,
              "#fb9f3a"
             ],
             [
              0.8888888888888888,
              "#fdca26"
             ],
             [
              1,
              "#f0f921"
             ]
            ],
            "type": "surface"
           }
          ],
          "table": [
           {
            "cells": {
             "fill": {
              "color": "#EBF0F8"
             },
             "line": {
              "color": "white"
             }
            },
            "header": {
             "fill": {
              "color": "#C8D4E3"
             },
             "line": {
              "color": "white"
             }
            },
            "type": "table"
           }
          ]
         },
         "layout": {
          "annotationdefaults": {
           "arrowcolor": "#2a3f5f",
           "arrowhead": 0,
           "arrowwidth": 1
          },
          "autotypenumbers": "strict",
          "coloraxis": {
           "colorbar": {
            "outlinewidth": 0,
            "ticks": ""
           }
          },
          "colorscale": {
           "diverging": [
            [
             0,
             "#8e0152"
            ],
            [
             0.1,
             "#c51b7d"
            ],
            [
             0.2,
             "#de77ae"
            ],
            [
             0.3,
             "#f1b6da"
            ],
            [
             0.4,
             "#fde0ef"
            ],
            [
             0.5,
             "#f7f7f7"
            ],
            [
             0.6,
             "#e6f5d0"
            ],
            [
             0.7,
             "#b8e186"
            ],
            [
             0.8,
             "#7fbc41"
            ],
            [
             0.9,
             "#4d9221"
            ],
            [
             1,
             "#276419"
            ]
           ],
           "sequential": [
            [
             0,
             "#0d0887"
            ],
            [
             0.1111111111111111,
             "#46039f"
            ],
            [
             0.2222222222222222,
             "#7201a8"
            ],
            [
             0.3333333333333333,
             "#9c179e"
            ],
            [
             0.4444444444444444,
             "#bd3786"
            ],
            [
             0.5555555555555556,
             "#d8576b"
            ],
            [
             0.6666666666666666,
             "#ed7953"
            ],
            [
             0.7777777777777778,
             "#fb9f3a"
            ],
            [
             0.8888888888888888,
             "#fdca26"
            ],
            [
             1,
             "#f0f921"
            ]
           ],
           "sequentialminus": [
            [
             0,
             "#0d0887"
            ],
            [
             0.1111111111111111,
             "#46039f"
            ],
            [
             0.2222222222222222,
             "#7201a8"
            ],
            [
             0.3333333333333333,
             "#9c179e"
            ],
            [
             0.4444444444444444,
             "#bd3786"
            ],
            [
             0.5555555555555556,
             "#d8576b"
            ],
            [
             0.6666666666666666,
             "#ed7953"
            ],
            [
             0.7777777777777778,
             "#fb9f3a"
            ],
            [
             0.8888888888888888,
             "#fdca26"
            ],
            [
             1,
             "#f0f921"
            ]
           ]
          },
          "colorway": [
           "#636efa",
           "#EF553B",
           "#00cc96",
           "#ab63fa",
           "#FFA15A",
           "#19d3f3",
           "#FF6692",
           "#B6E880",
           "#FF97FF",
           "#FECB52"
          ],
          "font": {
           "color": "#2a3f5f"
          },
          "geo": {
           "bgcolor": "white",
           "lakecolor": "white",
           "landcolor": "#E5ECF6",
           "showlakes": true,
           "showland": true,
           "subunitcolor": "white"
          },
          "hoverlabel": {
           "align": "left"
          },
          "hovermode": "closest",
          "mapbox": {
           "style": "light"
          },
          "paper_bgcolor": "white",
          "plot_bgcolor": "#E5ECF6",
          "polar": {
           "angularaxis": {
            "gridcolor": "white",
            "linecolor": "white",
            "ticks": ""
           },
           "bgcolor": "#E5ECF6",
           "radialaxis": {
            "gridcolor": "white",
            "linecolor": "white",
            "ticks": ""
           }
          },
          "scene": {
           "xaxis": {
            "backgroundcolor": "#E5ECF6",
            "gridcolor": "white",
            "gridwidth": 2,
            "linecolor": "white",
            "showbackground": true,
            "ticks": "",
            "zerolinecolor": "white"
           },
           "yaxis": {
            "backgroundcolor": "#E5ECF6",
            "gridcolor": "white",
            "gridwidth": 2,
            "linecolor": "white",
            "showbackground": true,
            "ticks": "",
            "zerolinecolor": "white"
           },
           "zaxis": {
            "backgroundcolor": "#E5ECF6",
            "gridcolor": "white",
            "gridwidth": 2,
            "linecolor": "white",
            "showbackground": true,
            "ticks": "",
            "zerolinecolor": "white"
           }
          },
          "shapedefaults": {
           "line": {
            "color": "#2a3f5f"
           }
          },
          "ternary": {
           "aaxis": {
            "gridcolor": "white",
            "linecolor": "white",
            "ticks": ""
           },
           "baxis": {
            "gridcolor": "white",
            "linecolor": "white",
            "ticks": ""
           },
           "bgcolor": "#E5ECF6",
           "caxis": {
            "gridcolor": "white",
            "linecolor": "white",
            "ticks": ""
           }
          },
          "title": {
           "x": 0.05
          },
          "xaxis": {
           "automargin": true,
           "gridcolor": "white",
           "linecolor": "white",
           "ticks": "",
           "title": {
            "standoff": 15
           },
           "zerolinecolor": "white",
           "zerolinewidth": 2
          },
          "yaxis": {
           "automargin": true,
           "gridcolor": "white",
           "linecolor": "white",
           "ticks": "",
           "title": {
            "standoff": 15
           },
           "zerolinecolor": "white",
           "zerolinewidth": 2
          }
         }
        }
       }
      }
     },
     "metadata": {},
     "output_type": "display_data"
    }
   ],
   "source": [
    "fig = px.scatter_3d(X_iris_scaled, x=\"petal_length\", y=\"petal_width\",z=\"sepal_width\",color=\"sepal_length\")\n",
    "fig.show()"
   ]
  },
  {
   "cell_type": "code",
   "execution_count": 8,
   "metadata": {},
   "outputs": [],
   "source": [
    "X = train.drop(columns = \"gender\")\n",
    "\n",
    "# apply scaling so that my distance based algorithms\n",
    "# will properly observe the data present\n",
    "# make, fit, apply:\n",
    "scaler = MinMaxScaler()\n",
    "# train is all numerical so I can call the whole thing\n",
    "X_scaled = pd.DataFrame(\n",
    "    scaler.fit_transform(X),\n",
    "    index = X.index,\n",
    "    columns = X.columns)"
   ]
  },
  {
   "cell_type": "code",
   "execution_count": 9,
   "metadata": {},
   "outputs": [
    {
     "data": {
      "application/vnd.plotly.v1+json": {
       "config": {
        "plotlyServerURL": "https://plot.ly"
       },
       "data": [
        {
         "hovertemplate": "annual_income=%{x}<br>spending_score=%{y}<br>age=%{marker.color}<extra></extra>",
         "legendgroup": "",
         "marker": {
          "color": [
           54,
           29,
           54,
           44,
           58,
           19,
           59,
           48,
           39,
           45,
           28,
           67,
           21,
           20,
           48,
           69,
           26,
           49,
           66,
           19,
           20,
           47,
           20,
           27,
           19,
           47,
           47,
           27,
           32,
           35,
           63,
           54,
           65,
           32,
           39,
           36,
           28,
           24,
           23,
           53,
           29,
           25,
           38,
           48,
           50,
           35,
           21,
           65,
           39,
           34,
           19,
           25,
           43,
           30,
           31,
           26,
           32,
           24,
           50,
           47,
           22,
           21,
           40,
           51,
           29,
           38,
           40,
           45,
           38,
           54,
           18,
           32,
           40,
           50,
           28,
           66,
           18,
           23,
           36,
           23,
           37,
           68,
           58,
           49,
           55,
           29,
           37,
           32,
           21,
           48,
           31,
           30,
           27,
           31,
           43,
           70,
           23,
           18,
           22,
           32,
           31,
           47,
           33,
           46,
           27,
           30,
           56,
           41,
           43,
           63,
           51,
           32,
           67,
           70,
           68,
           30,
           49,
           34,
           20,
           46
          ],
          "coloraxis": "coloraxis",
          "symbol": "circle"
         },
         "mode": "markers",
         "name": "",
         "orientation": "v",
         "showlegend": false,
         "type": "scatter",
         "x": [
          47,
          40,
          28,
          73,
          88,
          65,
          54,
          77,
          69,
          54,
          87,
          19,
          33,
          37,
          61,
          44,
          62,
          39,
          63,
          15,
          21,
          71,
          73,
          60,
          63,
          120,
          49,
          78,
          126,
          18,
          65,
          63,
          63,
          97,
          71,
          87,
          101,
          39,
          29,
          46,
          73,
          24,
          113,
          39,
          85,
          21,
          54,
          38,
          78,
          103,
          74,
          72,
          78,
          19,
          70,
          54,
          103,
          38,
          58,
          78,
          57,
          62,
          29,
          67,
          79,
          71,
          54,
          126,
          64,
          101,
          48,
          60,
          69,
          43,
          76,
          63,
          33,
          18,
          85,
          70,
          78,
          59,
          20,
          33,
          57,
          28,
          20,
          77,
          15,
          60,
          39,
          137,
          40,
          40,
          48,
          46,
          16,
          65,
          17,
          73,
          81,
          60,
          86,
          54,
          46,
          78,
          79,
          103,
          71,
          48,
          44,
          87,
          62,
          49,
          48,
          88,
          62,
          78,
          61,
          25
         ],
         "xaxis": "x",
         "y": [
          59,
          42,
          14,
          7,
          15,
          50,
          47,
          36,
          91,
          53,
          75,
          14,
          81,
          75,
          42,
          46,
          55,
          28,
          48,
          39,
          66,
          9,
          5,
          50,
          54,
          16,
          42,
          89,
          74,
          6,
          43,
          46,
          52,
          86,
          75,
          27,
          68,
          65,
          87,
          46,
          88,
          73,
          91,
          36,
          26,
          35,
          57,
          35,
          88,
          23,
          10,
          34,
          17,
          72,
          77,
          54,
          69,
          92,
          46,
          16,
          55,
          42,
          31,
          43,
          83,
          75,
          48,
          28,
          42,
          24,
          59,
          42,
          58,
          45,
          40,
          50,
          92,
          94,
          75,
          29,
          1,
          55,
          15,
          14,
          58,
          82,
          13,
          74,
          81,
          49,
          61,
          83,
          47,
          42,
          50,
          56,
          77,
          48,
          76,
          73,
          93,
          47,
          95,
          44,
          51,
          73,
          35,
          17,
          35,
          51,
          50,
          63,
          59,
          55,
          48,
          86,
          48,
          22,
          49,
          5
         ],
         "yaxis": "y"
        }
       ],
       "layout": {
        "coloraxis": {
         "colorbar": {
          "title": {
           "text": "age"
          }
         },
         "colorscale": [
          [
           0,
           "#0d0887"
          ],
          [
           0.1111111111111111,
           "#46039f"
          ],
          [
           0.2222222222222222,
           "#7201a8"
          ],
          [
           0.3333333333333333,
           "#9c179e"
          ],
          [
           0.4444444444444444,
           "#bd3786"
          ],
          [
           0.5555555555555556,
           "#d8576b"
          ],
          [
           0.6666666666666666,
           "#ed7953"
          ],
          [
           0.7777777777777778,
           "#fb9f3a"
          ],
          [
           0.8888888888888888,
           "#fdca26"
          ],
          [
           1,
           "#f0f921"
          ]
         ]
        },
        "legend": {
         "tracegroupgap": 0
        },
        "margin": {
         "t": 60
        },
        "template": {
         "data": {
          "bar": [
           {
            "error_x": {
             "color": "#2a3f5f"
            },
            "error_y": {
             "color": "#2a3f5f"
            },
            "marker": {
             "line": {
              "color": "#E5ECF6",
              "width": 0.5
             },
             "pattern": {
              "fillmode": "overlay",
              "size": 10,
              "solidity": 0.2
             }
            },
            "type": "bar"
           }
          ],
          "barpolar": [
           {
            "marker": {
             "line": {
              "color": "#E5ECF6",
              "width": 0.5
             },
             "pattern": {
              "fillmode": "overlay",
              "size": 10,
              "solidity": 0.2
             }
            },
            "type": "barpolar"
           }
          ],
          "carpet": [
           {
            "aaxis": {
             "endlinecolor": "#2a3f5f",
             "gridcolor": "white",
             "linecolor": "white",
             "minorgridcolor": "white",
             "startlinecolor": "#2a3f5f"
            },
            "baxis": {
             "endlinecolor": "#2a3f5f",
             "gridcolor": "white",
             "linecolor": "white",
             "minorgridcolor": "white",
             "startlinecolor": "#2a3f5f"
            },
            "type": "carpet"
           }
          ],
          "choropleth": [
           {
            "colorbar": {
             "outlinewidth": 0,
             "ticks": ""
            },
            "type": "choropleth"
           }
          ],
          "contour": [
           {
            "colorbar": {
             "outlinewidth": 0,
             "ticks": ""
            },
            "colorscale": [
             [
              0,
              "#0d0887"
             ],
             [
              0.1111111111111111,
              "#46039f"
             ],
             [
              0.2222222222222222,
              "#7201a8"
             ],
             [
              0.3333333333333333,
              "#9c179e"
             ],
             [
              0.4444444444444444,
              "#bd3786"
             ],
             [
              0.5555555555555556,
              "#d8576b"
             ],
             [
              0.6666666666666666,
              "#ed7953"
             ],
             [
              0.7777777777777778,
              "#fb9f3a"
             ],
             [
              0.8888888888888888,
              "#fdca26"
             ],
             [
              1,
              "#f0f921"
             ]
            ],
            "type": "contour"
           }
          ],
          "contourcarpet": [
           {
            "colorbar": {
             "outlinewidth": 0,
             "ticks": ""
            },
            "type": "contourcarpet"
           }
          ],
          "heatmap": [
           {
            "colorbar": {
             "outlinewidth": 0,
             "ticks": ""
            },
            "colorscale": [
             [
              0,
              "#0d0887"
             ],
             [
              0.1111111111111111,
              "#46039f"
             ],
             [
              0.2222222222222222,
              "#7201a8"
             ],
             [
              0.3333333333333333,
              "#9c179e"
             ],
             [
              0.4444444444444444,
              "#bd3786"
             ],
             [
              0.5555555555555556,
              "#d8576b"
             ],
             [
              0.6666666666666666,
              "#ed7953"
             ],
             [
              0.7777777777777778,
              "#fb9f3a"
             ],
             [
              0.8888888888888888,
              "#fdca26"
             ],
             [
              1,
              "#f0f921"
             ]
            ],
            "type": "heatmap"
           }
          ],
          "heatmapgl": [
           {
            "colorbar": {
             "outlinewidth": 0,
             "ticks": ""
            },
            "colorscale": [
             [
              0,
              "#0d0887"
             ],
             [
              0.1111111111111111,
              "#46039f"
             ],
             [
              0.2222222222222222,
              "#7201a8"
             ],
             [
              0.3333333333333333,
              "#9c179e"
             ],
             [
              0.4444444444444444,
              "#bd3786"
             ],
             [
              0.5555555555555556,
              "#d8576b"
             ],
             [
              0.6666666666666666,
              "#ed7953"
             ],
             [
              0.7777777777777778,
              "#fb9f3a"
             ],
             [
              0.8888888888888888,
              "#fdca26"
             ],
             [
              1,
              "#f0f921"
             ]
            ],
            "type": "heatmapgl"
           }
          ],
          "histogram": [
           {
            "marker": {
             "pattern": {
              "fillmode": "overlay",
              "size": 10,
              "solidity": 0.2
             }
            },
            "type": "histogram"
           }
          ],
          "histogram2d": [
           {
            "colorbar": {
             "outlinewidth": 0,
             "ticks": ""
            },
            "colorscale": [
             [
              0,
              "#0d0887"
             ],
             [
              0.1111111111111111,
              "#46039f"
             ],
             [
              0.2222222222222222,
              "#7201a8"
             ],
             [
              0.3333333333333333,
              "#9c179e"
             ],
             [
              0.4444444444444444,
              "#bd3786"
             ],
             [
              0.5555555555555556,
              "#d8576b"
             ],
             [
              0.6666666666666666,
              "#ed7953"
             ],
             [
              0.7777777777777778,
              "#fb9f3a"
             ],
             [
              0.8888888888888888,
              "#fdca26"
             ],
             [
              1,
              "#f0f921"
             ]
            ],
            "type": "histogram2d"
           }
          ],
          "histogram2dcontour": [
           {
            "colorbar": {
             "outlinewidth": 0,
             "ticks": ""
            },
            "colorscale": [
             [
              0,
              "#0d0887"
             ],
             [
              0.1111111111111111,
              "#46039f"
             ],
             [
              0.2222222222222222,
              "#7201a8"
             ],
             [
              0.3333333333333333,
              "#9c179e"
             ],
             [
              0.4444444444444444,
              "#bd3786"
             ],
             [
              0.5555555555555556,
              "#d8576b"
             ],
             [
              0.6666666666666666,
              "#ed7953"
             ],
             [
              0.7777777777777778,
              "#fb9f3a"
             ],
             [
              0.8888888888888888,
              "#fdca26"
             ],
             [
              1,
              "#f0f921"
             ]
            ],
            "type": "histogram2dcontour"
           }
          ],
          "mesh3d": [
           {
            "colorbar": {
             "outlinewidth": 0,
             "ticks": ""
            },
            "type": "mesh3d"
           }
          ],
          "parcoords": [
           {
            "line": {
             "colorbar": {
              "outlinewidth": 0,
              "ticks": ""
             }
            },
            "type": "parcoords"
           }
          ],
          "pie": [
           {
            "automargin": true,
            "type": "pie"
           }
          ],
          "scatter": [
           {
            "marker": {
             "colorbar": {
              "outlinewidth": 0,
              "ticks": ""
             }
            },
            "type": "scatter"
           }
          ],
          "scatter3d": [
           {
            "line": {
             "colorbar": {
              "outlinewidth": 0,
              "ticks": ""
             }
            },
            "marker": {
             "colorbar": {
              "outlinewidth": 0,
              "ticks": ""
             }
            },
            "type": "scatter3d"
           }
          ],
          "scattercarpet": [
           {
            "marker": {
             "colorbar": {
              "outlinewidth": 0,
              "ticks": ""
             }
            },
            "type": "scattercarpet"
           }
          ],
          "scattergeo": [
           {
            "marker": {
             "colorbar": {
              "outlinewidth": 0,
              "ticks": ""
             }
            },
            "type": "scattergeo"
           }
          ],
          "scattergl": [
           {
            "marker": {
             "colorbar": {
              "outlinewidth": 0,
              "ticks": ""
             }
            },
            "type": "scattergl"
           }
          ],
          "scattermapbox": [
           {
            "marker": {
             "colorbar": {
              "outlinewidth": 0,
              "ticks": ""
             }
            },
            "type": "scattermapbox"
           }
          ],
          "scatterpolar": [
           {
            "marker": {
             "colorbar": {
              "outlinewidth": 0,
              "ticks": ""
             }
            },
            "type": "scatterpolar"
           }
          ],
          "scatterpolargl": [
           {
            "marker": {
             "colorbar": {
              "outlinewidth": 0,
              "ticks": ""
             }
            },
            "type": "scatterpolargl"
           }
          ],
          "scatterternary": [
           {
            "marker": {
             "colorbar": {
              "outlinewidth": 0,
              "ticks": ""
             }
            },
            "type": "scatterternary"
           }
          ],
          "surface": [
           {
            "colorbar": {
             "outlinewidth": 0,
             "ticks": ""
            },
            "colorscale": [
             [
              0,
              "#0d0887"
             ],
             [
              0.1111111111111111,
              "#46039f"
             ],
             [
              0.2222222222222222,
              "#7201a8"
             ],
             [
              0.3333333333333333,
              "#9c179e"
             ],
             [
              0.4444444444444444,
              "#bd3786"
             ],
             [
              0.5555555555555556,
              "#d8576b"
             ],
             [
              0.6666666666666666,
              "#ed7953"
             ],
             [
              0.7777777777777778,
              "#fb9f3a"
             ],
             [
              0.8888888888888888,
              "#fdca26"
             ],
             [
              1,
              "#f0f921"
             ]
            ],
            "type": "surface"
           }
          ],
          "table": [
           {
            "cells": {
             "fill": {
              "color": "#EBF0F8"
             },
             "line": {
              "color": "white"
             }
            },
            "header": {
             "fill": {
              "color": "#C8D4E3"
             },
             "line": {
              "color": "white"
             }
            },
            "type": "table"
           }
          ]
         },
         "layout": {
          "annotationdefaults": {
           "arrowcolor": "#2a3f5f",
           "arrowhead": 0,
           "arrowwidth": 1
          },
          "autotypenumbers": "strict",
          "coloraxis": {
           "colorbar": {
            "outlinewidth": 0,
            "ticks": ""
           }
          },
          "colorscale": {
           "diverging": [
            [
             0,
             "#8e0152"
            ],
            [
             0.1,
             "#c51b7d"
            ],
            [
             0.2,
             "#de77ae"
            ],
            [
             0.3,
             "#f1b6da"
            ],
            [
             0.4,
             "#fde0ef"
            ],
            [
             0.5,
             "#f7f7f7"
            ],
            [
             0.6,
             "#e6f5d0"
            ],
            [
             0.7,
             "#b8e186"
            ],
            [
             0.8,
             "#7fbc41"
            ],
            [
             0.9,
             "#4d9221"
            ],
            [
             1,
             "#276419"
            ]
           ],
           "sequential": [
            [
             0,
             "#0d0887"
            ],
            [
             0.1111111111111111,
             "#46039f"
            ],
            [
             0.2222222222222222,
             "#7201a8"
            ],
            [
             0.3333333333333333,
             "#9c179e"
            ],
            [
             0.4444444444444444,
             "#bd3786"
            ],
            [
             0.5555555555555556,
             "#d8576b"
            ],
            [
             0.6666666666666666,
             "#ed7953"
            ],
            [
             0.7777777777777778,
             "#fb9f3a"
            ],
            [
             0.8888888888888888,
             "#fdca26"
            ],
            [
             1,
             "#f0f921"
            ]
           ],
           "sequentialminus": [
            [
             0,
             "#0d0887"
            ],
            [
             0.1111111111111111,
             "#46039f"
            ],
            [
             0.2222222222222222,
             "#7201a8"
            ],
            [
             0.3333333333333333,
             "#9c179e"
            ],
            [
             0.4444444444444444,
             "#bd3786"
            ],
            [
             0.5555555555555556,
             "#d8576b"
            ],
            [
             0.6666666666666666,
             "#ed7953"
            ],
            [
             0.7777777777777778,
             "#fb9f3a"
            ],
            [
             0.8888888888888888,
             "#fdca26"
            ],
            [
             1,
             "#f0f921"
            ]
           ]
          },
          "colorway": [
           "#636efa",
           "#EF553B",
           "#00cc96",
           "#ab63fa",
           "#FFA15A",
           "#19d3f3",
           "#FF6692",
           "#B6E880",
           "#FF97FF",
           "#FECB52"
          ],
          "font": {
           "color": "#2a3f5f"
          },
          "geo": {
           "bgcolor": "white",
           "lakecolor": "white",
           "landcolor": "#E5ECF6",
           "showlakes": true,
           "showland": true,
           "subunitcolor": "white"
          },
          "hoverlabel": {
           "align": "left"
          },
          "hovermode": "closest",
          "mapbox": {
           "style": "light"
          },
          "paper_bgcolor": "white",
          "plot_bgcolor": "#E5ECF6",
          "polar": {
           "angularaxis": {
            "gridcolor": "white",
            "linecolor": "white",
            "ticks": ""
           },
           "bgcolor": "#E5ECF6",
           "radialaxis": {
            "gridcolor": "white",
            "linecolor": "white",
            "ticks": ""
           }
          },
          "scene": {
           "xaxis": {
            "backgroundcolor": "#E5ECF6",
            "gridcolor": "white",
            "gridwidth": 2,
            "linecolor": "white",
            "showbackground": true,
            "ticks": "",
            "zerolinecolor": "white"
           },
           "yaxis": {
            "backgroundcolor": "#E5ECF6",
            "gridcolor": "white",
            "gridwidth": 2,
            "linecolor": "white",
            "showbackground": true,
            "ticks": "",
            "zerolinecolor": "white"
           },
           "zaxis": {
            "backgroundcolor": "#E5ECF6",
            "gridcolor": "white",
            "gridwidth": 2,
            "linecolor": "white",
            "showbackground": true,
            "ticks": "",
            "zerolinecolor": "white"
           }
          },
          "shapedefaults": {
           "line": {
            "color": "#2a3f5f"
           }
          },
          "ternary": {
           "aaxis": {
            "gridcolor": "white",
            "linecolor": "white",
            "ticks": ""
           },
           "baxis": {
            "gridcolor": "white",
            "linecolor": "white",
            "ticks": ""
           },
           "bgcolor": "#E5ECF6",
           "caxis": {
            "gridcolor": "white",
            "linecolor": "white",
            "ticks": ""
           }
          },
          "title": {
           "x": 0.05
          },
          "xaxis": {
           "automargin": true,
           "gridcolor": "white",
           "linecolor": "white",
           "ticks": "",
           "title": {
            "standoff": 15
           },
           "zerolinecolor": "white",
           "zerolinewidth": 2
          },
          "yaxis": {
           "automargin": true,
           "gridcolor": "white",
           "linecolor": "white",
           "ticks": "",
           "title": {
            "standoff": 15
           },
           "zerolinecolor": "white",
           "zerolinewidth": 2
          }
         }
        },
        "xaxis": {
         "anchor": "y",
         "domain": [
          0,
          1
         ],
         "title": {
          "text": "annual_income"
         }
        },
        "yaxis": {
         "anchor": "x",
         "domain": [
          0,
          1
         ],
         "title": {
          "text": "spending_score"
         }
        }
       }
      }
     },
     "metadata": {},
     "output_type": "display_data"
    }
   ],
   "source": [
    "fig = px.scatter(X, x=\"annual_income\", y=\"spending_score\",color=\"age\")\n",
    "fig.show()"
   ]
  },
  {
   "cell_type": "code",
   "execution_count": 10,
   "metadata": {},
   "outputs": [
    {
     "data": {
      "application/vnd.plotly.v1+json": {
       "config": {
        "plotlyServerURL": "https://plot.ly"
       },
       "data": [
        {
         "hovertemplate": "annual_income=%{x}<br>spending_score=%{y}<br>age=%{marker.color}<extra></extra>",
         "legendgroup": "",
         "marker": {
          "color": [
           0.6923076923076924,
           0.21153846153846156,
           0.6923076923076924,
           0.5000000000000001,
           0.7692307692307693,
           0.019230769230769273,
           0.7884615384615384,
           0.576923076923077,
           0.40384615384615385,
           0.5192307692307693,
           0.1923076923076924,
           0.9423076923076924,
           0.05769230769230771,
           0.03846153846153849,
           0.576923076923077,
           0.980769230769231,
           0.15384615384615385,
           0.5961538461538463,
           0.9230769230769232,
           0.019230769230769273,
           0.03846153846153849,
           0.5576923076923077,
           0.03846153846153849,
           0.17307692307692313,
           0.019230769230769273,
           0.5576923076923077,
           0.5576923076923077,
           0.17307692307692313,
           0.2692307692307693,
           0.326923076923077,
           0.8653846153846155,
           0.6923076923076924,
           0.9038461538461539,
           0.2692307692307693,
           0.40384615384615385,
           0.34615384615384615,
           0.1923076923076924,
           0.11538461538461542,
           0.0961538461538462,
           0.6730769230769232,
           0.21153846153846156,
           0.13461538461538464,
           0.3846153846153847,
           0.576923076923077,
           0.6153846153846154,
           0.326923076923077,
           0.05769230769230771,
           0.9038461538461539,
           0.40384615384615385,
           0.3076923076923077,
           0.019230769230769273,
           0.13461538461538464,
           0.48076923076923084,
           0.23076923076923084,
           0.25,
           0.15384615384615385,
           0.2692307692307693,
           0.11538461538461542,
           0.6153846153846154,
           0.5576923076923077,
           0.07692307692307698,
           0.05769230769230771,
           0.42307692307692313,
           0.6346153846153847,
           0.21153846153846156,
           0.3846153846153847,
           0.42307692307692313,
           0.5192307692307693,
           0.3846153846153847,
           0.6923076923076924,
           0,
           0.2692307692307693,
           0.42307692307692313,
           0.6153846153846154,
           0.1923076923076924,
           0.9230769230769232,
           0,
           0.0961538461538462,
           0.34615384615384615,
           0.0961538461538462,
           0.3653846153846154,
           0.9615384615384616,
           0.7692307692307693,
           0.5961538461538463,
           0.7115384615384616,
           0.21153846153846156,
           0.3653846153846154,
           0.2692307692307693,
           0.05769230769230771,
           0.576923076923077,
           0.25,
           0.23076923076923084,
           0.17307692307692313,
           0.25,
           0.48076923076923084,
           1,
           0.0961538461538462,
           0,
           0.07692307692307698,
           0.2692307692307693,
           0.25,
           0.5576923076923077,
           0.28846153846153855,
           0.5384615384615385,
           0.17307692307692313,
           0.23076923076923084,
           0.730769230769231,
           0.4423076923076924,
           0.48076923076923084,
           0.8653846153846155,
           0.6346153846153847,
           0.2692307692307693,
           0.9423076923076924,
           1,
           0.9615384615384616,
           0.23076923076923084,
           0.5961538461538463,
           0.3076923076923077,
           0.03846153846153849,
           0.5384615384615385
          ],
          "coloraxis": "coloraxis",
          "symbol": "circle"
         },
         "mode": "markers",
         "name": "",
         "orientation": "v",
         "showlegend": false,
         "type": "scatter",
         "x": [
          0.26229508196721313,
          0.20491803278688525,
          0.10655737704918032,
          0.47540983606557374,
          0.5983606557377049,
          0.4098360655737705,
          0.319672131147541,
          0.5081967213114754,
          0.4426229508196722,
          0.319672131147541,
          0.5901639344262295,
          0.032786885245901634,
          0.14754098360655737,
          0.180327868852459,
          0.3770491803278688,
          0.23770491803278687,
          0.38524590163934425,
          0.19672131147540983,
          0.39344262295081966,
          0,
          0.049180327868852444,
          0.4590163934426229,
          0.47540983606557374,
          0.36885245901639346,
          0.39344262295081966,
          0.8606557377049181,
          0.2786885245901639,
          0.5163934426229508,
          0.9098360655737705,
          0.024590163934426215,
          0.4098360655737705,
          0.39344262295081966,
          0.39344262295081966,
          0.6721311475409836,
          0.4590163934426229,
          0.5901639344262295,
          0.7049180327868853,
          0.19672131147540983,
          0.11475409836065574,
          0.2540983606557377,
          0.47540983606557374,
          0.07377049180327867,
          0.8032786885245902,
          0.19672131147540983,
          0.5737704918032787,
          0.049180327868852444,
          0.319672131147541,
          0.1885245901639344,
          0.5163934426229508,
          0.7213114754098361,
          0.48360655737704916,
          0.4672131147540983,
          0.5163934426229508,
          0.032786885245901634,
          0.4508196721311476,
          0.319672131147541,
          0.7213114754098361,
          0.1885245901639344,
          0.3524590163934426,
          0.5163934426229508,
          0.3442622950819672,
          0.38524590163934425,
          0.11475409836065574,
          0.42622950819672134,
          0.5245901639344263,
          0.4590163934426229,
          0.319672131147541,
          0.9098360655737705,
          0.4016393442622951,
          0.7049180327868853,
          0.2704918032786885,
          0.36885245901639346,
          0.4426229508196722,
          0.22950819672131145,
          0.5,
          0.39344262295081966,
          0.14754098360655737,
          0.024590163934426215,
          0.5737704918032787,
          0.4508196721311476,
          0.5163934426229508,
          0.36065573770491804,
          0.04098360655737705,
          0.14754098360655737,
          0.3442622950819672,
          0.10655737704918032,
          0.04098360655737705,
          0.5081967213114754,
          0,
          0.36885245901639346,
          0.19672131147540983,
          1,
          0.20491803278688525,
          0.20491803278688525,
          0.2704918032786885,
          0.2540983606557377,
          0.008196721311475405,
          0.4098360655737705,
          0.016393442622950824,
          0.47540983606557374,
          0.5409836065573771,
          0.36885245901639346,
          0.5819672131147541,
          0.319672131147541,
          0.2540983606557377,
          0.5163934426229508,
          0.5245901639344263,
          0.7213114754098361,
          0.4590163934426229,
          0.2704918032786885,
          0.23770491803278687,
          0.5901639344262295,
          0.38524590163934425,
          0.2786885245901639,
          0.2704918032786885,
          0.5983606557377049,
          0.38524590163934425,
          0.5163934426229508,
          0.3770491803278688,
          0.08196721311475409
         ],
         "xaxis": "x",
         "y": [
          0.6170212765957447,
          0.4361702127659574,
          0.13829787234042554,
          0.06382978723404255,
          0.14893617021276598,
          0.5212765957446809,
          0.48936170212765956,
          0.3723404255319149,
          0.9574468085106383,
          0.5531914893617021,
          0.7872340425531915,
          0.13829787234042554,
          0.851063829787234,
          0.7872340425531915,
          0.4361702127659574,
          0.4787234042553191,
          0.574468085106383,
          0.28723404255319146,
          0.49999999999999994,
          0.40425531914893614,
          0.6914893617021277,
          0.0851063829787234,
          0.0425531914893617,
          0.5212765957446809,
          0.5638297872340425,
          0.1595744680851064,
          0.4361702127659574,
          0.9361702127659575,
          0.7765957446808511,
          0.05319148936170212,
          0.44680851063829785,
          0.4787234042553191,
          0.5425531914893618,
          0.9042553191489362,
          0.7872340425531915,
          0.276595744680851,
          0.7127659574468085,
          0.6808510638297872,
          0.9148936170212766,
          0.4787234042553191,
          0.9255319148936171,
          0.7659574468085106,
          0.9574468085106383,
          0.3723404255319149,
          0.26595744680851063,
          0.36170212765957444,
          0.5957446808510638,
          0.36170212765957444,
          0.9255319148936171,
          0.23404255319148937,
          0.09574468085106383,
          0.351063829787234,
          0.1702127659574468,
          0.7553191489361702,
          0.8085106382978724,
          0.5638297872340425,
          0.723404255319149,
          0.9680851063829787,
          0.4787234042553191,
          0.1595744680851064,
          0.574468085106383,
          0.4361702127659574,
          0.3191489361702127,
          0.44680851063829785,
          0.8723404255319149,
          0.7872340425531915,
          0.49999999999999994,
          0.28723404255319146,
          0.4361702127659574,
          0.24468085106382978,
          0.6170212765957447,
          0.4361702127659574,
          0.6063829787234043,
          0.4680851063829787,
          0.4148936170212766,
          0.5212765957446809,
          0.9680851063829787,
          0.9893617021276596,
          0.7872340425531915,
          0.2978723404255319,
          0,
          0.574468085106383,
          0.14893617021276598,
          0.13829787234042554,
          0.6063829787234043,
          0.8617021276595744,
          0.12765957446808512,
          0.7765957446808511,
          0.851063829787234,
          0.5106382978723405,
          0.6382978723404256,
          0.8723404255319149,
          0.48936170212765956,
          0.4361702127659574,
          0.5212765957446809,
          0.5851063829787234,
          0.8085106382978724,
          0.49999999999999994,
          0.7978723404255319,
          0.7659574468085106,
          0.9787234042553191,
          0.48936170212765956,
          1,
          0.4574468085106383,
          0.5319148936170213,
          0.7659574468085106,
          0.36170212765957444,
          0.1702127659574468,
          0.36170212765957444,
          0.5319148936170213,
          0.5212765957446809,
          0.6595744680851064,
          0.6170212765957447,
          0.574468085106383,
          0.49999999999999994,
          0.9042553191489362,
          0.49999999999999994,
          0.22340425531914895,
          0.5106382978723405,
          0.0425531914893617
         ],
         "yaxis": "y"
        }
       ],
       "layout": {
        "coloraxis": {
         "colorbar": {
          "title": {
           "text": "age"
          }
         },
         "colorscale": [
          [
           0,
           "#0d0887"
          ],
          [
           0.1111111111111111,
           "#46039f"
          ],
          [
           0.2222222222222222,
           "#7201a8"
          ],
          [
           0.3333333333333333,
           "#9c179e"
          ],
          [
           0.4444444444444444,
           "#bd3786"
          ],
          [
           0.5555555555555556,
           "#d8576b"
          ],
          [
           0.6666666666666666,
           "#ed7953"
          ],
          [
           0.7777777777777778,
           "#fb9f3a"
          ],
          [
           0.8888888888888888,
           "#fdca26"
          ],
          [
           1,
           "#f0f921"
          ]
         ]
        },
        "legend": {
         "tracegroupgap": 0
        },
        "margin": {
         "t": 60
        },
        "template": {
         "data": {
          "bar": [
           {
            "error_x": {
             "color": "#2a3f5f"
            },
            "error_y": {
             "color": "#2a3f5f"
            },
            "marker": {
             "line": {
              "color": "#E5ECF6",
              "width": 0.5
             },
             "pattern": {
              "fillmode": "overlay",
              "size": 10,
              "solidity": 0.2
             }
            },
            "type": "bar"
           }
          ],
          "barpolar": [
           {
            "marker": {
             "line": {
              "color": "#E5ECF6",
              "width": 0.5
             },
             "pattern": {
              "fillmode": "overlay",
              "size": 10,
              "solidity": 0.2
             }
            },
            "type": "barpolar"
           }
          ],
          "carpet": [
           {
            "aaxis": {
             "endlinecolor": "#2a3f5f",
             "gridcolor": "white",
             "linecolor": "white",
             "minorgridcolor": "white",
             "startlinecolor": "#2a3f5f"
            },
            "baxis": {
             "endlinecolor": "#2a3f5f",
             "gridcolor": "white",
             "linecolor": "white",
             "minorgridcolor": "white",
             "startlinecolor": "#2a3f5f"
            },
            "type": "carpet"
           }
          ],
          "choropleth": [
           {
            "colorbar": {
             "outlinewidth": 0,
             "ticks": ""
            },
            "type": "choropleth"
           }
          ],
          "contour": [
           {
            "colorbar": {
             "outlinewidth": 0,
             "ticks": ""
            },
            "colorscale": [
             [
              0,
              "#0d0887"
             ],
             [
              0.1111111111111111,
              "#46039f"
             ],
             [
              0.2222222222222222,
              "#7201a8"
             ],
             [
              0.3333333333333333,
              "#9c179e"
             ],
             [
              0.4444444444444444,
              "#bd3786"
             ],
             [
              0.5555555555555556,
              "#d8576b"
             ],
             [
              0.6666666666666666,
              "#ed7953"
             ],
             [
              0.7777777777777778,
              "#fb9f3a"
             ],
             [
              0.8888888888888888,
              "#fdca26"
             ],
             [
              1,
              "#f0f921"
             ]
            ],
            "type": "contour"
           }
          ],
          "contourcarpet": [
           {
            "colorbar": {
             "outlinewidth": 0,
             "ticks": ""
            },
            "type": "contourcarpet"
           }
          ],
          "heatmap": [
           {
            "colorbar": {
             "outlinewidth": 0,
             "ticks": ""
            },
            "colorscale": [
             [
              0,
              "#0d0887"
             ],
             [
              0.1111111111111111,
              "#46039f"
             ],
             [
              0.2222222222222222,
              "#7201a8"
             ],
             [
              0.3333333333333333,
              "#9c179e"
             ],
             [
              0.4444444444444444,
              "#bd3786"
             ],
             [
              0.5555555555555556,
              "#d8576b"
             ],
             [
              0.6666666666666666,
              "#ed7953"
             ],
             [
              0.7777777777777778,
              "#fb9f3a"
             ],
             [
              0.8888888888888888,
              "#fdca26"
             ],
             [
              1,
              "#f0f921"
             ]
            ],
            "type": "heatmap"
           }
          ],
          "heatmapgl": [
           {
            "colorbar": {
             "outlinewidth": 0,
             "ticks": ""
            },
            "colorscale": [
             [
              0,
              "#0d0887"
             ],
             [
              0.1111111111111111,
              "#46039f"
             ],
             [
              0.2222222222222222,
              "#7201a8"
             ],
             [
              0.3333333333333333,
              "#9c179e"
             ],
             [
              0.4444444444444444,
              "#bd3786"
             ],
             [
              0.5555555555555556,
              "#d8576b"
             ],
             [
              0.6666666666666666,
              "#ed7953"
             ],
             [
              0.7777777777777778,
              "#fb9f3a"
             ],
             [
              0.8888888888888888,
              "#fdca26"
             ],
             [
              1,
              "#f0f921"
             ]
            ],
            "type": "heatmapgl"
           }
          ],
          "histogram": [
           {
            "marker": {
             "pattern": {
              "fillmode": "overlay",
              "size": 10,
              "solidity": 0.2
             }
            },
            "type": "histogram"
           }
          ],
          "histogram2d": [
           {
            "colorbar": {
             "outlinewidth": 0,
             "ticks": ""
            },
            "colorscale": [
             [
              0,
              "#0d0887"
             ],
             [
              0.1111111111111111,
              "#46039f"
             ],
             [
              0.2222222222222222,
              "#7201a8"
             ],
             [
              0.3333333333333333,
              "#9c179e"
             ],
             [
              0.4444444444444444,
              "#bd3786"
             ],
             [
              0.5555555555555556,
              "#d8576b"
             ],
             [
              0.6666666666666666,
              "#ed7953"
             ],
             [
              0.7777777777777778,
              "#fb9f3a"
             ],
             [
              0.8888888888888888,
              "#fdca26"
             ],
             [
              1,
              "#f0f921"
             ]
            ],
            "type": "histogram2d"
           }
          ],
          "histogram2dcontour": [
           {
            "colorbar": {
             "outlinewidth": 0,
             "ticks": ""
            },
            "colorscale": [
             [
              0,
              "#0d0887"
             ],
             [
              0.1111111111111111,
              "#46039f"
             ],
             [
              0.2222222222222222,
              "#7201a8"
             ],
             [
              0.3333333333333333,
              "#9c179e"
             ],
             [
              0.4444444444444444,
              "#bd3786"
             ],
             [
              0.5555555555555556,
              "#d8576b"
             ],
             [
              0.6666666666666666,
              "#ed7953"
             ],
             [
              0.7777777777777778,
              "#fb9f3a"
             ],
             [
              0.8888888888888888,
              "#fdca26"
             ],
             [
              1,
              "#f0f921"
             ]
            ],
            "type": "histogram2dcontour"
           }
          ],
          "mesh3d": [
           {
            "colorbar": {
             "outlinewidth": 0,
             "ticks": ""
            },
            "type": "mesh3d"
           }
          ],
          "parcoords": [
           {
            "line": {
             "colorbar": {
              "outlinewidth": 0,
              "ticks": ""
             }
            },
            "type": "parcoords"
           }
          ],
          "pie": [
           {
            "automargin": true,
            "type": "pie"
           }
          ],
          "scatter": [
           {
            "marker": {
             "colorbar": {
              "outlinewidth": 0,
              "ticks": ""
             }
            },
            "type": "scatter"
           }
          ],
          "scatter3d": [
           {
            "line": {
             "colorbar": {
              "outlinewidth": 0,
              "ticks": ""
             }
            },
            "marker": {
             "colorbar": {
              "outlinewidth": 0,
              "ticks": ""
             }
            },
            "type": "scatter3d"
           }
          ],
          "scattercarpet": [
           {
            "marker": {
             "colorbar": {
              "outlinewidth": 0,
              "ticks": ""
             }
            },
            "type": "scattercarpet"
           }
          ],
          "scattergeo": [
           {
            "marker": {
             "colorbar": {
              "outlinewidth": 0,
              "ticks": ""
             }
            },
            "type": "scattergeo"
           }
          ],
          "scattergl": [
           {
            "marker": {
             "colorbar": {
              "outlinewidth": 0,
              "ticks": ""
             }
            },
            "type": "scattergl"
           }
          ],
          "scattermapbox": [
           {
            "marker": {
             "colorbar": {
              "outlinewidth": 0,
              "ticks": ""
             }
            },
            "type": "scattermapbox"
           }
          ],
          "scatterpolar": [
           {
            "marker": {
             "colorbar": {
              "outlinewidth": 0,
              "ticks": ""
             }
            },
            "type": "scatterpolar"
           }
          ],
          "scatterpolargl": [
           {
            "marker": {
             "colorbar": {
              "outlinewidth": 0,
              "ticks": ""
             }
            },
            "type": "scatterpolargl"
           }
          ],
          "scatterternary": [
           {
            "marker": {
             "colorbar": {
              "outlinewidth": 0,
              "ticks": ""
             }
            },
            "type": "scatterternary"
           }
          ],
          "surface": [
           {
            "colorbar": {
             "outlinewidth": 0,
             "ticks": ""
            },
            "colorscale": [
             [
              0,
              "#0d0887"
             ],
             [
              0.1111111111111111,
              "#46039f"
             ],
             [
              0.2222222222222222,
              "#7201a8"
             ],
             [
              0.3333333333333333,
              "#9c179e"
             ],
             [
              0.4444444444444444,
              "#bd3786"
             ],
             [
              0.5555555555555556,
              "#d8576b"
             ],
             [
              0.6666666666666666,
              "#ed7953"
             ],
             [
              0.7777777777777778,
              "#fb9f3a"
             ],
             [
              0.8888888888888888,
              "#fdca26"
             ],
             [
              1,
              "#f0f921"
             ]
            ],
            "type": "surface"
           }
          ],
          "table": [
           {
            "cells": {
             "fill": {
              "color": "#EBF0F8"
             },
             "line": {
              "color": "white"
             }
            },
            "header": {
             "fill": {
              "color": "#C8D4E3"
             },
             "line": {
              "color": "white"
             }
            },
            "type": "table"
           }
          ]
         },
         "layout": {
          "annotationdefaults": {
           "arrowcolor": "#2a3f5f",
           "arrowhead": 0,
           "arrowwidth": 1
          },
          "autotypenumbers": "strict",
          "coloraxis": {
           "colorbar": {
            "outlinewidth": 0,
            "ticks": ""
           }
          },
          "colorscale": {
           "diverging": [
            [
             0,
             "#8e0152"
            ],
            [
             0.1,
             "#c51b7d"
            ],
            [
             0.2,
             "#de77ae"
            ],
            [
             0.3,
             "#f1b6da"
            ],
            [
             0.4,
             "#fde0ef"
            ],
            [
             0.5,
             "#f7f7f7"
            ],
            [
             0.6,
             "#e6f5d0"
            ],
            [
             0.7,
             "#b8e186"
            ],
            [
             0.8,
             "#7fbc41"
            ],
            [
             0.9,
             "#4d9221"
            ],
            [
             1,
             "#276419"
            ]
           ],
           "sequential": [
            [
             0,
             "#0d0887"
            ],
            [
             0.1111111111111111,
             "#46039f"
            ],
            [
             0.2222222222222222,
             "#7201a8"
            ],
            [
             0.3333333333333333,
             "#9c179e"
            ],
            [
             0.4444444444444444,
             "#bd3786"
            ],
            [
             0.5555555555555556,
             "#d8576b"
            ],
            [
             0.6666666666666666,
             "#ed7953"
            ],
            [
             0.7777777777777778,
             "#fb9f3a"
            ],
            [
             0.8888888888888888,
             "#fdca26"
            ],
            [
             1,
             "#f0f921"
            ]
           ],
           "sequentialminus": [
            [
             0,
             "#0d0887"
            ],
            [
             0.1111111111111111,
             "#46039f"
            ],
            [
             0.2222222222222222,
             "#7201a8"
            ],
            [
             0.3333333333333333,
             "#9c179e"
            ],
            [
             0.4444444444444444,
             "#bd3786"
            ],
            [
             0.5555555555555556,
             "#d8576b"
            ],
            [
             0.6666666666666666,
             "#ed7953"
            ],
            [
             0.7777777777777778,
             "#fb9f3a"
            ],
            [
             0.8888888888888888,
             "#fdca26"
            ],
            [
             1,
             "#f0f921"
            ]
           ]
          },
          "colorway": [
           "#636efa",
           "#EF553B",
           "#00cc96",
           "#ab63fa",
           "#FFA15A",
           "#19d3f3",
           "#FF6692",
           "#B6E880",
           "#FF97FF",
           "#FECB52"
          ],
          "font": {
           "color": "#2a3f5f"
          },
          "geo": {
           "bgcolor": "white",
           "lakecolor": "white",
           "landcolor": "#E5ECF6",
           "showlakes": true,
           "showland": true,
           "subunitcolor": "white"
          },
          "hoverlabel": {
           "align": "left"
          },
          "hovermode": "closest",
          "mapbox": {
           "style": "light"
          },
          "paper_bgcolor": "white",
          "plot_bgcolor": "#E5ECF6",
          "polar": {
           "angularaxis": {
            "gridcolor": "white",
            "linecolor": "white",
            "ticks": ""
           },
           "bgcolor": "#E5ECF6",
           "radialaxis": {
            "gridcolor": "white",
            "linecolor": "white",
            "ticks": ""
           }
          },
          "scene": {
           "xaxis": {
            "backgroundcolor": "#E5ECF6",
            "gridcolor": "white",
            "gridwidth": 2,
            "linecolor": "white",
            "showbackground": true,
            "ticks": "",
            "zerolinecolor": "white"
           },
           "yaxis": {
            "backgroundcolor": "#E5ECF6",
            "gridcolor": "white",
            "gridwidth": 2,
            "linecolor": "white",
            "showbackground": true,
            "ticks": "",
            "zerolinecolor": "white"
           },
           "zaxis": {
            "backgroundcolor": "#E5ECF6",
            "gridcolor": "white",
            "gridwidth": 2,
            "linecolor": "white",
            "showbackground": true,
            "ticks": "",
            "zerolinecolor": "white"
           }
          },
          "shapedefaults": {
           "line": {
            "color": "#2a3f5f"
           }
          },
          "ternary": {
           "aaxis": {
            "gridcolor": "white",
            "linecolor": "white",
            "ticks": ""
           },
           "baxis": {
            "gridcolor": "white",
            "linecolor": "white",
            "ticks": ""
           },
           "bgcolor": "#E5ECF6",
           "caxis": {
            "gridcolor": "white",
            "linecolor": "white",
            "ticks": ""
           }
          },
          "title": {
           "x": 0.05
          },
          "xaxis": {
           "automargin": true,
           "gridcolor": "white",
           "linecolor": "white",
           "ticks": "",
           "title": {
            "standoff": 15
           },
           "zerolinecolor": "white",
           "zerolinewidth": 2
          },
          "yaxis": {
           "automargin": true,
           "gridcolor": "white",
           "linecolor": "white",
           "ticks": "",
           "title": {
            "standoff": 15
           },
           "zerolinecolor": "white",
           "zerolinewidth": 2
          }
         }
        },
        "xaxis": {
         "anchor": "y",
         "domain": [
          0,
          1
         ],
         "title": {
          "text": "annual_income"
         }
        },
        "yaxis": {
         "anchor": "x",
         "domain": [
          0,
          1
         ],
         "title": {
          "text": "spending_score"
         }
        }
       }
      }
     },
     "metadata": {},
     "output_type": "display_data"
    }
   ],
   "source": [
    "fig = px.scatter(X_scaled, x=\"annual_income\", y=\"spending_score\",color=\"age\")\n",
    "fig.show()"
   ]
  },
  {
   "cell_type": "code",
   "execution_count": 39,
   "metadata": {},
   "outputs": [
    {
     "data": {
      "image/png": "[encoded data removed]",
      "text/plain": [
       "<Figure size 648x432 with 1 Axes>"
      ]
     },
     "metadata": {},
     "output_type": "display_data"
    }
   ],
   "source": [
    "with plt.style.context('seaborn-whitegrid'):\n",
    "    plt.figure(figsize=(9, 6))\n",
    "    pd.Series({k: KMeans(k).fit(X_iris_scaled).inertia_ for k in range(2, 12)}).plot(marker='x')\n",
    "    plt.xticks(range(2, 12))\n",
    "    plt.xlabel('k')\n",
    "    plt.ylabel('inertia')\n",
    "    plt.title('Change in inertia as k increases for iris')"
   ]
  },
  {
   "cell_type": "markdown",
   "metadata": {},
   "source": [
    "3"
   ]
  },
  {
   "cell_type": "code",
   "execution_count": 11,
   "metadata": {},
   "outputs": [
    {
     "data": {
      "image/png": "[encoded data removed]",
      "text/plain": [
       "<Figure size 648x432 with 1 Axes>"
      ]
     },
     "metadata": {},
     "output_type": "display_data"
    }
   ],
   "source": [
    "with plt.style.context('seaborn-whitegrid'):\n",
    "    plt.figure(figsize=(9, 6))\n",
    "    pd.Series({k: KMeans(k).fit(X).inertia_ for k in range(2, 12)}).plot(marker='x')\n",
    "    plt.xticks(range(2, 12))\n",
    "    plt.xlabel('k')\n",
    "    plt.ylabel('inertia')\n",
    "    plt.title('Change in inertia as k increases for mall (unscaled)')"
   ]
  },
  {
   "cell_type": "code",
   "execution_count": 12,
   "metadata": {},
   "outputs": [
    {
     "data": {
      "image/png": "[encoded data removed]",
      "text/plain": [
       "<Figure size 648x432 with 1 Axes>"
      ]
     },
     "metadata": {},
     "output_type": "display_data"
    }
   ],
   "source": [
    "with plt.style.context('seaborn-whitegrid'):\n",
    "    plt.figure(figsize=(9, 6))\n",
    "    pd.Series({k: KMeans(k).fit(X_scaled).inertia_ for k in range(2, 12)}).plot(marker='x')\n",
    "    plt.xticks(range(2, 12))\n",
    "    plt.xlabel('k')\n",
    "    plt.ylabel('inertia')\n",
    "    plt.title('Change in inertia as k increases for mall (scaled)')"
   ]
  },
  {
   "cell_type": "code",
   "execution_count": 57,
   "metadata": {},
   "outputs": [
    {
     "data": {
      "text/html": [
       "<div>\n",
       "<style scoped>\n",
       "    .dataframe tbody tr th:only-of-type {\n",
       "        vertical-align: middle;\n",
       "    }\n",
       "\n",
       "    .dataframe tbody tr th {\n",
       "        vertical-align: top;\n",
       "    }\n",
       "\n",
       "    .dataframe thead th {\n",
       "        text-align: right;\n",
       "    }\n",
       "</style>\n",
       "<table border=\"1\" class=\"dataframe\">\n",
       "  <thead>\n",
       "    <tr style=\"text-align: right;\">\n",
       "      <th></th>\n",
       "      <th>sepal_length</th>\n",
       "      <th>sepal_width</th>\n",
       "      <th>petal_length</th>\n",
       "      <th>petal_width</th>\n",
       "      <th>cluster</th>\n",
       "    </tr>\n",
       "  </thead>\n",
       "  <tbody>\n",
       "    <tr>\n",
       "      <th>86</th>\n",
       "      <td>0.647059</td>\n",
       "      <td>0.55</td>\n",
       "      <td>0.649123</td>\n",
       "      <td>0.583333</td>\n",
       "      <td>1</td>\n",
       "    </tr>\n",
       "    <tr>\n",
       "      <th>82</th>\n",
       "      <td>0.382353</td>\n",
       "      <td>0.35</td>\n",
       "      <td>0.508772</td>\n",
       "      <td>0.458333</td>\n",
       "      <td>2</td>\n",
       "    </tr>\n",
       "    <tr>\n",
       "      <th>109</th>\n",
       "      <td>0.794118</td>\n",
       "      <td>0.80</td>\n",
       "      <td>0.894737</td>\n",
       "      <td>1.000000</td>\n",
       "      <td>1</td>\n",
       "    </tr>\n",
       "    <tr>\n",
       "      <th>147</th>\n",
       "      <td>0.588235</td>\n",
       "      <td>0.50</td>\n",
       "      <td>0.736842</td>\n",
       "      <td>0.791667</td>\n",
       "      <td>1</td>\n",
       "    </tr>\n",
       "    <tr>\n",
       "      <th>49</th>\n",
       "      <td>0.147059</td>\n",
       "      <td>0.65</td>\n",
       "      <td>0.070175</td>\n",
       "      <td>0.041667</td>\n",
       "      <td>0</td>\n",
       "    </tr>\n",
       "    <tr>\n",
       "      <th>...</th>\n",
       "      <td>...</td>\n",
       "      <td>...</td>\n",
       "      <td>...</td>\n",
       "      <td>...</td>\n",
       "      <td>...</td>\n",
       "    </tr>\n",
       "    <tr>\n",
       "      <th>78</th>\n",
       "      <td>0.441176</td>\n",
       "      <td>0.45</td>\n",
       "      <td>0.614035</td>\n",
       "      <td>0.583333</td>\n",
       "      <td>2</td>\n",
       "    </tr>\n",
       "    <tr>\n",
       "      <th>55</th>\n",
       "      <td>0.352941</td>\n",
       "      <td>0.40</td>\n",
       "      <td>0.614035</td>\n",
       "      <td>0.500000</td>\n",
       "      <td>2</td>\n",
       "    </tr>\n",
       "    <tr>\n",
       "      <th>125</th>\n",
       "      <td>0.794118</td>\n",
       "      <td>0.60</td>\n",
       "      <td>0.877193</td>\n",
       "      <td>0.708333</td>\n",
       "      <td>1</td>\n",
       "    </tr>\n",
       "    <tr>\n",
       "      <th>22</th>\n",
       "      <td>0.029412</td>\n",
       "      <td>0.80</td>\n",
       "      <td>0.000000</td>\n",
       "      <td>0.041667</td>\n",
       "      <td>0</td>\n",
       "    </tr>\n",
       "    <tr>\n",
       "      <th>113</th>\n",
       "      <td>0.352941</td>\n",
       "      <td>0.25</td>\n",
       "      <td>0.701754</td>\n",
       "      <td>0.791667</td>\n",
       "      <td>2</td>\n",
       "    </tr>\n",
       "  </tbody>\n",
       "</table>\n",
       "<p>90 rows × 5 columns</p>\n",
       "</div>"
      ],
      "text/plain": [
       "     sepal_length  sepal_width  petal_length  petal_width cluster\n",
       "86       0.647059         0.55      0.649123     0.583333       1\n",
       "82       0.382353         0.35      0.508772     0.458333       2\n",
       "109      0.794118         0.80      0.894737     1.000000       1\n",
       "147      0.588235         0.50      0.736842     0.791667       1\n",
       "49       0.147059         0.65      0.070175     0.041667       0\n",
       "..            ...          ...           ...          ...     ...\n",
       "78       0.441176         0.45      0.614035     0.583333       2\n",
       "55       0.352941         0.40      0.614035     0.500000       2\n",
       "125      0.794118         0.60      0.877193     0.708333       1\n",
       "22       0.029412         0.80      0.000000     0.041667       0\n",
       "113      0.352941         0.25      0.701754     0.791667       2\n",
       "\n",
       "[90 rows x 5 columns]"
      ]
     },
     "execution_count": 57,
     "metadata": {},
     "output_type": "execute_result"
    }
   ],
   "source": [
    "iris_kmeans = KMeans(n_clusters=3)\n",
    "iris_kmeans.fit(X_iris_scaled)\n",
    "X_iris_scaled[\"cluster\"] = iris_kmeans.predict(X_iris_scaled)\n",
    "X_iris_scaled.cluster = X_iris_scaled.cluster.astype(\"object\")\n",
    "X_iris_scaled"
   ]
  },
  {
   "cell_type": "code",
   "execution_count": 13,
   "metadata": {},
   "outputs": [
    {
     "data": {
      "text/html": [
       "<div>\n",
       "<style scoped>\n",
       "    .dataframe tbody tr th:only-of-type {\n",
       "        vertical-align: middle;\n",
       "    }\n",
       "\n",
       "    .dataframe tbody tr th {\n",
       "        vertical-align: top;\n",
       "    }\n",
       "\n",
       "    .dataframe thead th {\n",
       "        text-align: right;\n",
       "    }\n",
       "</style>\n",
       "<table border=\"1\" class=\"dataframe\">\n",
       "  <thead>\n",
       "    <tr style=\"text-align: right;\">\n",
       "      <th></th>\n",
       "      <th>age</th>\n",
       "      <th>annual_income</th>\n",
       "      <th>spending_score</th>\n",
       "      <th>cluster</th>\n",
       "    </tr>\n",
       "    <tr>\n",
       "      <th>customer_id</th>\n",
       "      <th></th>\n",
       "      <th></th>\n",
       "      <th></th>\n",
       "      <th></th>\n",
       "    </tr>\n",
       "  </thead>\n",
       "  <tbody>\n",
       "    <tr>\n",
       "      <th>64</th>\n",
       "      <td>54</td>\n",
       "      <td>47</td>\n",
       "      <td>59</td>\n",
       "      <td>1</td>\n",
       "    </tr>\n",
       "    <tr>\n",
       "      <th>49</th>\n",
       "      <td>29</td>\n",
       "      <td>40</td>\n",
       "      <td>42</td>\n",
       "      <td>1</td>\n",
       "    </tr>\n",
       "    <tr>\n",
       "      <th>25</th>\n",
       "      <td>54</td>\n",
       "      <td>28</td>\n",
       "      <td>14</td>\n",
       "      <td>2</td>\n",
       "    </tr>\n",
       "    <tr>\n",
       "      <th>137</th>\n",
       "      <td>44</td>\n",
       "      <td>73</td>\n",
       "      <td>7</td>\n",
       "      <td>4</td>\n",
       "    </tr>\n",
       "    <tr>\n",
       "      <th>177</th>\n",
       "      <td>58</td>\n",
       "      <td>88</td>\n",
       "      <td>15</td>\n",
       "      <td>4</td>\n",
       "    </tr>\n",
       "    <tr>\n",
       "      <th>...</th>\n",
       "      <td>...</td>\n",
       "      <td>...</td>\n",
       "      <td>...</td>\n",
       "      <td>...</td>\n",
       "    </tr>\n",
       "    <tr>\n",
       "      <th>176</th>\n",
       "      <td>30</td>\n",
       "      <td>88</td>\n",
       "      <td>86</td>\n",
       "      <td>0</td>\n",
       "    </tr>\n",
       "    <tr>\n",
       "      <th>102</th>\n",
       "      <td>49</td>\n",
       "      <td>62</td>\n",
       "      <td>48</td>\n",
       "      <td>1</td>\n",
       "    </tr>\n",
       "    <tr>\n",
       "      <th>149</th>\n",
       "      <td>34</td>\n",
       "      <td>78</td>\n",
       "      <td>22</td>\n",
       "      <td>4</td>\n",
       "    </tr>\n",
       "    <tr>\n",
       "      <th>100</th>\n",
       "      <td>20</td>\n",
       "      <td>61</td>\n",
       "      <td>49</td>\n",
       "      <td>1</td>\n",
       "    </tr>\n",
       "    <tr>\n",
       "      <th>23</th>\n",
       "      <td>46</td>\n",
       "      <td>25</td>\n",
       "      <td>5</td>\n",
       "      <td>2</td>\n",
       "    </tr>\n",
       "  </tbody>\n",
       "</table>\n",
       "<p>120 rows × 4 columns</p>\n",
       "</div>"
      ],
      "text/plain": [
       "             age  annual_income  spending_score  cluster\n",
       "customer_id                                             \n",
       "64            54             47              59        1\n",
       "49            29             40              42        1\n",
       "25            54             28              14        2\n",
       "137           44             73               7        4\n",
       "177           58             88              15        4\n",
       "...          ...            ...             ...      ...\n",
       "176           30             88              86        0\n",
       "102           49             62              48        1\n",
       "149           34             78              22        4\n",
       "100           20             61              49        1\n",
       "23            46             25               5        2\n",
       "\n",
       "[120 rows x 4 columns]"
      ]
     },
     "execution_count": 13,
     "metadata": {},
     "output_type": "execute_result"
    }
   ],
   "source": [
    "kmeans = KMeans(n_clusters=5)\n",
    "kmeans.fit(X)\n",
    "X[\"cluster\"] = kmeans.predict(X)\n",
    "X"
   ]
  },
  {
   "cell_type": "code",
   "execution_count": 14,
   "metadata": {},
   "outputs": [
    {
     "data": {
      "text/html": [
       "<div>\n",
       "<style scoped>\n",
       "    .dataframe tbody tr th:only-of-type {\n",
       "        vertical-align: middle;\n",
       "    }\n",
       "\n",
       "    .dataframe tbody tr th {\n",
       "        vertical-align: top;\n",
       "    }\n",
       "\n",
       "    .dataframe thead th {\n",
       "        text-align: right;\n",
       "    }\n",
       "</style>\n",
       "<table border=\"1\" class=\"dataframe\">\n",
       "  <thead>\n",
       "    <tr style=\"text-align: right;\">\n",
       "      <th></th>\n",
       "      <th>age</th>\n",
       "      <th>annual_income</th>\n",
       "      <th>spending_score</th>\n",
       "      <th>cluster</th>\n",
       "    </tr>\n",
       "    <tr>\n",
       "      <th>customer_id</th>\n",
       "      <th></th>\n",
       "      <th></th>\n",
       "      <th></th>\n",
       "      <th></th>\n",
       "    </tr>\n",
       "  </thead>\n",
       "  <tbody>\n",
       "    <tr>\n",
       "      <th>64</th>\n",
       "      <td>0.692308</td>\n",
       "      <td>0.262295</td>\n",
       "      <td>0.617021</td>\n",
       "      <td>1</td>\n",
       "    </tr>\n",
       "    <tr>\n",
       "      <th>49</th>\n",
       "      <td>0.211538</td>\n",
       "      <td>0.204918</td>\n",
       "      <td>0.436170</td>\n",
       "      <td>4</td>\n",
       "    </tr>\n",
       "    <tr>\n",
       "      <th>25</th>\n",
       "      <td>0.692308</td>\n",
       "      <td>0.106557</td>\n",
       "      <td>0.138298</td>\n",
       "      <td>1</td>\n",
       "    </tr>\n",
       "    <tr>\n",
       "      <th>137</th>\n",
       "      <td>0.500000</td>\n",
       "      <td>0.475410</td>\n",
       "      <td>0.063830</td>\n",
       "      <td>3</td>\n",
       "    </tr>\n",
       "    <tr>\n",
       "      <th>177</th>\n",
       "      <td>0.769231</td>\n",
       "      <td>0.598361</td>\n",
       "      <td>0.148936</td>\n",
       "      <td>3</td>\n",
       "    </tr>\n",
       "    <tr>\n",
       "      <th>...</th>\n",
       "      <td>...</td>\n",
       "      <td>...</td>\n",
       "      <td>...</td>\n",
       "      <td>...</td>\n",
       "    </tr>\n",
       "    <tr>\n",
       "      <th>176</th>\n",
       "      <td>0.230769</td>\n",
       "      <td>0.598361</td>\n",
       "      <td>0.904255</td>\n",
       "      <td>2</td>\n",
       "    </tr>\n",
       "    <tr>\n",
       "      <th>102</th>\n",
       "      <td>0.596154</td>\n",
       "      <td>0.385246</td>\n",
       "      <td>0.500000</td>\n",
       "      <td>1</td>\n",
       "    </tr>\n",
       "    <tr>\n",
       "      <th>149</th>\n",
       "      <td>0.307692</td>\n",
       "      <td>0.516393</td>\n",
       "      <td>0.223404</td>\n",
       "      <td>3</td>\n",
       "    </tr>\n",
       "    <tr>\n",
       "      <th>100</th>\n",
       "      <td>0.038462</td>\n",
       "      <td>0.377049</td>\n",
       "      <td>0.510638</td>\n",
       "      <td>4</td>\n",
       "    </tr>\n",
       "    <tr>\n",
       "      <th>23</th>\n",
       "      <td>0.538462</td>\n",
       "      <td>0.081967</td>\n",
       "      <td>0.042553</td>\n",
       "      <td>1</td>\n",
       "    </tr>\n",
       "  </tbody>\n",
       "</table>\n",
       "<p>120 rows × 4 columns</p>\n",
       "</div>"
      ],
      "text/plain": [
       "                  age  annual_income  spending_score  cluster\n",
       "customer_id                                                  \n",
       "64           0.692308       0.262295        0.617021        1\n",
       "49           0.211538       0.204918        0.436170        4\n",
       "25           0.692308       0.106557        0.138298        1\n",
       "137          0.500000       0.475410        0.063830        3\n",
       "177          0.769231       0.598361        0.148936        3\n",
       "...               ...            ...             ...      ...\n",
       "176          0.230769       0.598361        0.904255        2\n",
       "102          0.596154       0.385246        0.500000        1\n",
       "149          0.307692       0.516393        0.223404        3\n",
       "100          0.038462       0.377049        0.510638        4\n",
       "23           0.538462       0.081967        0.042553        1\n",
       "\n",
       "[120 rows x 4 columns]"
      ]
     },
     "execution_count": 14,
     "metadata": {},
     "output_type": "execute_result"
    }
   ],
   "source": [
    "kmeans_scaled = KMeans(n_clusters=5)\n",
    "kmeans_scaled.fit(X_scaled)\n",
    "X_scaled[\"cluster\"] = kmeans_scaled.predict(X_scaled)\n",
    "X_scaled"
   ]
  },
  {
   "cell_type": "code",
   "execution_count": 51,
   "metadata": {},
   "outputs": [
    {
     "data": {
      "text/html": [
       "<div>\n",
       "<style scoped>\n",
       "    .dataframe tbody tr th:only-of-type {\n",
       "        vertical-align: middle;\n",
       "    }\n",
       "\n",
       "    .dataframe tbody tr th {\n",
       "        vertical-align: top;\n",
       "    }\n",
       "\n",
       "    .dataframe thead th {\n",
       "        text-align: right;\n",
       "    }\n",
       "</style>\n",
       "<table border=\"1\" class=\"dataframe\">\n",
       "  <thead>\n",
       "    <tr style=\"text-align: right;\">\n",
       "      <th></th>\n",
       "      <th>sepal_length</th>\n",
       "      <th>sepal_width</th>\n",
       "      <th>petal_length</th>\n",
       "      <th>petal_width</th>\n",
       "      <th>cluster</th>\n",
       "    </tr>\n",
       "  </thead>\n",
       "  <tbody>\n",
       "    <tr>\n",
       "      <th>86</th>\n",
       "      <td>0.647059</td>\n",
       "      <td>0.55</td>\n",
       "      <td>0.649123</td>\n",
       "      <td>0.583333</td>\n",
       "      <td>2</td>\n",
       "    </tr>\n",
       "    <tr>\n",
       "      <th>82</th>\n",
       "      <td>0.382353</td>\n",
       "      <td>0.35</td>\n",
       "      <td>0.508772</td>\n",
       "      <td>0.458333</td>\n",
       "      <td>0</td>\n",
       "    </tr>\n",
       "    <tr>\n",
       "      <th>109</th>\n",
       "      <td>0.794118</td>\n",
       "      <td>0.80</td>\n",
       "      <td>0.894737</td>\n",
       "      <td>1.000000</td>\n",
       "      <td>2</td>\n",
       "    </tr>\n",
       "    <tr>\n",
       "      <th>147</th>\n",
       "      <td>0.588235</td>\n",
       "      <td>0.50</td>\n",
       "      <td>0.736842</td>\n",
       "      <td>0.791667</td>\n",
       "      <td>2</td>\n",
       "    </tr>\n",
       "    <tr>\n",
       "      <th>49</th>\n",
       "      <td>0.147059</td>\n",
       "      <td>0.65</td>\n",
       "      <td>0.070175</td>\n",
       "      <td>0.041667</td>\n",
       "      <td>1</td>\n",
       "    </tr>\n",
       "    <tr>\n",
       "      <th>...</th>\n",
       "      <td>...</td>\n",
       "      <td>...</td>\n",
       "      <td>...</td>\n",
       "      <td>...</td>\n",
       "      <td>...</td>\n",
       "    </tr>\n",
       "    <tr>\n",
       "      <th>78</th>\n",
       "      <td>0.441176</td>\n",
       "      <td>0.45</td>\n",
       "      <td>0.614035</td>\n",
       "      <td>0.583333</td>\n",
       "      <td>0</td>\n",
       "    </tr>\n",
       "    <tr>\n",
       "      <th>55</th>\n",
       "      <td>0.352941</td>\n",
       "      <td>0.40</td>\n",
       "      <td>0.614035</td>\n",
       "      <td>0.500000</td>\n",
       "      <td>0</td>\n",
       "    </tr>\n",
       "    <tr>\n",
       "      <th>125</th>\n",
       "      <td>0.794118</td>\n",
       "      <td>0.60</td>\n",
       "      <td>0.877193</td>\n",
       "      <td>0.708333</td>\n",
       "      <td>2</td>\n",
       "    </tr>\n",
       "    <tr>\n",
       "      <th>22</th>\n",
       "      <td>0.029412</td>\n",
       "      <td>0.80</td>\n",
       "      <td>0.000000</td>\n",
       "      <td>0.041667</td>\n",
       "      <td>1</td>\n",
       "    </tr>\n",
       "    <tr>\n",
       "      <th>113</th>\n",
       "      <td>0.352941</td>\n",
       "      <td>0.25</td>\n",
       "      <td>0.701754</td>\n",
       "      <td>0.791667</td>\n",
       "      <td>0</td>\n",
       "    </tr>\n",
       "  </tbody>\n",
       "</table>\n",
       "<p>90 rows × 5 columns</p>\n",
       "</div>"
      ],
      "text/plain": [
       "     sepal_length  sepal_width  petal_length  petal_width  cluster\n",
       "86       0.647059         0.55      0.649123     0.583333        2\n",
       "82       0.382353         0.35      0.508772     0.458333        0\n",
       "109      0.794118         0.80      0.894737     1.000000        2\n",
       "147      0.588235         0.50      0.736842     0.791667        2\n",
       "49       0.147059         0.65      0.070175     0.041667        1\n",
       "..            ...          ...           ...          ...      ...\n",
       "78       0.441176         0.45      0.614035     0.583333        0\n",
       "55       0.352941         0.40      0.614035     0.500000        0\n",
       "125      0.794118         0.60      0.877193     0.708333        2\n",
       "22       0.029412         0.80      0.000000     0.041667        1\n",
       "113      0.352941         0.25      0.701754     0.791667        0\n",
       "\n",
       "[90 rows x 5 columns]"
      ]
     },
     "execution_count": 51,
     "metadata": {},
     "output_type": "execute_result"
    }
   ],
   "source": [
    "X_iris_scaled"
   ]
  },
  {
   "cell_type": "code",
   "execution_count": 53,
   "metadata": {},
   "outputs": [
    {
     "data": {
      "application/vnd.plotly.v1+json": {
       "config": {
        "plotlyServerURL": "https://plot.ly"
       },
       "data": [
        {
         "hovertemplate": "cluster=2<br>sepal_length=%{x}<br>sepal_width=%{y}<br>petal_width=%{z}<br>petal_length=%{marker.color}<extra></extra>",
         "legendgroup": "2",
         "marker": {
          "color": [
           0.6491228070175439,
           0.8947368421052629,
           0.7368421052631579,
           0.6491228070175439,
           0.6666666666666666,
           0.7719298245614036,
           0.719298245614035,
           0.8421052631578946,
           0.5964912280701755,
           0.8596491228070177,
           0.719298245614035,
           0.9999999999999999,
           0.8771929824561403,
           0.8245614035087719,
           0.9473684210526315,
           0.807017543859649,
           0.8596491228070177,
           0.719298245614035,
           0.6666666666666666,
           0.9298245614035087,
           0.6140350877192983,
           0.807017543859649,
           0.7894736842105262,
           0.6666666666666666,
           0.6140350877192983,
           0.8245614035087719,
           0.7719298245614036,
           0.6491228070175439,
           0.982456140350877,
           0.6842105263157895,
           0.8771929824561403
          ],
          "coloraxis": "coloraxis",
          "opacity": 0.7,
          "size": [
           0.6491228070175439,
           0.8947368421052629,
           0.7368421052631579,
           0.6491228070175439,
           0.6666666666666666,
           0.7719298245614036,
           0.719298245614035,
           0.8421052631578946,
           0.5964912280701755,
           0.8596491228070177,
           0.719298245614035,
           0.9999999999999999,
           0.8771929824561403,
           0.8245614035087719,
           0.9473684210526315,
           0.807017543859649,
           0.8596491228070177,
           0.719298245614035,
           0.6666666666666666,
           0.9298245614035087,
           0.6140350877192983,
           0.807017543859649,
           0.7894736842105262,
           0.6666666666666666,
           0.6140350877192983,
           0.8245614035087719,
           0.7719298245614036,
           0.6491228070175439,
           0.982456140350877,
           0.6842105263157895,
           0.8771929824561403
          ],
          "sizemode": "area",
          "sizeref": 0.0030864197530864196,
          "symbol": "circle"
         },
         "mode": "markers",
         "name": "2",
         "scene": "scene",
         "showlegend": true,
         "type": "scatter3d",
         "x": [
          0.6470588235294117,
          0.7941176470588234,
          0.588235294117647,
          0.5294117647058822,
          0.41176470588235303,
          0.7058823529411766,
          0.41176470588235303,
          0.7941176470588234,
          0.6176470588235292,
          0.6764705882352939,
          0.588235294117647,
          0.9411764705882351,
          0.5294117647058822,
          0.7058823529411766,
          1,
          0.6470588235294117,
          0.7647058823529411,
          0.38235294117647056,
          0.6764705882352939,
          0.8235294117647056,
          0.5588235294117647,
          0.5588235294117647,
          0.5588235294117647,
          0.5,
          0.4411764705882353,
          0.6470588235294117,
          0.5,
          0.7352941176470589,
          0.9117647058823528,
          0.7058823529411766,
          0.7941176470588234
         ],
         "y": [
          0.55,
          0.8,
          0.5,
          0.6499999999999999,
          0.6000000000000001,
          0.55,
          0.5,
          0.5,
          0.5,
          0.6000000000000001,
          0.6000000000000001,
          0.3999999999999999,
          0.6499999999999999,
          0.6000000000000001,
          0.8999999999999999,
          0.55,
          0.5,
          0.3999999999999999,
          0.3999999999999999,
          0.44999999999999996,
          0.6000000000000001,
          0.3999999999999999,
          0.55,
          0.3999999999999999,
          0.7,
          0.6499999999999999,
          0.7,
          0.6000000000000001,
          0.5,
          0.55,
          0.6000000000000001
         ],
         "z": [
          0.5833333333333334,
          1,
          0.7916666666666667,
          0.6250000000000001,
          0.7083333333333334,
          0.8333333333333335,
          0.7083333333333334,
          0.6250000000000001,
          0.5416666666666667,
          0.9166666666666666,
          0.7916666666666667,
          0.7916666666666667,
          1,
          0.9166666666666666,
          0.7916666666666667,
          0.9583333333333334,
          0.8333333333333335,
          0.9583333333333334,
          0.5416666666666667,
          0.7083333333333334,
          0.5833333333333334,
          0.8333333333333335,
          0.7083333333333334,
          0.7083333333333334,
          0.6250000000000001,
          1,
          0.9166666666666666,
          0.5416666666666667,
          0.8333333333333335,
          0.5833333333333334,
          0.7083333333333334
         ]
        },
        {
         "hovertemplate": "cluster=0<br>sepal_length=%{x}<br>sepal_width=%{y}<br>petal_width=%{z}<br>petal_length=%{marker.color}<extra></extra>",
         "legendgroup": "0",
         "marker": {
          "color": [
           0.5087719298245613,
           0.5614035087719298,
           0.6140350877192983,
           0.45614035087719296,
           0.3508771929824561,
           0.4736842105263158,
           0.4035087719298245,
           0.719298245614035,
           0.6140350877192983,
           0.7017543859649122,
           0.5614035087719298,
           0.719298245614035,
           0.4385964912280701,
           0.4385964912280701,
           0.5789473684210525,
           0.807017543859649,
           0.719298245614035,
           0.5263157894736842,
           0.5263157894736842,
           0.7017543859649122,
           0.6315789473684209,
           0.5789473684210525,
           0.6140350877192983,
           0.5263157894736842,
           0.5614035087719298,
           0.5438596491228069,
           0.49122807017543857,
           0.6491228070175439,
           0.5263157894736842,
           0.6140350877192983,
           0.6140350877192983,
           0.7017543859649122
          ],
          "coloraxis": "coloraxis",
          "opacity": 0.7,
          "size": [
           0.5087719298245613,
           0.5614035087719298,
           0.6140350877192983,
           0.45614035087719296,
           0.3508771929824561,
           0.4736842105263158,
           0.4035087719298245,
           0.719298245614035,
           0.6140350877192983,
           0.7017543859649122,
           0.5614035087719298,
           0.719298245614035,
           0.4385964912280701,
           0.4385964912280701,
           0.5789473684210525,
           0.807017543859649,
           0.719298245614035,
           0.5263157894736842,
           0.5263157894736842,
           0.7017543859649122,
           0.6315789473684209,
           0.5789473684210525,
           0.6140350877192983,
           0.5263157894736842,
           0.5614035087719298,
           0.5438596491228069,
           0.49122807017543857,
           0.6491228070175439,
           0.5263157894736842,
           0.6140350877192983,
           0.6140350877192983,
           0.7017543859649122
          ],
          "sizemode": "area",
          "sizeref": 0.0030864197530864196,
          "symbol": "diamond"
         },
         "mode": "markers",
         "name": "0",
         "scene": "scene",
         "showlegend": true,
         "type": "scatter3d",
         "x": [
          0.38235294117647056,
          0.32352941176470584,
          0.5,
          0.32352941176470584,
          0.17647058823529393,
          0.2941176470588236,
          0.11764705882352966,
          0.4411764705882353,
          0.26470588235294135,
          0.4411764705882353,
          0.41176470588235303,
          0.38235294117647056,
          0.3529411764705883,
          0.1470588235294117,
          0.5,
          0.47058823529411753,
          0.38235294117647056,
          0.47058823529411753,
          0.38235294117647056,
          0.5294117647058822,
          0.6176470588235292,
          0.5588235294117647,
          0.11764705882352966,
          0.2941176470588236,
          0.3529411764705883,
          0.38235294117647056,
          0.2941176470588236,
          0.47058823529411753,
          0.2941176470588236,
          0.4411764705882353,
          0.3529411764705883,
          0.3529411764705883
         ],
         "y": [
          0.3500000000000001,
          0.3500000000000001,
          0.10000000000000009,
          0.44999999999999996,
          0.25,
          0.19999999999999996,
          0.19999999999999996,
          0.3500000000000001,
          0.5,
          0.10000000000000009,
          0.5,
          0.3500000000000001,
          0.30000000000000004,
          0,
          0.44999999999999996,
          0.30000000000000004,
          0.3500000000000001,
          0.3999999999999999,
          0.30000000000000004,
          0.25,
          0.44999999999999996,
          0.44999999999999996,
          0.25,
          0.25,
          0.5,
          0.3500000000000001,
          0.19999999999999996,
          0.3999999999999999,
          0.1499999999999999,
          0.44999999999999996,
          0.3999999999999999,
          0.25
         ],
         "z": [
          0.4583333333333333,
          0.5000000000000001,
          0.5833333333333334,
          0.5000000000000001,
          0.4166666666666667,
          0.375,
          0.375,
          0.6250000000000001,
          0.5833333333333334,
          0.5833333333333334,
          0.5833333333333334,
          0.75,
          0.375,
          0.375,
          0.5000000000000001,
          0.5416666666666667,
          0.75,
          0.5000000000000001,
          0.4583333333333333,
          0.75,
          0.5000000000000001,
          0.5000000000000001,
          0.6666666666666667,
          0.5000000000000001,
          0.4583333333333333,
          0.375,
          0.4166666666666667,
          0.4583333333333333,
          0.5000000000000001,
          0.5833333333333334,
          0.5000000000000001,
          0.7916666666666667
         ]
        },
        {
         "hovertemplate": "cluster=1<br>sepal_length=%{x}<br>sepal_width=%{y}<br>petal_width=%{z}<br>petal_length=%{marker.color}<extra></extra>",
         "legendgroup": "1",
         "marker": {
          "color": [
           0.0701754385964912,
           0.05263157894736842,
           0.12280701754385964,
           0.10526315789473684,
           0.0701754385964912,
           0.0701754385964912,
           0.08771929824561403,
           0.03508771929824561,
           0.05263157894736842,
           0.08771929824561403,
           0.08771929824561403,
           0.10526315789473684,
           0.12280701754385964,
           0.0701754385964912,
           0.10526315789473684,
           0.12280701754385964,
           0.10526315789473684,
           0.0701754385964912,
           0.15789473684210525,
           0.10526315789473684,
           0.08771929824561403,
           0.03508771929824561,
           0.08771929824561403,
           0.08771929824561403,
           0.10526315789473684,
           0.05263157894736842,
           0
          ],
          "coloraxis": "coloraxis",
          "opacity": 0.7,
          "size": [
           0.0701754385964912,
           0.05263157894736842,
           0.12280701754385964,
           0.10526315789473684,
           0.0701754385964912,
           0.0701754385964912,
           0.08771929824561403,
           0.03508771929824561,
           0.05263157894736842,
           0.08771929824561403,
           0.08771929824561403,
           0.10526315789473684,
           0.12280701754385964,
           0.0701754385964912,
           0.10526315789473684,
           0.12280701754385964,
           0.10526315789473684,
           0.0701754385964912,
           0.15789473684210525,
           0.10526315789473684,
           0.08771929824561403,
           0.03508771929824561,
           0.08771929824561403,
           0.08771929824561403,
           0.10526315789473684,
           0.05263157894736842,
           0
          ],
          "sizemode": "area",
          "sizeref": 0.0030864197530864196,
          "symbol": "square"
         },
         "mode": "markers",
         "name": "1",
         "scene": "scene",
         "showlegend": true,
         "type": "scatter3d",
         "x": [
          0.1470588235294117,
          0.1470588235294117,
          0.17647058823529393,
          0.1470588235294117,
          0.17647058823529393,
          0.08823529411764697,
          0.23529411764705888,
          0.1470588235294117,
          0,
          0.17647058823529393,
          0.11764705882352966,
          0.1470588235294117,
          0.3529411764705883,
          0.17647058823529393,
          0.08823529411764697,
          0.26470588235294135,
          0.08823529411764697,
          0.02941176470588225,
          0.17647058823529393,
          0.05882352941176472,
          0.26470588235294135,
          0.38235294117647056,
          0.20588235294117663,
          0.02941176470588225,
          0.1470588235294117,
          0.05882352941176472,
          0.02941176470588225
         ],
         "y": [
          0.6499999999999999,
          0.75,
          0.6499999999999999,
          0.75,
          0.75,
          0.5,
          0.8500000000000001,
          0.6000000000000001,
          0.1499999999999999,
          0.8999999999999999,
          0.55,
          0.7,
          0.8999999999999999,
          0.75,
          0.7,
          0.95,
          0.55,
          0.6000000000000001,
          0.8999999999999999,
          0.6000000000000001,
          0.8500000000000001,
          1,
          0.75,
          0.55,
          0.5,
          0.6000000000000001,
          0.8
         ],
         "z": [
          0.04166666666666667,
          0.08333333333333333,
          0.16666666666666669,
          0.20833333333333331,
          0.08333333333333333,
          0,
          0.04166666666666667,
          0.04166666666666667,
          0.08333333333333333,
          0.08333333333333333,
          0,
          0.125,
          0.08333333333333333,
          0.04166666666666667,
          0.04166666666666667,
          0.125,
          0.04166666666666667,
          0.04166666666666667,
          0.125,
          0.04166666666666667,
          0.04166666666666667,
          0.04166666666666667,
          0.04166666666666667,
          0.04166666666666667,
          0.04166666666666667,
          0.04166666666666667,
          0.04166666666666667
         ]
        }
       ],
       "layout": {
        "coloraxis": {
         "colorbar": {
          "title": {
           "text": "petal_length"
          }
         },
         "colorscale": [
          [
           0,
           "#0d0887"
          ],
          [
           0.1111111111111111,
           "#46039f"
          ],
          [
           0.2222222222222222,
           "#7201a8"
          ],
          [
           0.3333333333333333,
           "#9c179e"
          ],
          [
           0.4444444444444444,
           "#bd3786"
          ],
          [
           0.5555555555555556,
           "#d8576b"
          ],
          [
           0.6666666666666666,
           "#ed7953"
          ],
          [
           0.7777777777777778,
           "#fb9f3a"
          ],
          [
           0.8888888888888888,
           "#fdca26"
          ],
          [
           1,
           "#f0f921"
          ]
         ]
        },
        "legend": {
         "itemsizing": "constant",
         "title": {
          "text": "cluster"
         },
         "tracegroupgap": 0
        },
        "margin": {
         "t": 60
        },
        "scene": {
         "domain": {
          "x": [
           0,
           1
          ],
          "y": [
           0,
           1
          ]
         },
         "xaxis": {
          "title": {
           "text": "sepal_length"
          }
         },
         "yaxis": {
          "title": {
           "text": "sepal_width"
          }
         },
         "zaxis": {
          "title": {
           "text": "petal_width"
          }
         }
        },
        "template": {
         "data": {
          "bar": [
           {
            "error_x": {
             "color": "#2a3f5f"
            },
            "error_y": {
             "color": "#2a3f5f"
            },
            "marker": {
             "line": {
              "color": "#E5ECF6",
              "width": 0.5
             },
             "pattern": {
              "fillmode": "overlay",
              "size": 10,
              "solidity": 0.2
             }
            },
            "type": "bar"
           }
          ],
          "barpolar": [
           {
            "marker": {
             "line": {
              "color": "#E5ECF6",
              "width": 0.5
             },
             "pattern": {
              "fillmode": "overlay",
              "size": 10,
              "solidity": 0.2
             }
            },
            "type": "barpolar"
           }
          ],
          "carpet": [
           {
            "aaxis": {
             "endlinecolor": "#2a3f5f",
             "gridcolor": "white",
             "linecolor": "white",
             "minorgridcolor": "white",
             "startlinecolor": "#2a3f5f"
            },
            "baxis": {
             "endlinecolor": "#2a3f5f",
             "gridcolor": "white",
             "linecolor": "white",
             "minorgridcolor": "white",
             "startlinecolor": "#2a3f5f"
            },
            "type": "carpet"
           }
          ],
          "choropleth": [
           {
            "colorbar": {
             "outlinewidth": 0,
             "ticks": ""
            },
            "type": "choropleth"
           }
          ],
          "contour": [
           {
            "colorbar": {
             "outlinewidth": 0,
             "ticks": ""
            },
            "colorscale": [
             [
              0,
              "#0d0887"
             ],
             [
              0.1111111111111111,
              "#46039f"
             ],
             [
              0.2222222222222222,
              "#7201a8"
             ],
             [
              0.3333333333333333,
              "#9c179e"
             ],
             [
              0.4444444444444444,
              "#bd3786"
             ],
             [
              0.5555555555555556,
              "#d8576b"
             ],
             [
              0.6666666666666666,
              "#ed7953"
             ],
             [
              0.7777777777777778,
              "#fb9f3a"
             ],
             [
              0.8888888888888888,
              "#fdca26"
             ],
             [
              1,
              "#f0f921"
             ]
            ],
            "type": "contour"
           }
          ],
          "contourcarpet": [
           {
            "colorbar": {
             "outlinewidth": 0,
             "ticks": ""
            },
            "type": "contourcarpet"
           }
          ],
          "heatmap": [
           {
            "colorbar": {
             "outlinewidth": 0,
             "ticks": ""
            },
            "colorscale": [
             [
              0,
              "#0d0887"
             ],
             [
              0.1111111111111111,
              "#46039f"
             ],
             [
              0.2222222222222222,
              "#7201a8"
             ],
             [
              0.3333333333333333,
              "#9c179e"
             ],
             [
              0.4444444444444444,
              "#bd3786"
             ],
             [
              0.5555555555555556,
              "#d8576b"
             ],
             [
              0.6666666666666666,
              "#ed7953"
             ],
             [
              0.7777777777777778,
              "#fb9f3a"
             ],
             [
              0.8888888888888888,
              "#fdca26"
             ],
             [
              1,
              "#f0f921"
             ]
            ],
            "type": "heatmap"
           }
          ],
          "heatmapgl": [
           {
            "colorbar": {
             "outlinewidth": 0,
             "ticks": ""
            },
            "colorscale": [
             [
              0,
              "#0d0887"
             ],
             [
              0.1111111111111111,
              "#46039f"
             ],
             [
              0.2222222222222222,
              "#7201a8"
             ],
             [
              0.3333333333333333,
              "#9c179e"
             ],
             [
              0.4444444444444444,
              "#bd3786"
             ],
             [
              0.5555555555555556,
              "#d8576b"
             ],
             [
              0.6666666666666666,
              "#ed7953"
             ],
             [
              0.7777777777777778,
              "#fb9f3a"
             ],
             [
              0.8888888888888888,
              "#fdca26"
             ],
             [
              1,
              "#f0f921"
             ]
            ],
            "type": "heatmapgl"
           }
          ],
          "histogram": [
           {
            "marker": {
             "pattern": {
              "fillmode": "overlay",
              "size": 10,
              "solidity": 0.2
             }
            },
            "type": "histogram"
           }
          ],
          "histogram2d": [
           {
            "colorbar": {
             "outlinewidth": 0,
             "ticks": ""
            },
            "colorscale": [
             [
              0,
              "#0d0887"
             ],
             [
              0.1111111111111111,
              "#46039f"
             ],
             [
              0.2222222222222222,
              "#7201a8"
             ],
             [
              0.3333333333333333,
              "#9c179e"
             ],
             [
              0.4444444444444444,
              "#bd3786"
             ],
             [
              0.5555555555555556,
              "#d8576b"
             ],
             [
              0.6666666666666666,
              "#ed7953"
             ],
             [
              0.7777777777777778,
              "#fb9f3a"
             ],
             [
              0.8888888888888888,
              "#fdca26"
             ],
             [
              1,
              "#f0f921"
             ]
            ],
            "type": "histogram2d"
           }
          ],
          "histogram2dcontour": [
           {
            "colorbar": {
             "outlinewidth": 0,
             "ticks": ""
            },
            "colorscale": [
             [
              0,
              "#0d0887"
             ],
             [
              0.1111111111111111,
              "#46039f"
             ],
             [
              0.2222222222222222,
              "#7201a8"
             ],
             [
              0.3333333333333333,
              "#9c179e"
             ],
             [
              0.4444444444444444,
              "#bd3786"
             ],
             [
              0.5555555555555556,
              "#d8576b"
             ],
             [
              0.6666666666666666,
              "#ed7953"
             ],
             [
              0.7777777777777778,
              "#fb9f3a"
             ],
             [
              0.8888888888888888,
              "#fdca26"
             ],
             [
              1,
              "#f0f921"
             ]
            ],
            "type": "histogram2dcontour"
           }
          ],
          "mesh3d": [
           {
            "colorbar": {
             "outlinewidth": 0,
             "ticks": ""
            },
            "type": "mesh3d"
           }
          ],
          "parcoords": [
           {
            "line": {
             "colorbar": {
              "outlinewidth": 0,
              "ticks": ""
             }
            },
            "type": "parcoords"
           }
          ],
          "pie": [
           {
            "automargin": true,
            "type": "pie"
           }
          ],
          "scatter": [
           {
            "marker": {
             "colorbar": {
              "outlinewidth": 0,
              "ticks": ""
             }
            },
            "type": "scatter"
           }
          ],
          "scatter3d": [
           {
            "line": {
             "colorbar": {
              "outlinewidth": 0,
              "ticks": ""
             }
            },
            "marker": {
             "colorbar": {
              "outlinewidth": 0,
              "ticks": ""
             }
            },
            "type": "scatter3d"
           }
          ],
          "scattercarpet": [
           {
            "marker": {
             "colorbar": {
              "outlinewidth": 0,
              "ticks": ""
             }
            },
            "type": "scattercarpet"
           }
          ],
          "scattergeo": [
           {
            "marker": {
             "colorbar": {
              "outlinewidth": 0,
              "ticks": ""
             }
            },
            "type": "scattergeo"
           }
          ],
          "scattergl": [
           {
            "marker": {
             "colorbar": {
              "outlinewidth": 0,
              "ticks": ""
             }
            },
            "type": "scattergl"
           }
          ],
          "scattermapbox": [
           {
            "marker": {
             "colorbar": {
              "outlinewidth": 0,
              "ticks": ""
             }
            },
            "type": "scattermapbox"
           }
          ],
          "scatterpolar": [
           {
            "marker": {
             "colorbar": {
              "outlinewidth": 0,
              "ticks": ""
             }
            },
            "type": "scatterpolar"
           }
          ],
          "scatterpolargl": [
           {
            "marker": {
             "colorbar": {
              "outlinewidth": 0,
              "ticks": ""
             }
            },
            "type": "scatterpolargl"
           }
          ],
          "scatterternary": [
           {
            "marker": {
             "colorbar": {
              "outlinewidth": 0,
              "ticks": ""
             }
            },
            "type": "scatterternary"
           }
          ],
          "surface": [
           {
            "colorbar": {
             "outlinewidth": 0,
             "ticks": ""
            },
            "colorscale": [
             [
              0,
              "#0d0887"
             ],
             [
              0.1111111111111111,
              "#46039f"
             ],
             [
              0.2222222222222222,
              "#7201a8"
             ],
             [
              0.3333333333333333,
              "#9c179e"
             ],
             [
              0.4444444444444444,
              "#bd3786"
             ],
             [
              0.5555555555555556,
              "#d8576b"
             ],
             [
              0.6666666666666666,
              "#ed7953"
             ],
             [
              0.7777777777777778,
              "#fb9f3a"
             ],
             [
              0.8888888888888888,
              "#fdca26"
             ],
             [
              1,
              "#f0f921"
             ]
            ],
            "type": "surface"
           }
          ],
          "table": [
           {
            "cells": {
             "fill": {
              "color": "#EBF0F8"
             },
             "line": {
              "color": "white"
             }
            },
            "header": {
             "fill": {
              "color": "#C8D4E3"
             },
             "line": {
              "color": "white"
             }
            },
            "type": "table"
           }
          ]
         },
         "layout": {
          "annotationdefaults": {
           "arrowcolor": "#2a3f5f",
           "arrowhead": 0,
           "arrowwidth": 1
          },
          "autotypenumbers": "strict",
          "coloraxis": {
           "colorbar": {
            "outlinewidth": 0,
            "ticks": ""
           }
          },
          "colorscale": {
           "diverging": [
            [
             0,
             "#8e0152"
            ],
            [
             0.1,
             "#c51b7d"
            ],
            [
             0.2,
             "#de77ae"
            ],
            [
             0.3,
             "#f1b6da"
            ],
            [
             0.4,
             "#fde0ef"
            ],
            [
             0.5,
             "#f7f7f7"
            ],
            [
             0.6,
             "#e6f5d0"
            ],
            [
             0.7,
             "#b8e186"
            ],
            [
             0.8,
             "#7fbc41"
            ],
            [
             0.9,
             "#4d9221"
            ],
            [
             1,
             "#276419"
            ]
           ],
           "sequential": [
            [
             0,
             "#0d0887"
            ],
            [
             0.1111111111111111,
             "#46039f"
            ],
            [
             0.2222222222222222,
             "#7201a8"
            ],
            [
             0.3333333333333333,
             "#9c179e"
            ],
            [
             0.4444444444444444,
             "#bd3786"
            ],
            [
             0.5555555555555556,
             "#d8576b"
            ],
            [
             0.6666666666666666,
             "#ed7953"
            ],
            [
             0.7777777777777778,
             "#fb9f3a"
            ],
            [
             0.8888888888888888,
             "#fdca26"
            ],
            [
             1,
             "#f0f921"
            ]
           ],
           "sequentialminus": [
            [
             0,
             "#0d0887"
            ],
            [
             0.1111111111111111,
             "#46039f"
            ],
            [
             0.2222222222222222,
             "#7201a8"
            ],
            [
             0.3333333333333333,
             "#9c179e"
            ],
            [
             0.4444444444444444,
             "#bd3786"
            ],
            [
             0.5555555555555556,
             "#d8576b"
            ],
            [
             0.6666666666666666,
             "#ed7953"
            ],
            [
             0.7777777777777778,
             "#fb9f3a"
            ],
            [
             0.8888888888888888,
             "#fdca26"
            ],
            [
             1,
             "#f0f921"
            ]
           ]
          },
          "colorway": [
           "#636efa",
           "#EF553B",
           "#00cc96",
           "#ab63fa",
           "#FFA15A",
           "#19d3f3",
           "#FF6692",
           "#B6E880",
           "#FF97FF",
           "#FECB52"
          ],
          "font": {
           "color": "#2a3f5f"
          },
          "geo": {
           "bgcolor": "white",
           "lakecolor": "white",
           "landcolor": "#E5ECF6",
           "showlakes": true,
           "showland": true,
           "subunitcolor": "white"
          },
          "hoverlabel": {
           "align": "left"
          },
          "hovermode": "closest",
          "mapbox": {
           "style": "light"
          },
          "paper_bgcolor": "white",
          "plot_bgcolor": "#E5ECF6",
          "polar": {
           "angularaxis": {
            "gridcolor": "white",
            "linecolor": "white",
            "ticks": ""
           },
           "bgcolor": "#E5ECF6",
           "radialaxis": {
            "gridcolor": "white",
            "linecolor": "white",
            "ticks": ""
           }
          },
          "scene": {
           "xaxis": {
            "backgroundcolor": "#E5ECF6",
            "gridcolor": "white",
            "gridwidth": 2,
            "linecolor": "white",
            "showbackground": true,
            "ticks": "",
            "zerolinecolor": "white"
           },
           "yaxis": {
            "backgroundcolor": "#E5ECF6",
            "gridcolor": "white",
            "gridwidth": 2,
            "linecolor": "white",
            "showbackground": true,
            "ticks": "",
            "zerolinecolor": "white"
           },
           "zaxis": {
            "backgroundcolor": "#E5ECF6",
            "gridcolor": "white",
            "gridwidth": 2,
            "linecolor": "white",
            "showbackground": true,
            "ticks": "",
            "zerolinecolor": "white"
           }
          },
          "shapedefaults": {
           "line": {
            "color": "#2a3f5f"
           }
          },
          "ternary": {
           "aaxis": {
            "gridcolor": "white",
            "linecolor": "white",
            "ticks": ""
           },
           "baxis": {
            "gridcolor": "white",
            "linecolor": "white",
            "ticks": ""
           },
           "bgcolor": "#E5ECF6",
           "caxis": {
            "gridcolor": "white",
            "linecolor": "white",
            "ticks": ""
           }
          },
          "title": {
           "x": 0.05
          },
          "xaxis": {
           "automargin": true,
           "gridcolor": "white",
           "linecolor": "white",
           "ticks": "",
           "title": {
            "standoff": 15
           },
           "zerolinecolor": "white",
           "zerolinewidth": 2
          },
          "yaxis": {
           "automargin": true,
           "gridcolor": "white",
           "linecolor": "white",
           "ticks": "",
           "title": {
            "standoff": 15
           },
           "zerolinecolor": "white",
           "zerolinewidth": 2
          }
         }
        }
       }
      }
     },
     "metadata": {},
     "output_type": "display_data"
    }
   ],
   "source": [
    "fig = px.scatter_3d(X_iris_scaled, x='sepal_length', y='sepal_width', z='petal_width',\n",
    "              color='petal_length', size='petal_length', size_max=18,\n",
    "              symbol='cluster', opacity=0.7)\n",
    "\n",
    "\n",
    "fig.show()"
   ]
  },
  {
   "cell_type": "code",
   "execution_count": 27,
   "metadata": {},
   "outputs": [
    {
     "data": {
      "image/png": "[encoded data removed]",
      "text/plain": [
       "<Figure size 432x288 with 1 Axes>"
      ]
     },
     "metadata": {
      "needs_background": "light"
     },
     "output_type": "display_data"
    }
   ],
   "source": [
    "sns.scatterplot(data=X, x=\"annual_income\", y=\"spending_score\",hue=\"cluster\")\n",
    "plt.show()"
   ]
  },
  {
   "cell_type": "code",
   "execution_count": 28,
   "metadata": {},
   "outputs": [
    {
     "data": {
      "image/png": "[encoded data removed]",
      "text/plain": [
       "<Figure size 432x288 with 1 Axes>"
      ]
     },
     "metadata": {
      "needs_background": "light"
     },
     "output_type": "display_data"
    }
   ],
   "source": [
    "sns.scatterplot(data=X_scaled, x=\"annual_income\", y=\"spending_score\",hue=\"cluster\")\n",
    "plt.show()"
   ]
  },
  {
   "cell_type": "code",
   "execution_count": 49,
   "metadata": {},
   "outputs": [
    {
     "data": {
      "text/html": [
       "<div>\n",
       "<style scoped>\n",
       "    .dataframe tbody tr th:only-of-type {\n",
       "        vertical-align: middle;\n",
       "    }\n",
       "\n",
       "    .dataframe tbody tr th {\n",
       "        vertical-align: top;\n",
       "    }\n",
       "\n",
       "    .dataframe thead th {\n",
       "        text-align: right;\n",
       "    }\n",
       "</style>\n",
       "<table border=\"1\" class=\"dataframe\">\n",
       "  <thead>\n",
       "    <tr style=\"text-align: right;\">\n",
       "      <th></th>\n",
       "      <th>sepal_length</th>\n",
       "      <th>sepal_width</th>\n",
       "      <th>petal_length</th>\n",
       "      <th>petal_width</th>\n",
       "      <th>cluster</th>\n",
       "    </tr>\n",
       "  </thead>\n",
       "  <tbody>\n",
       "    <tr>\n",
       "      <th>86</th>\n",
       "      <td>0.647059</td>\n",
       "      <td>0.55</td>\n",
       "      <td>0.649123</td>\n",
       "      <td>0.583333</td>\n",
       "      <td>2</td>\n",
       "    </tr>\n",
       "    <tr>\n",
       "      <th>82</th>\n",
       "      <td>0.382353</td>\n",
       "      <td>0.35</td>\n",
       "      <td>0.508772</td>\n",
       "      <td>0.458333</td>\n",
       "      <td>0</td>\n",
       "    </tr>\n",
       "    <tr>\n",
       "      <th>109</th>\n",
       "      <td>0.794118</td>\n",
       "      <td>0.80</td>\n",
       "      <td>0.894737</td>\n",
       "      <td>1.000000</td>\n",
       "      <td>2</td>\n",
       "    </tr>\n",
       "    <tr>\n",
       "      <th>147</th>\n",
       "      <td>0.588235</td>\n",
       "      <td>0.50</td>\n",
       "      <td>0.736842</td>\n",
       "      <td>0.791667</td>\n",
       "      <td>2</td>\n",
       "    </tr>\n",
       "    <tr>\n",
       "      <th>49</th>\n",
       "      <td>0.147059</td>\n",
       "      <td>0.65</td>\n",
       "      <td>0.070175</td>\n",
       "      <td>0.041667</td>\n",
       "      <td>1</td>\n",
       "    </tr>\n",
       "    <tr>\n",
       "      <th>...</th>\n",
       "      <td>...</td>\n",
       "      <td>...</td>\n",
       "      <td>...</td>\n",
       "      <td>...</td>\n",
       "      <td>...</td>\n",
       "    </tr>\n",
       "    <tr>\n",
       "      <th>78</th>\n",
       "      <td>0.441176</td>\n",
       "      <td>0.45</td>\n",
       "      <td>0.614035</td>\n",
       "      <td>0.583333</td>\n",
       "      <td>0</td>\n",
       "    </tr>\n",
       "    <tr>\n",
       "      <th>55</th>\n",
       "      <td>0.352941</td>\n",
       "      <td>0.40</td>\n",
       "      <td>0.614035</td>\n",
       "      <td>0.500000</td>\n",
       "      <td>0</td>\n",
       "    </tr>\n",
       "    <tr>\n",
       "      <th>125</th>\n",
       "      <td>0.794118</td>\n",
       "      <td>0.60</td>\n",
       "      <td>0.877193</td>\n",
       "      <td>0.708333</td>\n",
       "      <td>2</td>\n",
       "    </tr>\n",
       "    <tr>\n",
       "      <th>22</th>\n",
       "      <td>0.029412</td>\n",
       "      <td>0.80</td>\n",
       "      <td>0.000000</td>\n",
       "      <td>0.041667</td>\n",
       "      <td>1</td>\n",
       "    </tr>\n",
       "    <tr>\n",
       "      <th>113</th>\n",
       "      <td>0.352941</td>\n",
       "      <td>0.25</td>\n",
       "      <td>0.701754</td>\n",
       "      <td>0.791667</td>\n",
       "      <td>0</td>\n",
       "    </tr>\n",
       "  </tbody>\n",
       "</table>\n",
       "<p>90 rows × 5 columns</p>\n",
       "</div>"
      ],
      "text/plain": [
       "     sepal_length  sepal_width  petal_length  petal_width  cluster\n",
       "86       0.647059         0.55      0.649123     0.583333        2\n",
       "82       0.382353         0.35      0.508772     0.458333        0\n",
       "109      0.794118         0.80      0.894737     1.000000        2\n",
       "147      0.588235         0.50      0.736842     0.791667        2\n",
       "49       0.147059         0.65      0.070175     0.041667        1\n",
       "..            ...          ...           ...          ...      ...\n",
       "78       0.441176         0.45      0.614035     0.583333        0\n",
       "55       0.352941         0.40      0.614035     0.500000        0\n",
       "125      0.794118         0.60      0.877193     0.708333        2\n",
       "22       0.029412         0.80      0.000000     0.041667        1\n",
       "113      0.352941         0.25      0.701754     0.791667        0\n",
       "\n",
       "[90 rows x 5 columns]"
      ]
     },
     "execution_count": 49,
     "metadata": {},
     "output_type": "execute_result"
    }
   ],
   "source": [
    "X_iris_scaled"
   ]
  },
  {
   "cell_type": "code",
   "execution_count": 56,
   "metadata": {},
   "outputs": [
    {
     "data": {
      "text/html": [
       "<div>\n",
       "<style scoped>\n",
       "    .dataframe tbody tr th:only-of-type {\n",
       "        vertical-align: middle;\n",
       "    }\n",
       "\n",
       "    .dataframe tbody tr th {\n",
       "        vertical-align: top;\n",
       "    }\n",
       "\n",
       "    .dataframe thead th {\n",
       "        text-align: right;\n",
       "    }\n",
       "</style>\n",
       "<table border=\"1\" class=\"dataframe\">\n",
       "  <thead>\n",
       "    <tr style=\"text-align: right;\">\n",
       "      <th></th>\n",
       "      <th>sepal_length</th>\n",
       "      <th>sepal_width</th>\n",
       "      <th>petal_length</th>\n",
       "      <th>petal_width</th>\n",
       "      <th>cluster</th>\n",
       "    </tr>\n",
       "  </thead>\n",
       "  <tbody>\n",
       "    <tr>\n",
       "      <th>0</th>\n",
       "      <td>0.369485</td>\n",
       "      <td>0.317188</td>\n",
       "      <td>0.577303</td>\n",
       "      <td>0.526042</td>\n",
       "      <td>1.000000e+00</td>\n",
       "    </tr>\n",
       "    <tr>\n",
       "      <th>1</th>\n",
       "      <td>0.150327</td>\n",
       "      <td>0.696296</td>\n",
       "      <td>0.083821</td>\n",
       "      <td>0.066358</td>\n",
       "      <td>2.220446e-16</td>\n",
       "    </tr>\n",
       "    <tr>\n",
       "      <th>2</th>\n",
       "      <td>0.649905</td>\n",
       "      <td>0.562903</td>\n",
       "      <td>0.774759</td>\n",
       "      <td>0.763441</td>\n",
       "      <td>2.000000e+00</td>\n",
       "    </tr>\n",
       "  </tbody>\n",
       "</table>\n",
       "</div>"
      ],
      "text/plain": [
       "   sepal_length  sepal_width  petal_length  petal_width       cluster\n",
       "0      0.369485     0.317188      0.577303     0.526042  1.000000e+00\n",
       "1      0.150327     0.696296      0.083821     0.066358  2.220446e-16\n",
       "2      0.649905     0.562903      0.774759     0.763441  2.000000e+00"
      ]
     },
     "execution_count": 56,
     "metadata": {},
     "output_type": "execute_result"
    }
   ],
   "source": [
    "iris_centroids = pd.DataFrame(iris_kmeans.cluster_centers_, columns=X_iris_scaled.columns)\n",
    "iris_centroids"
   ]
  },
  {
   "cell_type": "code",
   "execution_count": 17,
   "metadata": {},
   "outputs": [
    {
     "data": {
      "text/html": [
       "<div>\n",
       "<style scoped>\n",
       "    .dataframe tbody tr th:only-of-type {\n",
       "        vertical-align: middle;\n",
       "    }\n",
       "\n",
       "    .dataframe tbody tr th {\n",
       "        vertical-align: top;\n",
       "    }\n",
       "\n",
       "    .dataframe thead th {\n",
       "        text-align: right;\n",
       "    }\n",
       "</style>\n",
       "<table border=\"1\" class=\"dataframe\">\n",
       "  <thead>\n",
       "    <tr style=\"text-align: right;\">\n",
       "      <th></th>\n",
       "      <th>age</th>\n",
       "      <th>annual_income</th>\n",
       "      <th>spending_score</th>\n",
       "    </tr>\n",
       "  </thead>\n",
       "  <tbody>\n",
       "    <tr>\n",
       "      <th>0</th>\n",
       "      <td>32.478261</td>\n",
       "      <td>87.304348</td>\n",
       "      <td>80.173913</td>\n",
       "    </tr>\n",
       "    <tr>\n",
       "      <th>1</th>\n",
       "      <td>44.956522</td>\n",
       "      <td>55.500000</td>\n",
       "      <td>49.217391</td>\n",
       "    </tr>\n",
       "    <tr>\n",
       "      <th>2</th>\n",
       "      <td>46.307692</td>\n",
       "      <td>26.461538</td>\n",
       "      <td>21.923077</td>\n",
       "    </tr>\n",
       "    <tr>\n",
       "      <th>3</th>\n",
       "      <td>23.250000</td>\n",
       "      <td>28.375000</td>\n",
       "      <td>77.062500</td>\n",
       "    </tr>\n",
       "    <tr>\n",
       "      <th>4</th>\n",
       "      <td>39.954545</td>\n",
       "      <td>84.590909</td>\n",
       "      <td>21.454545</td>\n",
       "    </tr>\n",
       "  </tbody>\n",
       "</table>\n",
       "</div>"
      ],
      "text/plain": [
       "         age  annual_income  spending_score\n",
       "0  32.478261      87.304348       80.173913\n",
       "1  44.956522      55.500000       49.217391\n",
       "2  46.307692      26.461538       21.923077\n",
       "3  23.250000      28.375000       77.062500\n",
       "4  39.954545      84.590909       21.454545"
      ]
     },
     "execution_count": 17,
     "metadata": {},
     "output_type": "execute_result"
    }
   ],
   "source": [
    "centroids = pd.DataFrame(kmeans.cluster_centers_, columns=X.drop(columns=\"cluster\").columns)\n",
    "centroids"
   ]
  },
  {
   "cell_type": "code",
   "execution_count": 18,
   "metadata": {},
   "outputs": [
    {
     "data": {
      "text/html": [
       "<div>\n",
       "<style scoped>\n",
       "    .dataframe tbody tr th:only-of-type {\n",
       "        vertical-align: middle;\n",
       "    }\n",
       "\n",
       "    .dataframe tbody tr th {\n",
       "        vertical-align: top;\n",
       "    }\n",
       "\n",
       "    .dataframe thead th {\n",
       "        text-align: right;\n",
       "    }\n",
       "</style>\n",
       "<table border=\"1\" class=\"dataframe\">\n",
       "  <thead>\n",
       "    <tr style=\"text-align: right;\">\n",
       "      <th></th>\n",
       "      <th>age</th>\n",
       "      <th>annual_income</th>\n",
       "      <th>spending_score</th>\n",
       "    </tr>\n",
       "  </thead>\n",
       "  <tbody>\n",
       "    <tr>\n",
       "      <th>0</th>\n",
       "      <td>0.107692</td>\n",
       "      <td>0.098907</td>\n",
       "      <td>0.821986</td>\n",
       "    </tr>\n",
       "    <tr>\n",
       "      <th>1</th>\n",
       "      <td>0.733368</td>\n",
       "      <td>0.288436</td>\n",
       "      <td>0.441921</td>\n",
       "    </tr>\n",
       "    <tr>\n",
       "      <th>2</th>\n",
       "      <td>0.284455</td>\n",
       "      <td>0.586407</td>\n",
       "      <td>0.832447</td>\n",
       "    </tr>\n",
       "    <tr>\n",
       "      <th>3</th>\n",
       "      <td>0.504808</td>\n",
       "      <td>0.602971</td>\n",
       "      <td>0.201463</td>\n",
       "    </tr>\n",
       "    <tr>\n",
       "      <th>4</th>\n",
       "      <td>0.163462</td>\n",
       "      <td>0.305328</td>\n",
       "      <td>0.418313</td>\n",
       "    </tr>\n",
       "  </tbody>\n",
       "</table>\n",
       "</div>"
      ],
      "text/plain": [
       "        age  annual_income  spending_score\n",
       "0  0.107692       0.098907        0.821986\n",
       "1  0.733368       0.288436        0.441921\n",
       "2  0.284455       0.586407        0.832447\n",
       "3  0.504808       0.602971        0.201463\n",
       "4  0.163462       0.305328        0.418313"
      ]
     },
     "execution_count": 18,
     "metadata": {},
     "output_type": "execute_result"
    }
   ],
   "source": [
    "centroids_scaled = pd.DataFrame(kmeans_scaled.cluster_centers_, columns=X_scaled.drop(columns=\"cluster\").columns)\n",
    "centroids_scaled"
   ]
  },
  {
   "cell_type": "code",
   "execution_count": 61,
   "metadata": {},
   "outputs": [
    {
     "data": {
      "text/plain": [
       "Text(0.5, 1.0, 'Visualizing Cluster Centers')"
      ]
     },
     "execution_count": 61,
     "metadata": {},
     "output_type": "execute_result"
    },
    {
     "data": {
      "image/png": "[encoded data removed]",
      "text/plain": [
       "<Figure size 1008x648 with 1 Axes>"
      ]
     },
     "metadata": {
      "needs_background": "light"
     },
     "output_type": "display_data"
    }
   ],
   "source": [
    "\n",
    "plt.figure(figsize=(14, 9))\n",
    "\n",
    "for cluster, subset in X_iris_scaled.groupby('cluster'):\n",
    "    plt.scatter(subset.petal_length, subset.petal_width, label='cluster ' + str(cluster), alpha=.6)\n",
    "\n",
    "iris_centroids.plot.scatter(y='petal_length', x='petal_width', c='black', marker='x', s=1000, ax=plt.gca(), label='centroid')\n",
    "\n",
    "plt.legend()\n",
    "plt.xlabel('petal_width')\n",
    "plt.ylabel('petal_length')\n",
    "plt.title('Visualizing Cluster Centers')"
   ]
  },
  {
   "cell_type": "code",
   "execution_count": 20,
   "metadata": {},
   "outputs": [
    {
     "data": {
      "text/plain": [
       "Text(0.5, 1.0, 'Visualizing Cluster Centers')"
      ]
     },
     "execution_count": 20,
     "metadata": {},
     "output_type": "execute_result"
    },
    {
     "data": {
      "image/png": "[encoded data removed]",
      "text/plain": [
       "<Figure size 1008x648 with 1 Axes>"
      ]
     },
     "metadata": {
      "needs_background": "light"
     },
     "output_type": "display_data"
    }
   ],
   "source": [
    "\n",
    "plt.figure(figsize=(14, 9))\n",
    "\n",
    "for cluster, subset in X.groupby('cluster'):\n",
    "    plt.scatter(subset.annual_income, subset.spending_score, label='cluster ' + str(cluster), alpha=.6)\n",
    "\n",
    "centroids.plot.scatter(y='spending_score', x='annual_income', c='black', marker='x', s=1000, ax=plt.gca(), label='centroid')\n",
    "\n",
    "plt.legend()\n",
    "plt.xlabel('annual_income')\n",
    "plt.ylabel('spending_score')\n",
    "plt.title('Visualizing Cluster Centers')"
   ]
  },
  {
   "cell_type": "code",
   "execution_count": 22,
   "metadata": {},
   "outputs": [
    {
     "data": {
      "text/plain": [
       "Text(0.5, 1.0, 'Visualizing Cluster Centers')"
      ]
     },
     "execution_count": 22,
     "metadata": {},
     "output_type": "execute_result"
    },
    {
     "data": {
      "image/png": "[encoded data removed]",
      "text/plain": [
       "<Figure size 1008x648 with 1 Axes>"
      ]
     },
     "metadata": {
      "needs_background": "light"
     },
     "output_type": "display_data"
    }
   ],
   "source": [
    "\n",
    "plt.figure(figsize=(14, 9))\n",
    "\n",
    "for cluster, subset in X_scaled.groupby('cluster'):\n",
    "    plt.scatter(subset.annual_income, subset.spending_score, label='cluster ' + str(cluster), alpha=.6)\n",
    "\n",
    "centroids_scaled.plot.scatter(y='spending_score', x='annual_income', c='black', marker='x', s=1000, ax=plt.gca(), label='centroid')\n",
    "\n",
    "plt.legend()\n",
    "plt.xlabel('annual_income')\n",
    "plt.ylabel('spending_score')\n",
    "plt.title('Visualizing Cluster Centers')"
   ]
  },
  {
   "cell_type": "markdown",
   "metadata": {},
   "source": [
    "# How does scaling impact the results of clustering?\n",
    "\n",
    "age plays a more equal part in the decison of the cluster"
   ]
  },
  {
   "cell_type": "code",
   "execution_count": null,
   "metadata": {},
   "outputs": [],
   "source": []
  }
 ],
 "metadata": {
  "kernelspec": {
   "display_name": "Python 3.9.12 ('base')",
   "language": "python",
   "name": "python3"
  },
  "language_info": {
   "codemirror_mode": {
    "name": "ipython",
    "version": 3
   },
   "file_extension": ".py",
   "mimetype": "text/x-python",
   "name": "python",
   "nbconvert_exporter": "python",
   "pygments_lexer": "ipython3",
   "version": "3.9.12"
  },
  "orig_nbformat": 4,
  "vscode": {
   "interpreter": {
    "hash": "3067ead486e059ec00ffe7555bdb889e6e264a24dc711bf108106cc7baee8d5d"
   }
  }
 },
 "nbformat": 4,
 "nbformat_minor": 2
}
